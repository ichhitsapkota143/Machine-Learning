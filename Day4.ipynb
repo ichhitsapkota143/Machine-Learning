{
  "nbformat": 4,
  "nbformat_minor": 0,
  "metadata": {
    "colab": {
      "provenance": [],
      "authorship_tag": "ABX9TyOvkl/NK2CxdkbUvFH87219",
      "include_colab_link": true
    },
    "kernelspec": {
      "name": "python3",
      "display_name": "Python 3"
    },
    "language_info": {
      "name": "python"
    }
  },
  "cells": [
    {
      "cell_type": "markdown",
      "metadata": {
        "id": "view-in-github",
        "colab_type": "text"
      },
      "source": [
        "<a href=\"https://colab.research.google.com/github/ichhitsapkota143/Machine-Learning/blob/main/Day4.ipynb\" target=\"_parent\"><img src=\"https://colab.research.google.com/assets/colab-badge.svg\" alt=\"Open In Colab\"/></a>"
      ]
    },
    {
      "cell_type": "markdown",
      "source": [
        "# **Frozen sets**\n",
        "They are immutable sets"
      ],
      "metadata": {
        "id": "dHBdZlORfpMe"
      }
    },
    {
      "cell_type": "code",
      "source": [
        "fs1=frozenset([1,2,3]) #list\n",
        "fs2=frozenset((100,200,300)) #tupple\n",
        "fs3=frozenset({10,20,30}) #set\n",
        "print(fs1)\n",
        "print(type(fs1))\n",
        "print(fs2)\n",
        "print(type(fs2))\n",
        "print(fs3)\n",
        "print(type(fs3))"
      ],
      "metadata": {
        "colab": {
          "base_uri": "https://localhost:8080/"
        },
        "id": "Yx_ONSTjfw1g",
        "outputId": "e58493a5-7b87-454b-e608-f149a88fd8dc"
      },
      "execution_count": null,
      "outputs": [
        {
          "output_type": "stream",
          "name": "stdout",
          "text": [
            "frozenset({1, 2, 3})\n",
            "<class 'frozenset'>\n",
            "frozenset({200, 100, 300})\n",
            "<class 'frozenset'>\n",
            "frozenset({10, 20, 30})\n",
            "<class 'frozenset'>\n"
          ]
        }
      ]
    },
    {
      "cell_type": "code",
      "source": [
        "frozenset(fs1|fs2)"
      ],
      "metadata": {
        "colab": {
          "base_uri": "https://localhost:8080/"
        },
        "id": "7lWlkk-0f8lw",
        "outputId": "da139904-d509-4aad-d585-796e6bbaefb6"
      },
      "execution_count": null,
      "outputs": [
        {
          "output_type": "execute_result",
          "data": {
            "text/plain": [
              "frozenset({1, 2, 3, 100, 200, 300})"
            ]
          },
          "metadata": {},
          "execution_count": 7
        }
      ]
    },
    {
      "cell_type": "code",
      "source": [
        "frozenset(fs1&fs2)"
      ],
      "metadata": {
        "colab": {
          "base_uri": "https://localhost:8080/"
        },
        "id": "z6n6ViwWgW3n",
        "outputId": "84a1265d-8808-42d8-af18-c250a6fabe01"
      },
      "execution_count": null,
      "outputs": [
        {
          "output_type": "execute_result",
          "data": {
            "text/plain": [
              "frozenset()"
            ]
          },
          "metadata": {},
          "execution_count": 8
        }
      ]
    },
    {
      "cell_type": "code",
      "source": [
        "#2d frozen set\n",
        "fsd=frozenset([1,2,[3,4]])"
      ],
      "metadata": {
        "colab": {
          "base_uri": "https://localhost:8080/",
          "height": 159
        },
        "id": "9PMHajdOgiCw",
        "outputId": "5911cd57-2042-4063-9f8f-6d476245a91b"
      },
      "execution_count": null,
      "outputs": [
        {
          "output_type": "error",
          "ename": "TypeError",
          "evalue": "unhashable type: 'list'",
          "traceback": [
            "\u001b[0;31m---------------------------------------------------------------------------\u001b[0m",
            "\u001b[0;31mTypeError\u001b[0m                                 Traceback (most recent call last)",
            "\u001b[0;32m<ipython-input-10-56d3ec1af565>\u001b[0m in \u001b[0;36m<cell line: 0>\u001b[0;34m()\u001b[0m\n\u001b[1;32m      1\u001b[0m \u001b[0;31m#2d frozen set\u001b[0m\u001b[0;34m\u001b[0m\u001b[0;34m\u001b[0m\u001b[0m\n\u001b[0;32m----> 2\u001b[0;31m \u001b[0mfsd\u001b[0m\u001b[0;34m=\u001b[0m\u001b[0mfrozenset\u001b[0m\u001b[0;34m(\u001b[0m\u001b[0;34m[\u001b[0m\u001b[0;36m1\u001b[0m\u001b[0;34m,\u001b[0m\u001b[0;36m2\u001b[0m\u001b[0;34m,\u001b[0m\u001b[0;34m[\u001b[0m\u001b[0;36m3\u001b[0m\u001b[0;34m,\u001b[0m\u001b[0;36m4\u001b[0m\u001b[0;34m]\u001b[0m\u001b[0;34m]\u001b[0m\u001b[0;34m)\u001b[0m\u001b[0;34m\u001b[0m\u001b[0;34m\u001b[0m\u001b[0m\n\u001b[0m",
            "\u001b[0;31mTypeError\u001b[0m: unhashable type: 'list'"
          ]
        }
      ]
    },
    {
      "cell_type": "code",
      "source": [
        "#we cannt make 2d frozen sets, cuz same as set they cannot have mutable elements"
      ],
      "metadata": {
        "id": "-F9eCTuEjT2w"
      },
      "execution_count": null,
      "outputs": []
    },
    {
      "cell_type": "code",
      "source": [
        "#2d frozen set\n",
        "fsd=frozenset((1,2,(3,4)))\n",
        "fsd"
      ],
      "metadata": {
        "colab": {
          "base_uri": "https://localhost:8080/"
        },
        "id": "Pb1SRGsCjedx",
        "outputId": "0ee0bd63-d52c-4c0d-da4e-a740efe8c321"
      },
      "execution_count": null,
      "outputs": [
        {
          "output_type": "execute_result",
          "data": {
            "text/plain": [
              "frozenset({(3, 4), 1, 2})"
            ]
          },
          "metadata": {},
          "execution_count": 13
        }
      ]
    },
    {
      "cell_type": "code",
      "source": [
        "#similar to list, as tuple is immutable, it can have immutable set"
      ],
      "metadata": {
        "id": "BTPt8yRKjj-g"
      },
      "execution_count": null,
      "outputs": []
    },
    {
      "cell_type": "code",
      "source": [
        "fsf=frozenset((1,2,frozenset((3,4))))\n",
        "fsf"
      ],
      "metadata": {
        "colab": {
          "base_uri": "https://localhost:8080/"
        },
        "id": "36g8wudGjsgH",
        "outputId": "57e724ee-417b-4329-a470-af251671a2b5"
      },
      "execution_count": null,
      "outputs": [
        {
          "output_type": "execute_result",
          "data": {
            "text/plain": [
              "frozenset({1, 2, frozenset({3, 4})})"
            ]
          },
          "metadata": {},
          "execution_count": 19
        }
      ]
    },
    {
      "cell_type": "code",
      "source": [
        "type(fsf)"
      ],
      "metadata": {
        "colab": {
          "base_uri": "https://localhost:8080/"
        },
        "id": "47gFSQibjw-v",
        "outputId": "16076a4c-9449-46d7-ed56-6bf291dce1a7"
      },
      "execution_count": null,
      "outputs": [
        {
          "output_type": "execute_result",
          "data": {
            "text/plain": [
              "frozenset"
            ]
          },
          "metadata": {},
          "execution_count": 22
        }
      ]
    },
    {
      "cell_type": "markdown",
      "source": [
        "# ***Dictionary***\n",
        "Dictionary is a collection of keys values, used to store data values like a map,which unlike other data types hold only a single value as element\n",
        "i.e it has a key value pair\n",
        "\n"
      ],
      "metadata": {
        "id": "rTWlKZuxkOUT"
      }
    },
    {
      "cell_type": "code",
      "source": [
        "dic={1:'helllo',2:'world'}"
      ],
      "metadata": {
        "id": "RK3SCaUlkNwr"
      },
      "execution_count": null,
      "outputs": []
    },
    {
      "cell_type": "code",
      "source": [
        "print(dic)\n",
        "print(type(dic))"
      ],
      "metadata": {
        "colab": {
          "base_uri": "https://localhost:8080/"
        },
        "id": "7mdOd2CDkueg",
        "outputId": "2c389f76-6d7b-4c5b-a80c-330ab19235a6"
      },
      "execution_count": null,
      "outputs": [
        {
          "output_type": "stream",
          "name": "stdout",
          "text": [
            "{1: 'helllo', 2: 'world'}\n",
            "<class 'dict'>\n"
          ]
        }
      ]
    },
    {
      "cell_type": "code",
      "source": [
        "#dictionary are mutable, no indexing, keys cant be duplicate and mutable"
      ],
      "metadata": {
        "id": "QSUb38oCkyMT"
      },
      "execution_count": null,
      "outputs": []
    },
    {
      "cell_type": "code",
      "source": [
        "#empty dict\n",
        "d={}\n",
        "print(d)\n",
        "print(type(d))"
      ],
      "metadata": {
        "colab": {
          "base_uri": "https://localhost:8080/"
        },
        "id": "6Yb68ICSk7tO",
        "outputId": "c007704f-29a6-4cf7-e26b-329a01935f00"
      },
      "execution_count": null,
      "outputs": [
        {
          "output_type": "stream",
          "name": "stdout",
          "text": [
            "{}\n",
            "<class 'dict'>\n"
          ]
        }
      ]
    },
    {
      "cell_type": "code",
      "source": [
        "#1d dict\n",
        "dict={1:'hello',2:'world'}\n",
        "print(dict)\n",
        "print(type(dict))"
      ],
      "metadata": {
        "colab": {
          "base_uri": "https://localhost:8080/"
        },
        "id": "yqQ-ubFalC8w",
        "outputId": "7acc8583-7880-435c-9e0f-80d30c0a2568"
      },
      "execution_count": null,
      "outputs": [
        {
          "output_type": "stream",
          "name": "stdout",
          "text": [
            "{1: 'hello', 2: 'world'}\n",
            "<class 'dict'>\n"
          ]
        }
      ]
    },
    {
      "cell_type": "code",
      "source": [
        "#mixed key dictionary\n",
        "d2={(1,2,3):1,'hello':'world'}\n",
        "d2"
      ],
      "metadata": {
        "colab": {
          "base_uri": "https://localhost:8080/"
        },
        "id": "v7PKFaMslIdv",
        "outputId": "8077efe1-c31c-4938-eb41-944d3b63702e"
      },
      "execution_count": null,
      "outputs": [
        {
          "output_type": "execute_result",
          "data": {
            "text/plain": [
              "{(1, 2, 3): 1, 'hello': 'world'}"
            ]
          },
          "metadata": {},
          "execution_count": 30
        }
      ]
    },
    {
      "cell_type": "code",
      "source": [
        "#2d dictionary\n",
        "d={\n",
        "    'name':'Ichhit',\n",
        "    'college':'Cosmos',\n",
        "    'sem':4,\n",
        "    'subjects':{\n",
        "        'dsa':50,\n",
        "        'maths':90,\n",
        "        'english':76\n",
        "    }\n",
        "}"
      ],
      "metadata": {
        "id": "jo-VRxdslT6v"
      },
      "execution_count": null,
      "outputs": []
    },
    {
      "cell_type": "code",
      "source": [
        "#here subject is another dictionary inside a dict d"
      ],
      "metadata": {
        "id": "jN46SaGfl215"
      },
      "execution_count": null,
      "outputs": []
    },
    {
      "cell_type": "code",
      "source": [
        "d"
      ],
      "metadata": {
        "colab": {
          "base_uri": "https://localhost:8080/"
        },
        "id": "Ta02qfuyl6xP",
        "outputId": "46312960-58ee-47e9-893a-1bfd475465a0"
      },
      "execution_count": null,
      "outputs": [
        {
          "output_type": "execute_result",
          "data": {
            "text/plain": [
              "{'name': 'Ichhit',\n",
              " 'college': 'Cosmos',\n",
              " 'sem': 4,\n",
              " 'subjects': {'dsa': 50, 'maths': 90, 'english': 76}}"
            ]
          },
          "metadata": {},
          "execution_count": 33
        }
      ]
    },
    {
      "cell_type": "code",
      "source": [
        "d.keys()"
      ],
      "metadata": {
        "colab": {
          "base_uri": "https://localhost:8080/"
        },
        "id": "q7IHwQHNl-_n",
        "outputId": "2d00d499-147b-4c55-f176-f0343cad38a1"
      },
      "execution_count": null,
      "outputs": [
        {
          "output_type": "execute_result",
          "data": {
            "text/plain": [
              "dict_keys(['name', 'college', 'sem', 'subjects'])"
            ]
          },
          "metadata": {},
          "execution_count": 39
        }
      ]
    },
    {
      "cell_type": "code",
      "source": [
        "#dictionary using type conversion\n",
        "d4= dict([('name','Ichhit'),('college','Cosmos')])\n",
        "d4\n"
      ],
      "metadata": {
        "colab": {
          "base_uri": "https://localhost:8080/"
        },
        "id": "673GpSAjmBIH",
        "outputId": "4f4384a8-530a-4cd9-d392-3a64cef8cab1"
      },
      "execution_count": null,
      "outputs": [
        {
          "output_type": "execute_result",
          "data": {
            "text/plain": [
              "{'name': 'Ichhit', 'college': 'Cosmos'}"
            ]
          },
          "metadata": {},
          "execution_count": 44
        }
      ]
    },
    {
      "cell_type": "code",
      "source": [
        "#duplicate keys\n",
        "d5={'name':'Ichhit','name':'Cosmos'}\n",
        "d5"
      ],
      "metadata": {
        "colab": {
          "base_uri": "https://localhost:8080/"
        },
        "id": "TcB5Lkdhmbpx",
        "outputId": "69909b62-de0b-4335-bb76-13e70b340a71"
      },
      "execution_count": null,
      "outputs": [
        {
          "output_type": "execute_result",
          "data": {
            "text/plain": [
              "{'name': 'Cosmos'}"
            ]
          },
          "metadata": {},
          "execution_count": 45
        }
      ]
    },
    {
      "cell_type": "code",
      "source": [
        "#duplicate keys are not allowed"
      ],
      "metadata": {
        "id": "RF2mMe4JnkJY"
      },
      "execution_count": null,
      "outputs": []
    },
    {
      "cell_type": "code",
      "source": [
        "#mutable items as key are not allowed, so list are not allowed as keys but tuple are\n",
        "d6={'name':'Ichhit',[1,2,3]:5}"
      ],
      "metadata": {
        "colab": {
          "base_uri": "https://localhost:8080/",
          "height": 159
        },
        "id": "RppHqX3lnnYg",
        "outputId": "92a5cbf3-ba09-487b-e0d5-13d42f62de7d"
      },
      "execution_count": null,
      "outputs": [
        {
          "output_type": "error",
          "ename": "TypeError",
          "evalue": "unhashable type: 'list'",
          "traceback": [
            "\u001b[0;31m---------------------------------------------------------------------------\u001b[0m",
            "\u001b[0;31mTypeError\u001b[0m                                 Traceback (most recent call last)",
            "\u001b[0;32m<ipython-input-48-7954d42c83e1>\u001b[0m in \u001b[0;36m<cell line: 0>\u001b[0;34m()\u001b[0m\n\u001b[1;32m      1\u001b[0m \u001b[0;31m#mutable items as key are not allowed, so list are not allowed as keys but tuple are\u001b[0m\u001b[0;34m\u001b[0m\u001b[0;34m\u001b[0m\u001b[0m\n\u001b[0;32m----> 2\u001b[0;31m \u001b[0md6\u001b[0m\u001b[0;34m=\u001b[0m\u001b[0;34m{\u001b[0m\u001b[0;34m'name'\u001b[0m\u001b[0;34m:\u001b[0m\u001b[0;34m'Ichhit'\u001b[0m\u001b[0;34m,\u001b[0m\u001b[0;34m[\u001b[0m\u001b[0;36m1\u001b[0m\u001b[0;34m,\u001b[0m\u001b[0;36m2\u001b[0m\u001b[0;34m,\u001b[0m\u001b[0;36m3\u001b[0m\u001b[0;34m]\u001b[0m\u001b[0;34m:\u001b[0m\u001b[0;36m5\u001b[0m\u001b[0;34m}\u001b[0m\u001b[0;34m\u001b[0m\u001b[0;34m\u001b[0m\u001b[0m\n\u001b[0m",
            "\u001b[0;31mTypeError\u001b[0m: unhashable type: 'list'"
          ]
        }
      ]
    },
    {
      "cell_type": "code",
      "source": [
        "my_dict={'name':'Ichhit','college':'Cosmos' }"
      ],
      "metadata": {
        "id": "-vhMISTqnwXg"
      },
      "execution_count": null,
      "outputs": []
    },
    {
      "cell_type": "code",
      "source": [
        "my_dict[0]"
      ],
      "metadata": {
        "colab": {
          "base_uri": "https://localhost:8080/",
          "height": 141
        },
        "id": "eyRck6d4oE_I",
        "outputId": "2034899d-0f62-4175-8789-4f7f271f2fa7"
      },
      "execution_count": null,
      "outputs": [
        {
          "output_type": "error",
          "ename": "KeyError",
          "evalue": "0",
          "traceback": [
            "\u001b[0;31m---------------------------------------------------------------------------\u001b[0m",
            "\u001b[0;31mKeyError\u001b[0m                                  Traceback (most recent call last)",
            "\u001b[0;32m<ipython-input-50-2e042f7087f7>\u001b[0m in \u001b[0;36m<cell line: 0>\u001b[0;34m()\u001b[0m\n\u001b[0;32m----> 1\u001b[0;31m \u001b[0mmy_dict\u001b[0m\u001b[0;34m[\u001b[0m\u001b[0;36m0\u001b[0m\u001b[0;34m]\u001b[0m\u001b[0;34m\u001b[0m\u001b[0;34m\u001b[0m\u001b[0m\n\u001b[0m",
            "\u001b[0;31mKeyError\u001b[0m: 0"
          ]
        }
      ]
    },
    {
      "cell_type": "code",
      "source": [
        "#not allowed becauses no indexing on a dictionary"
      ],
      "metadata": {
        "id": "iJ3JXHGioHQA"
      },
      "execution_count": null,
      "outputs": []
    },
    {
      "cell_type": "code",
      "source": [
        "my_dict['name'] #passing corresponding key to get value"
      ],
      "metadata": {
        "colab": {
          "base_uri": "https://localhost:8080/",
          "height": 35
        },
        "id": "hbI51bZooLMo",
        "outputId": "bb44de96-f378-4b43-e933-09e4c74d8e9b"
      },
      "execution_count": null,
      "outputs": [
        {
          "output_type": "execute_result",
          "data": {
            "text/plain": [
              "'Ichhit'"
            ],
            "application/vnd.google.colaboratory.intrinsic+json": {
              "type": "string"
            }
          },
          "metadata": {},
          "execution_count": 54
        }
      ]
    },
    {
      "cell_type": "code",
      "source": [
        "my_dict['college']"
      ],
      "metadata": {
        "colab": {
          "base_uri": "https://localhost:8080/",
          "height": 35
        },
        "id": "J-9FVoqBoNrv",
        "outputId": "3a834152-372d-46d2-a899-c6fc55015128"
      },
      "execution_count": null,
      "outputs": [
        {
          "output_type": "execute_result",
          "data": {
            "text/plain": [
              "'Cosmos'"
            ],
            "application/vnd.google.colaboratory.intrinsic+json": {
              "type": "string"
            }
          },
          "metadata": {},
          "execution_count": 53
        }
      ]
    },
    {
      "cell_type": "code",
      "source": [
        "#get function\n",
        "my_dict.get('name')"
      ],
      "metadata": {
        "colab": {
          "base_uri": "https://localhost:8080/",
          "height": 35
        },
        "id": "YyKa8oxuoPT3",
        "outputId": "d70dc5c7-fbb5-4d6d-fa11-7adc112d4464"
      },
      "execution_count": null,
      "outputs": [
        {
          "output_type": "execute_result",
          "data": {
            "text/plain": [
              "'Ichhit'"
            ],
            "application/vnd.google.colaboratory.intrinsic+json": {
              "type": "string"
            }
          },
          "metadata": {},
          "execution_count": 57
        }
      ]
    },
    {
      "cell_type": "code",
      "source": [
        "my_dict.get('college')"
      ],
      "metadata": {
        "colab": {
          "base_uri": "https://localhost:8080/",
          "height": 35
        },
        "id": "IXK0If7lob-H",
        "outputId": "773b601c-1622-439f-9c02-7b569ae98126"
      },
      "execution_count": null,
      "outputs": [
        {
          "output_type": "execute_result",
          "data": {
            "text/plain": [
              "'Cosmos'"
            ],
            "application/vnd.google.colaboratory.intrinsic+json": {
              "type": "string"
            }
          },
          "metadata": {},
          "execution_count": 58
        }
      ]
    },
    {
      "cell_type": "code",
      "source": [
        "#adding new element to the dict\n",
        "my_dict"
      ],
      "metadata": {
        "colab": {
          "base_uri": "https://localhost:8080/"
        },
        "id": "e-xEdYy4oiRv",
        "outputId": "090b34a0-5e10-4725-c766-805765c6b0b6"
      },
      "execution_count": null,
      "outputs": [
        {
          "output_type": "execute_result",
          "data": {
            "text/plain": [
              "{'name': 'Ichhit', 'college': 'Cosmos'}"
            ]
          },
          "metadata": {},
          "execution_count": 59
        }
      ]
    },
    {
      "cell_type": "markdown",
      "source": [
        "dict_name[key]=value"
      ],
      "metadata": {
        "id": "F9SeA9yco0UU"
      }
    },
    {
      "cell_type": "code",
      "source": [
        "my_dict['gender']='Male'"
      ],
      "metadata": {
        "id": "TFFJbMR6onsn"
      },
      "execution_count": null,
      "outputs": []
    },
    {
      "cell_type": "code",
      "source": [
        "my_dict"
      ],
      "metadata": {
        "colab": {
          "base_uri": "https://localhost:8080/"
        },
        "id": "YCs3qGFqorAX",
        "outputId": "81568dbf-3991-4b85-f3c1-a00e01e6d395"
      },
      "execution_count": null,
      "outputs": [
        {
          "output_type": "execute_result",
          "data": {
            "text/plain": [
              "{'name': 'Ichhit', 'college': 'Cosmos', 'gender': 'Male'}"
            ]
          },
          "metadata": {},
          "execution_count": 61
        }
      ]
    },
    {
      "cell_type": "code",
      "source": [
        "my_dict['age']=23"
      ],
      "metadata": {
        "id": "kqwuxosposKo"
      },
      "execution_count": null,
      "outputs": []
    },
    {
      "cell_type": "code",
      "source": [
        "my_dict"
      ],
      "metadata": {
        "colab": {
          "base_uri": "https://localhost:8080/"
        },
        "id": "nw3QuxEyowWY",
        "outputId": "c71d88e4-2e64-4af6-a8ef-efa251817726"
      },
      "execution_count": null,
      "outputs": [
        {
          "output_type": "execute_result",
          "data": {
            "text/plain": [
              "{'name': 'Ichhit', 'college': 'Cosmos', 'gender': 'Male', 'age': 23}"
            ]
          },
          "metadata": {},
          "execution_count": 63
        }
      ]
    },
    {
      "cell_type": "code",
      "source": [
        "#removing the key value pair\n",
        "#pop\n",
        "#popitem\n",
        "#del\n",
        "#clear"
      ],
      "metadata": {
        "id": "BvQvZoEIoxkP"
      },
      "execution_count": null,
      "outputs": []
    },
    {
      "cell_type": "code",
      "source": [
        "my_dict"
      ],
      "metadata": {
        "colab": {
          "base_uri": "https://localhost:8080/"
        },
        "id": "WXFur4UNpBU_",
        "outputId": "e7362c00-5337-4968-da49-bfedc70546d0"
      },
      "execution_count": null,
      "outputs": [
        {
          "output_type": "execute_result",
          "data": {
            "text/plain": [
              "{'name': 'Ichhit', 'college': 'Cosmos', 'gender': 'Male', 'age': 23}"
            ]
          },
          "metadata": {},
          "execution_count": 65
        }
      ]
    },
    {
      "cell_type": "code",
      "source": [
        "#pop\n",
        "my_dict.pop('gender')\n",
        "my_dict"
      ],
      "metadata": {
        "colab": {
          "base_uri": "https://localhost:8080/"
        },
        "id": "QeDy9bSKpCZH",
        "outputId": "9f85d273-81ba-4f14-c71f-15484777bf19"
      },
      "execution_count": null,
      "outputs": [
        {
          "output_type": "execute_result",
          "data": {
            "text/plain": [
              "{'name': 'Ichhit', 'college': 'Cosmos', 'age': 23}"
            ]
          },
          "metadata": {},
          "execution_count": 66
        }
      ]
    },
    {
      "cell_type": "code",
      "source": [
        "#popitem\n",
        "my_dict.popitem()\n",
        "my_dict\n",
        "#it deletes last item in the dictionary"
      ],
      "metadata": {
        "colab": {
          "base_uri": "https://localhost:8080/"
        },
        "id": "TBJ6VxFbpJkP",
        "outputId": "1f3e80e1-f363-4754-91e4-7874982b6c2a"
      },
      "execution_count": null,
      "outputs": [
        {
          "output_type": "execute_result",
          "data": {
            "text/plain": [
              "{'name': 'Ichhit'}"
            ]
          },
          "metadata": {},
          "execution_count": 68
        }
      ]
    },
    {
      "cell_type": "code",
      "source": [
        "#del\n",
        "del my_dict['name']\n",
        "my_dict\n",
        "#similar to pop"
      ],
      "metadata": {
        "colab": {
          "base_uri": "https://localhost:8080/"
        },
        "id": "t5MmyHa1pS-o",
        "outputId": "f52cbde6-f750-4db4-b482-c1e1ccd79e06"
      },
      "execution_count": null,
      "outputs": [
        {
          "output_type": "execute_result",
          "data": {
            "text/plain": [
              "{}"
            ]
          },
          "metadata": {},
          "execution_count": 70
        }
      ]
    },
    {
      "cell_type": "code",
      "source": [
        "#clear\n",
        "print(d)\n",
        "d.clear()\n",
        "print(d)"
      ],
      "metadata": {
        "colab": {
          "base_uri": "https://localhost:8080/"
        },
        "id": "btQE0tPQpa1g",
        "outputId": "a0cafd79-ae30-42ec-a000-500a1cd55c8b"
      },
      "execution_count": null,
      "outputs": [
        {
          "output_type": "stream",
          "name": "stdout",
          "text": [
            "{'name': 'Ichhit', 'college': 'Cosmos', 'sem': 4, 'subjects': {'dsa': 50, 'maths': 90, 'english': 76}}\n",
            "{}\n"
          ]
        }
      ]
    },
    {
      "cell_type": "code",
      "source": [
        "#2d dictionary\n",
        "d={\n",
        "    'name':'Ichhit',\n",
        "    'college':'Cosmos',\n",
        "    'sem':4,\n",
        "    'subjects':{\n",
        "        'dsa':50,\n",
        "        'maths':90,\n",
        "        'english':76\n",
        "    }\n",
        "}"
      ],
      "metadata": {
        "id": "stfQON4YplIn"
      },
      "execution_count": null,
      "outputs": []
    },
    {
      "cell_type": "code",
      "source": [
        "d"
      ],
      "metadata": {
        "colab": {
          "base_uri": "https://localhost:8080/"
        },
        "id": "xT4SIwYLp_94",
        "outputId": "8c4f3a7b-673d-4a14-cc39-ac0912b3cd30"
      },
      "execution_count": null,
      "outputs": [
        {
          "output_type": "execute_result",
          "data": {
            "text/plain": [
              "{'name': 'Ichhit',\n",
              " 'college': 'Cosmos',\n",
              " 'sem': 4,\n",
              " 'subjects': {'dsa': 50, 'maths': 90, 'english': 76}}"
            ]
          },
          "metadata": {},
          "execution_count": 76
        }
      ]
    },
    {
      "cell_type": "code",
      "source": [
        "#access item from 2-d dict\n",
        "d['name']"
      ],
      "metadata": {
        "colab": {
          "base_uri": "https://localhost:8080/",
          "height": 35
        },
        "id": "vnGE5HjKqAsv",
        "outputId": "2ab29a39-1569-44dd-e82e-64a814fd00ff"
      },
      "execution_count": null,
      "outputs": [
        {
          "output_type": "execute_result",
          "data": {
            "text/plain": [
              "'Ichhit'"
            ],
            "application/vnd.google.colaboratory.intrinsic+json": {
              "type": "string"
            }
          },
          "metadata": {},
          "execution_count": 79
        }
      ]
    },
    {
      "cell_type": "code",
      "source": [
        "d['subjects']['dsa'] #to obtain the mark from 2d dict value of dsa"
      ],
      "metadata": {
        "colab": {
          "base_uri": "https://localhost:8080/"
        },
        "id": "nuDGJYxUqGmY",
        "outputId": "7c4f6a9a-8d4f-45ee-c410-5f9270072ee8"
      },
      "execution_count": null,
      "outputs": [
        {
          "output_type": "execute_result",
          "data": {
            "text/plain": [
              "50"
            ]
          },
          "metadata": {},
          "execution_count": 80
        }
      ]
    },
    {
      "cell_type": "code",
      "source": [
        "#adding a new element\n",
        "d['subjects']['dsap']=100\n",
        "d"
      ],
      "metadata": {
        "colab": {
          "base_uri": "https://localhost:8080/"
        },
        "id": "DbZ-JfhWqMOx",
        "outputId": "d41b2a6a-282d-4019-97ee-b425df717c78"
      },
      "execution_count": null,
      "outputs": [
        {
          "output_type": "execute_result",
          "data": {
            "text/plain": [
              "{'name': 'Ichhit',\n",
              " 'college': 'Cosmos',\n",
              " 'sem': 4,\n",
              " 'subjects': {'dsa': 50, 'maths': 90, 'english': 76, 'dsap': 100}}"
            ]
          },
          "metadata": {},
          "execution_count": 81
        }
      ]
    },
    {
      "cell_type": "code",
      "source": [
        "#removing\n",
        "del d['subjects']['maths']\n",
        "d"
      ],
      "metadata": {
        "colab": {
          "base_uri": "https://localhost:8080/"
        },
        "id": "wo_LXgEhsinJ",
        "outputId": "7ad6ef6b-aab4-4869-dd9f-fa0ec6f8afed"
      },
      "execution_count": null,
      "outputs": [
        {
          "output_type": "execute_result",
          "data": {
            "text/plain": [
              "{'name': 'Ichhit',\n",
              " 'college': 'Cosmos',\n",
              " 'sem': 4,\n",
              " 'subjects': {'dsa': 50, 'english': 76, 'dsap': 100}}"
            ]
          },
          "metadata": {},
          "execution_count": 82
        }
      ]
    },
    {
      "cell_type": "code",
      "source": [
        "#editing key-value pair\n",
        "d"
      ],
      "metadata": {
        "colab": {
          "base_uri": "https://localhost:8080/"
        },
        "id": "ypX99xflsvHR",
        "outputId": "05f4c836-7e25-44c0-94c2-6971b23c9a95"
      },
      "execution_count": null,
      "outputs": [
        {
          "output_type": "execute_result",
          "data": {
            "text/plain": [
              "{'name': 'Ichhit',\n",
              " 'college': 'Cosmos',\n",
              " 'sem': 4,\n",
              " 'subjects': {'dsa': 50, 'english': 76, 'dsap': 100}}"
            ]
          },
          "metadata": {},
          "execution_count": 83
        }
      ]
    },
    {
      "cell_type": "code",
      "source": [
        "d['sem']=6\n",
        "d"
      ],
      "metadata": {
        "colab": {
          "base_uri": "https://localhost:8080/"
        },
        "id": "-dgdMZB0s2lw",
        "outputId": "27637382-90a1-4d7e-d4c5-c6a07242e7a4"
      },
      "execution_count": null,
      "outputs": [
        {
          "output_type": "execute_result",
          "data": {
            "text/plain": [
              "{'name': 'Ichhit',\n",
              " 'college': 'Cosmos',\n",
              " 'sem': 6,\n",
              " 'subjects': {'dsa': 50, 'english': 76, 'dsap': 100}}"
            ]
          },
          "metadata": {},
          "execution_count": 85
        }
      ]
    },
    {
      "cell_type": "code",
      "source": [
        "d['subjects']['dsa']=80\n",
        "d"
      ],
      "metadata": {
        "colab": {
          "base_uri": "https://localhost:8080/"
        },
        "id": "nmrOVEr7s6OA",
        "outputId": "adf23adf-c567-4b75-9df6-7b401a963723"
      },
      "execution_count": null,
      "outputs": [
        {
          "output_type": "execute_result",
          "data": {
            "text/plain": [
              "{'name': 'Ichhit',\n",
              " 'college': 'Cosmos',\n",
              " 'sem': 6,\n",
              " 'subjects': {'dsa': 80, 'english': 76, 'dsap': 100}}"
            ]
          },
          "metadata": {},
          "execution_count": 86
        }
      ]
    },
    {
      "cell_type": "code",
      "source": [
        "#dictionary operation\n",
        "#membership\n",
        "#iteration\n",
        "d"
      ],
      "metadata": {
        "colab": {
          "base_uri": "https://localhost:8080/"
        },
        "id": "GtAYUWBds_Jh",
        "outputId": "952ca31a-0b59-428a-a85a-48699a700c70"
      },
      "execution_count": null,
      "outputs": [
        {
          "output_type": "execute_result",
          "data": {
            "text/plain": [
              "{'name': 'Ichhit',\n",
              " 'college': 'Cosmos',\n",
              " 'sem': 6,\n",
              " 'subjects': {'dsa': 80, 'english': 76, 'dsap': 100}}"
            ]
          },
          "metadata": {},
          "execution_count": 87
        }
      ]
    },
    {
      "cell_type": "code",
      "source": [
        "'Ichhit' in d #doesnt care about value"
      ],
      "metadata": {
        "colab": {
          "base_uri": "https://localhost:8080/"
        },
        "id": "WSQEdCqZtJVA",
        "outputId": "54935936-4744-4cd2-f968-776622f19926"
      },
      "execution_count": null,
      "outputs": [
        {
          "output_type": "execute_result",
          "data": {
            "text/plain": [
              "False"
            ]
          },
          "metadata": {},
          "execution_count": 88
        }
      ]
    },
    {
      "cell_type": "code",
      "source": [
        "'name' in d #membership operator works for keys"
      ],
      "metadata": {
        "colab": {
          "base_uri": "https://localhost:8080/"
        },
        "id": "QjkAKum_tNMg",
        "outputId": "197f2ebc-6338-49f6-ff51-2a093245f1ef"
      },
      "execution_count": null,
      "outputs": [
        {
          "output_type": "execute_result",
          "data": {
            "text/plain": [
              "True"
            ]
          },
          "metadata": {},
          "execution_count": 89
        }
      ]
    },
    {
      "cell_type": "code",
      "source": [
        "#iteration\n",
        "d={'name':'Ichhit','gender':'Male','age':23}\n",
        "for i in d:\n",
        "  print(i)\n",
        "#prints the key\n",
        "  print(d[i])"
      ],
      "metadata": {
        "colab": {
          "base_uri": "https://localhost:8080/"
        },
        "id": "FCGn_qRZtSMA",
        "outputId": "ccb2cd70-a061-4849-98ed-ec1b3d769504"
      },
      "execution_count": null,
      "outputs": [
        {
          "output_type": "stream",
          "name": "stdout",
          "text": [
            "name\n",
            "Ichhit\n",
            "gender\n",
            "Male\n",
            "age\n",
            "23\n"
          ]
        }
      ]
    },
    {
      "cell_type": "code",
      "source": [
        "d"
      ],
      "metadata": {
        "colab": {
          "base_uri": "https://localhost:8080/"
        },
        "id": "zrVc8Dm-tqlw",
        "outputId": "35d61dde-f911-4108-eb78-4b0f73b8242d"
      },
      "execution_count": null,
      "outputs": [
        {
          "output_type": "execute_result",
          "data": {
            "text/plain": [
              "{'name': 'Ichhit', 'gender': 'Male', 'age': 23}"
            ]
          },
          "metadata": {},
          "execution_count": 97
        }
      ]
    },
    {
      "cell_type": "code",
      "source": [
        "#lenght\n",
        "len(d)"
      ],
      "metadata": {
        "colab": {
          "base_uri": "https://localhost:8080/"
        },
        "id": "d2IE7tJouIAR",
        "outputId": "d54be657-3d10-4e7e-dfd4-a8cb06d57f5c"
      },
      "execution_count": null,
      "outputs": [
        {
          "output_type": "execute_result",
          "data": {
            "text/plain": [
              "3"
            ]
          },
          "metadata": {},
          "execution_count": 98
        }
      ]
    },
    {
      "cell_type": "code",
      "source": [
        "#sorted\n",
        "print(d)\n",
        "sorted(d)"
      ],
      "metadata": {
        "colab": {
          "base_uri": "https://localhost:8080/"
        },
        "id": "6t6KSn2duKlY",
        "outputId": "33314310-2bc1-4dcf-a16e-281d35e06078"
      },
      "execution_count": null,
      "outputs": [
        {
          "output_type": "stream",
          "name": "stdout",
          "text": [
            "{'name': 'Ichhit', 'gender': 'Male', 'age': 23}\n"
          ]
        },
        {
          "output_type": "execute_result",
          "data": {
            "text/plain": [
              "['age', 'gender', 'name']"
            ]
          },
          "metadata": {},
          "execution_count": 101
        }
      ]
    },
    {
      "cell_type": "code",
      "source": [
        "#min based on ascii\n",
        "min(d)"
      ],
      "metadata": {
        "colab": {
          "base_uri": "https://localhost:8080/",
          "height": 35
        },
        "id": "hQcgFByguQUo",
        "outputId": "2b5cdfd8-9bc2-4877-9d90-5b8d3b687643"
      },
      "execution_count": null,
      "outputs": [
        {
          "output_type": "execute_result",
          "data": {
            "text/plain": [
              "'age'"
            ],
            "application/vnd.google.colaboratory.intrinsic+json": {
              "type": "string"
            }
          },
          "metadata": {},
          "execution_count": 102
        }
      ]
    },
    {
      "cell_type": "code",
      "source": [
        "#max\n",
        "max(d)"
      ],
      "metadata": {
        "colab": {
          "base_uri": "https://localhost:8080/",
          "height": 35
        },
        "id": "0IS9ZmG0uhiR",
        "outputId": "a5728b65-3a13-42f8-8a03-9e90ac4e1e6c"
      },
      "execution_count": null,
      "outputs": [
        {
          "output_type": "execute_result",
          "data": {
            "text/plain": [
              "'name'"
            ],
            "application/vnd.google.colaboratory.intrinsic+json": {
              "type": "string"
            }
          },
          "metadata": {},
          "execution_count": 103
        }
      ]
    },
    {
      "cell_type": "code",
      "source": [
        "#ietms\n",
        "d.items()\n",
        "#gives all the elements in list of tuple of key value pair"
      ],
      "metadata": {
        "colab": {
          "base_uri": "https://localhost:8080/"
        },
        "id": "z2VN-va4ujIZ",
        "outputId": "b5ccd16b-b8dd-45fd-c887-4e303f49e1c3"
      },
      "execution_count": null,
      "outputs": [
        {
          "output_type": "execute_result",
          "data": {
            "text/plain": [
              "dict_items([('name', 'Ichhit'), ('gender', 'Male'), ('age', 23)])"
            ]
          },
          "metadata": {},
          "execution_count": 106
        }
      ]
    },
    {
      "cell_type": "code",
      "source": [
        "#keys\n",
        "d.keys()"
      ],
      "metadata": {
        "colab": {
          "base_uri": "https://localhost:8080/"
        },
        "id": "9GCef05guo7B",
        "outputId": "189c4ad9-3f73-469f-ccce-95b03d4df7a9"
      },
      "execution_count": null,
      "outputs": [
        {
          "output_type": "execute_result",
          "data": {
            "text/plain": [
              "dict_keys(['name', 'gender', 'age'])"
            ]
          },
          "metadata": {},
          "execution_count": 107
        }
      ]
    },
    {
      "cell_type": "code",
      "source": [
        "d.values()"
      ],
      "metadata": {
        "colab": {
          "base_uri": "https://localhost:8080/"
        },
        "id": "lQW_LboFuz4j",
        "outputId": "ab7e126b-3d67-4ac4-e287-d79992976e64"
      },
      "execution_count": null,
      "outputs": [
        {
          "output_type": "execute_result",
          "data": {
            "text/plain": [
              "dict_values(['Ichhit', 'Male', 23])"
            ]
          },
          "metadata": {},
          "execution_count": 108
        }
      ]
    },
    {
      "cell_type": "code",
      "source": [
        "#update\n",
        "d={'name':'Ichhit','gender':'Male','age':23}\n",
        "print(d)\n",
        "d.update({'name':'Balen'})\n",
        "print(d)"
      ],
      "metadata": {
        "colab": {
          "base_uri": "https://localhost:8080/"
        },
        "id": "NtTqeua7u1YJ",
        "outputId": "d311dff4-1c2d-4f4d-d1fc-cd5d141e0865"
      },
      "execution_count": null,
      "outputs": [
        {
          "output_type": "stream",
          "name": "stdout",
          "text": [
            "{'name': 'Ichhit', 'gender': 'Male', 'age': 23}\n",
            "{'name': 'Balen', 'gender': 'Male', 'age': 23}\n"
          ]
        }
      ]
    },
    {
      "cell_type": "code",
      "source": [
        "#Dictionary comprehension"
      ],
      "metadata": {
        "id": "qpoOcpOYvBTT"
      },
      "execution_count": null,
      "outputs": []
    },
    {
      "cell_type": "markdown",
      "source": [
        "{key: value for vars in iterable}"
      ],
      "metadata": {
        "id": "RUlwSbKfv4ie"
      }
    },
    {
      "cell_type": "code",
      "source": [
        "#create a dict with keys 1 to 10 and value is square of that number\n",
        "d={i:i*i for i in range(1,11)}\n",
        "d"
      ],
      "metadata": {
        "colab": {
          "base_uri": "https://localhost:8080/"
        },
        "id": "Ql_JvZ3Lv9hw",
        "outputId": "ea6bd391-ff7a-4778-c472-635692ef3b6c"
      },
      "execution_count": null,
      "outputs": [
        {
          "output_type": "execute_result",
          "data": {
            "text/plain": [
              "{1: 1, 2: 4, 3: 9, 4: 16, 5: 25, 6: 36, 7: 49, 8: 64, 9: 81, 10: 100}"
            ]
          },
          "metadata": {},
          "execution_count": 114
        }
      ]
    },
    {
      "cell_type": "code",
      "source": [
        "#create a new dictionary using existing dict\n",
        "#convert m to km\n",
        "distance={'kathmandu':1000,'Bhaktapur':2000,'Lalitpur':500}\n",
        "new_dict={i:distance[i]/1000 for i in distance if i!='Bhaktapur'}\n",
        "new_dict"
      ],
      "metadata": {
        "colab": {
          "base_uri": "https://localhost:8080/"
        },
        "id": "tLXUrqVQwROH",
        "outputId": "28a61363-688e-4fde-d986-b2e99fc7328b"
      },
      "execution_count": null,
      "outputs": [
        {
          "output_type": "execute_result",
          "data": {
            "text/plain": [
              "{'kathmandu': 1.0, 'Lalitpur': 0.5}"
            ]
          },
          "metadata": {},
          "execution_count": 128
        }
      ]
    },
    {
      "cell_type": "code",
      "source": [
        "{key:value/1000 for (key,value) in distance.items()}"
      ],
      "metadata": {
        "colab": {
          "base_uri": "https://localhost:8080/"
        },
        "id": "CANDJqRbwQvp",
        "outputId": "2cdcc681-8e19-4078-b290-e9a6c3bed4b8"
      },
      "execution_count": null,
      "outputs": [
        {
          "output_type": "execute_result",
          "data": {
            "text/plain": [
              "{'kathmandu': 1.0, 'Bhaktapur': 2.0, 'Lalitpur': 0.5}"
            ]
          },
          "metadata": {},
          "execution_count": 120
        }
      ]
    },
    {
      "cell_type": "code",
      "source": [
        "#using zip\n",
        "days=['Sunday','Monday','Tuesday'] #keys\n",
        "temp=[30.5,40,29]  #values\n",
        "{key:value for(key,value) in zip(days,temp)}"
      ],
      "metadata": {
        "colab": {
          "base_uri": "https://localhost:8080/"
        },
        "id": "ys1yGm0WxNkq",
        "outputId": "f32f7b0f-861c-46e8-da60-addf95f1339a"
      },
      "execution_count": null,
      "outputs": [
        {
          "output_type": "execute_result",
          "data": {
            "text/plain": [
              "{'Sunday': 30.5, 'Monday': 40, 'Tuesday': 29}"
            ]
          },
          "metadata": {},
          "execution_count": 124
        }
      ]
    },
    {
      "cell_type": "code",
      "source": [
        "#nested comprehension\n",
        "#print table of numbers from 2 to 4\n",
        "{i:{j:i*j for j in range(1,11)}for i in range(2,5)}"
      ],
      "metadata": {
        "colab": {
          "base_uri": "https://localhost:8080/"
        },
        "id": "h0fPmS1Vxu_a",
        "outputId": "0327cd46-b9db-4acd-a933-0857322811fe"
      },
      "execution_count": null,
      "outputs": [
        {
          "output_type": "execute_result",
          "data": {
            "text/plain": [
              "{2: {1: 2, 2: 4, 3: 6, 4: 8, 5: 10, 6: 12, 7: 14, 8: 16, 9: 18, 10: 20},\n",
              " 3: {1: 3, 2: 6, 3: 9, 4: 12, 5: 15, 6: 18, 7: 21, 8: 24, 9: 27, 10: 30},\n",
              " 4: {1: 4, 2: 8, 3: 12, 4: 16, 5: 20, 6: 24, 7: 28, 8: 32, 9: 36, 10: 40}}"
            ]
          },
          "metadata": {},
          "execution_count": 134
        }
      ]
    },
    {
      "cell_type": "markdown",
      "source": [
        "# **Function in Python**"
      ],
      "metadata": {
        "id": "AkE2t0XC2Lr5"
      }
    },
    {
      "cell_type": "code",
      "source": [
        "\n",
        "def is_even(num):\n",
        "  #documentation\n",
        "  \"\"\"\n",
        "This function returns if a given number is odd or even\n",
        "input-any valid integer\n",
        "output-odd/even\n",
        "created on 13th april 2025\n",
        "  \"\"\"\n",
        "  if num%2==0:\n",
        "    print(num,' is a even number')\n",
        "  else:\n",
        "    print(num, 'is a odd number')\n",
        "is_even(10)\n",
        "is_even(5)"
      ],
      "metadata": {
        "colab": {
          "base_uri": "https://localhost:8080/"
        },
        "id": "dkz5Huib2RFh",
        "outputId": "408b48fc-a867-4329-ff1d-a3e92b285cd7"
      },
      "execution_count": 36,
      "outputs": [
        {
          "output_type": "stream",
          "name": "stdout",
          "text": [
            "10  is a even number\n",
            "5 is a odd number\n"
          ]
        }
      ]
    },
    {
      "cell_type": "code",
      "source": [
        "for i in range(1,10):\n",
        "  x= is_even(i)\n"
      ],
      "metadata": {
        "colab": {
          "base_uri": "https://localhost:8080/"
        },
        "id": "uAHaSgwU37vJ",
        "outputId": "5fd23156-ae89-4db2-fc42-fc845dcc96cd"
      },
      "execution_count": null,
      "outputs": [
        {
          "output_type": "stream",
          "name": "stdout",
          "text": [
            "1 is a odd number\n",
            "2  is a even number\n",
            "3 is a odd number\n",
            "4  is a even number\n",
            "5 is a odd number\n",
            "6  is a even number\n",
            "7 is a odd number\n",
            "8  is a even number\n",
            "9 is a odd number\n"
          ]
        }
      ]
    },
    {
      "cell_type": "code",
      "source": [
        "is_even.__doc__"
      ],
      "metadata": {
        "colab": {
          "base_uri": "https://localhost:8080/",
          "height": 35
        },
        "id": "pW98GpjYJB-5",
        "outputId": "bdfb96fc-dd66-457a-9295-bd93dcad07aa"
      },
      "execution_count": 37,
      "outputs": [
        {
          "output_type": "execute_result",
          "data": {
            "text/plain": [
              "'\\nThis function returns if a given number is odd or even \\ninput-any valid integer\\noutput-odd/even\\ncreated on 13th april 2025\\n  '"
            ],
            "application/vnd.google.colaboratory.intrinsic+json": {
              "type": "string"
            }
          },
          "metadata": {},
          "execution_count": 37
        }
      ]
    },
    {
      "cell_type": "code",
      "source": [
        "is_even('Hello')"
      ],
      "metadata": {
        "colab": {
          "base_uri": "https://localhost:8080/",
          "height": 263
        },
        "id": "K2XOeT224KFg",
        "outputId": "aa9ae8f7-a333-450f-f6ef-332e40feca3f"
      },
      "execution_count": null,
      "outputs": [
        {
          "output_type": "error",
          "ename": "TypeError",
          "evalue": "not all arguments converted during string formatting",
          "traceback": [
            "\u001b[0;31m---------------------------------------------------------------------------\u001b[0m",
            "\u001b[0;31mTypeError\u001b[0m                                 Traceback (most recent call last)",
            "\u001b[0;32m<ipython-input-138-1bc9e5562c8a>\u001b[0m in \u001b[0;36m<cell line: 0>\u001b[0;34m()\u001b[0m\n\u001b[0;32m----> 1\u001b[0;31m \u001b[0mis_even\u001b[0m\u001b[0;34m(\u001b[0m\u001b[0;34m'Hello'\u001b[0m\u001b[0;34m)\u001b[0m\u001b[0;34m\u001b[0m\u001b[0;34m\u001b[0m\u001b[0m\n\u001b[0m",
            "\u001b[0;32m<ipython-input-136-3d8284ff4b9b>\u001b[0m in \u001b[0;36mis_even\u001b[0;34m(num)\u001b[0m\n\u001b[1;32m      1\u001b[0m \u001b[0;32mdef\u001b[0m \u001b[0mis_even\u001b[0m\u001b[0;34m(\u001b[0m\u001b[0mnum\u001b[0m\u001b[0;34m)\u001b[0m\u001b[0;34m:\u001b[0m\u001b[0;34m\u001b[0m\u001b[0;34m\u001b[0m\u001b[0m\n\u001b[0;32m----> 2\u001b[0;31m   \u001b[0;32mif\u001b[0m \u001b[0mnum\u001b[0m\u001b[0;34m%\u001b[0m\u001b[0;36m2\u001b[0m\u001b[0;34m==\u001b[0m\u001b[0;36m0\u001b[0m\u001b[0;34m:\u001b[0m\u001b[0;34m\u001b[0m\u001b[0;34m\u001b[0m\u001b[0m\n\u001b[0m\u001b[1;32m      3\u001b[0m     \u001b[0mprint\u001b[0m\u001b[0;34m(\u001b[0m\u001b[0mnum\u001b[0m\u001b[0;34m,\u001b[0m\u001b[0;34m' is a even number'\u001b[0m\u001b[0;34m)\u001b[0m\u001b[0;34m\u001b[0m\u001b[0;34m\u001b[0m\u001b[0m\n\u001b[1;32m      4\u001b[0m   \u001b[0;32melse\u001b[0m\u001b[0;34m:\u001b[0m\u001b[0;34m\u001b[0m\u001b[0;34m\u001b[0m\u001b[0m\n\u001b[1;32m      5\u001b[0m     \u001b[0mprint\u001b[0m\u001b[0;34m(\u001b[0m\u001b[0mnum\u001b[0m\u001b[0;34m,\u001b[0m \u001b[0;34m'is a odd number'\u001b[0m\u001b[0;34m)\u001b[0m\u001b[0;34m\u001b[0m\u001b[0;34m\u001b[0m\u001b[0m\n",
            "\u001b[0;31mTypeError\u001b[0m: not all arguments converted during string formatting"
          ]
        }
      ]
    },
    {
      "cell_type": "code",
      "source": [
        "def is_even(num):\n",
        "  if type(num)==int:\n",
        "            if num%2==0:\n",
        "              print(num,' is a even number')\n",
        "            else:\n",
        "              print(num, 'is a odd number')\n",
        "  else:\n",
        "    print(\"Wrong choice of data\")\n",
        "is_even(10)\n",
        "is_even(5)\n",
        "is_even(\"hello\")"
      ],
      "metadata": {
        "id": "07HmpyD54QaZ",
        "colab": {
          "base_uri": "https://localhost:8080/"
        },
        "outputId": "dbc7bac0-b3c9-4e32-b180-e6eef0c783be"
      },
      "execution_count": 2,
      "outputs": [
        {
          "output_type": "stream",
          "name": "stdout",
          "text": [
            "10  is a even number\n",
            "5 is a odd number\n",
            "Wrong choice of data\n"
          ]
        }
      ]
    },
    {
      "cell_type": "code",
      "source": [
        "#types of argument\n",
        "#default argument\n",
        "#positional argument\n",
        "#keyword argument"
      ],
      "metadata": {
        "id": "FBnZUpwQ3lXm"
      },
      "execution_count": 3,
      "outputs": []
    },
    {
      "cell_type": "code",
      "source": [
        "#default argument\n",
        "def power(a,b):\n",
        "  return a**b"
      ],
      "metadata": {
        "id": "6PFnsmcg6Z8W"
      },
      "execution_count": 6,
      "outputs": []
    },
    {
      "cell_type": "code",
      "source": [
        "power(2,3)"
      ],
      "metadata": {
        "colab": {
          "base_uri": "https://localhost:8080/"
        },
        "id": "Q1m3ngKm6jPy",
        "outputId": "82a77aaa-bb89-402c-c09a-99952a54919a"
      },
      "execution_count": 7,
      "outputs": [
        {
          "output_type": "execute_result",
          "data": {
            "text/plain": [
              "8"
            ]
          },
          "metadata": {},
          "execution_count": 7
        }
      ]
    },
    {
      "cell_type": "code",
      "source": [
        "power(2)"
      ],
      "metadata": {
        "colab": {
          "base_uri": "https://localhost:8080/",
          "height": 141
        },
        "id": "HtYxZX6i6kdb",
        "outputId": "27d31d08-5881-4573-9103-9f894b8a298e"
      },
      "execution_count": 8,
      "outputs": [
        {
          "output_type": "error",
          "ename": "TypeError",
          "evalue": "power() missing 1 required positional argument: 'b'",
          "traceback": [
            "\u001b[0;31m---------------------------------------------------------------------------\u001b[0m",
            "\u001b[0;31mTypeError\u001b[0m                                 Traceback (most recent call last)",
            "\u001b[0;32m<ipython-input-8-d32e0df8244d>\u001b[0m in \u001b[0;36m<cell line: 0>\u001b[0;34m()\u001b[0m\n\u001b[0;32m----> 1\u001b[0;31m \u001b[0mpower\u001b[0m\u001b[0;34m(\u001b[0m\u001b[0;36m2\u001b[0m\u001b[0;34m)\u001b[0m\u001b[0;34m\u001b[0m\u001b[0;34m\u001b[0m\u001b[0m\n\u001b[0m",
            "\u001b[0;31mTypeError\u001b[0m: power() missing 1 required positional argument: 'b'"
          ]
        }
      ]
    },
    {
      "cell_type": "code",
      "source": [
        "#default argument\n",
        "def power(a,b=2):\n",
        "  return a**b"
      ],
      "metadata": {
        "id": "z1j8Yspu6peS"
      },
      "execution_count": 9,
      "outputs": []
    },
    {
      "cell_type": "code",
      "source": [
        "power(3)"
      ],
      "metadata": {
        "colab": {
          "base_uri": "https://localhost:8080/"
        },
        "id": "jSFRLw-2-pXv",
        "outputId": "9452982d-eaea-4f86-d1c5-34cf866ad8e7"
      },
      "execution_count": 10,
      "outputs": [
        {
          "output_type": "execute_result",
          "data": {
            "text/plain": [
              "9"
            ]
          },
          "metadata": {},
          "execution_count": 10
        }
      ]
    },
    {
      "cell_type": "code",
      "source": [
        "#default argument\n",
        "def power(a=3,b):\n",
        "  return a**b"
      ],
      "metadata": {
        "colab": {
          "base_uri": "https://localhost:8080/",
          "height": 106
        },
        "id": "wjnZDes4-rVD",
        "outputId": "ec15c2e7-ee1d-4ce9-df5f-2a100be370c0"
      },
      "execution_count": 11,
      "outputs": [
        {
          "output_type": "error",
          "ename": "SyntaxError",
          "evalue": "non-default argument follows default argument (<ipython-input-11-ef98b77b5b21>, line 2)",
          "traceback": [
            "\u001b[0;36m  File \u001b[0;32m\"<ipython-input-11-ef98b77b5b21>\"\u001b[0;36m, line \u001b[0;32m2\u001b[0m\n\u001b[0;31m    def power(a=3,b):\u001b[0m\n\u001b[0m                  ^\u001b[0m\n\u001b[0;31mSyntaxError\u001b[0m\u001b[0;31m:\u001b[0m non-default argument follows default argument\n"
          ]
        }
      ]
    },
    {
      "cell_type": "code",
      "source": [
        "#if we want to make an argument default, all the arguments beside that argument should be made default"
      ],
      "metadata": {
        "id": "Tk4hBpNk-uRh"
      },
      "execution_count": 12,
      "outputs": []
    },
    {
      "cell_type": "code",
      "source": [
        "#positional argument\n",
        "power(2,3)"
      ],
      "metadata": {
        "colab": {
          "base_uri": "https://localhost:8080/"
        },
        "id": "HjnZEomJ-1vp",
        "outputId": "79503bd9-6373-4b28-addf-0bea4e61f795"
      },
      "execution_count": 13,
      "outputs": [
        {
          "output_type": "execute_result",
          "data": {
            "text/plain": [
              "8"
            ]
          },
          "metadata": {},
          "execution_count": 13
        }
      ]
    },
    {
      "cell_type": "code",
      "source": [
        "#keyword argument\n",
        "#it has greater precedence than posiotional argument\n",
        "power(b=3,a=2)"
      ],
      "metadata": {
        "colab": {
          "base_uri": "https://localhost:8080/"
        },
        "id": "1iCP7vp2_ghv",
        "outputId": "b25af831-ea5e-4b96-ceeb-707849a211d3"
      },
      "execution_count": 15,
      "outputs": [
        {
          "output_type": "execute_result",
          "data": {
            "text/plain": [
              "8"
            ]
          },
          "metadata": {},
          "execution_count": 15
        }
      ]
    },
    {
      "cell_type": "code",
      "source": [
        "# *args and **kwargs, used to pass variable lenth of arguments in the function"
      ],
      "metadata": {
        "id": "oCSiPmVI_wwt"
      },
      "execution_count": 17,
      "outputs": []
    },
    {
      "cell_type": "code",
      "source": [
        "#*args\n",
        "#allows us to pass a variable number of non-keyword arguments to a function\n",
        "def multiple(*args):\n",
        "  product=1\n",
        "  for i in args:\n",
        "    product*=i\n",
        "  print(args)\n",
        "  return product"
      ],
      "metadata": {
        "id": "CLxDgA8XE39W"
      },
      "execution_count": 24,
      "outputs": []
    },
    {
      "cell_type": "code",
      "source": [
        "multiple(1,2,3,,4)"
      ],
      "metadata": {
        "colab": {
          "base_uri": "https://localhost:8080/"
        },
        "id": "59Flm8k6FpjX",
        "outputId": "494b23e6-1c49-422e-ea9e-d1b8a4cbd3b1"
      },
      "execution_count": 19,
      "outputs": [
        {
          "output_type": "execute_result",
          "data": {
            "text/plain": [
              "24"
            ]
          },
          "metadata": {},
          "execution_count": 19
        }
      ]
    },
    {
      "cell_type": "code",
      "source": [
        "multiple(5,6,7,7,8,8,9,9)"
      ],
      "metadata": {
        "colab": {
          "base_uri": "https://localhost:8080/"
        },
        "id": "9J5wQXhKFsXF",
        "outputId": "7785c947-17c4-4a2c-b84a-29593ba4df4d"
      },
      "execution_count": 25,
      "outputs": [
        {
          "output_type": "stream",
          "name": "stdout",
          "text": [
            "(5, 6, 7, 7, 8, 8, 9, 9)\n"
          ]
        },
        {
          "output_type": "execute_result",
          "data": {
            "text/plain": [
              "7620480"
            ]
          },
          "metadata": {},
          "execution_count": 25
        }
      ]
    },
    {
      "cell_type": "code",
      "source": [
        "#args creates a tuple of the input"
      ],
      "metadata": {
        "id": "dmDlO1iHFvhO"
      },
      "execution_count": 26,
      "outputs": []
    },
    {
      "cell_type": "code",
      "source": [
        "#**kwargs\n",
        "#allows us to pass a variable number of keyword arguments to a function means key-value pair"
      ],
      "metadata": {
        "id": "SeBWdhwLILo2"
      },
      "execution_count": 38,
      "outputs": []
    },
    {
      "cell_type": "code",
      "source": [
        "def display(**kwargs):\n",
        "  for(key,value) in kwargs.items():\n",
        "    print(key,'->',value)"
      ],
      "metadata": {
        "id": "nsdyMFnFLAuv"
      },
      "execution_count": 40,
      "outputs": []
    },
    {
      "cell_type": "code",
      "source": [
        "display(india='delhi',nepal='kathmandu')"
      ],
      "metadata": {
        "colab": {
          "base_uri": "https://localhost:8080/"
        },
        "id": "BdGqiXqALZvD",
        "outputId": "fd107677-2ac3-40fe-9e13-0574df07b225"
      },
      "execution_count": 41,
      "outputs": [
        {
          "output_type": "stream",
          "name": "stdout",
          "text": [
            "india -> delhi\n",
            "nepal -> kathmandu\n"
          ]
        }
      ]
    },
    {
      "cell_type": "code",
      "source": [],
      "metadata": {
        "id": "9O93ovYGLnVX"
      },
      "execution_count": null,
      "outputs": []
    }
  ]
}