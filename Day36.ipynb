{
  "nbformat": 4,
  "nbformat_minor": 0,
  "metadata": {
    "colab": {
      "provenance": [],
      "authorship_tag": "ABX9TyM8jb3Cc1Qq5sg0d0I1Y6rS",
      "include_colab_link": true
    },
    "kernelspec": {
      "name": "python3",
      "display_name": "Python 3"
    },
    "language_info": {
      "name": "python"
    }
  },
  "cells": [
    {
      "cell_type": "markdown",
      "metadata": {
        "id": "view-in-github",
        "colab_type": "text"
      },
      "source": [
        "<a href=\"https://colab.research.google.com/github/ichhitsapkota143/Machine-Learning/blob/main/Day36.ipynb\" target=\"_parent\"><img src=\"https://colab.research.google.com/assets/colab-badge.svg\" alt=\"Open In Colab\"/></a>"
      ]
    },
    {
      "cell_type": "markdown",
      "source": [
        "\n",
        "# **🧼 Clean Code Principles**\n",
        "\n",
        "Readable: Code should be easy to follow for others (and your future self).\n",
        "\n",
        "Simple Functions: Do one thing well — break down big tasks.\n",
        "\n",
        "Avoid Duplication: Reuse logic to reduce bugs and clutter.\n",
        "\n",
        "Descriptive Names: Use clear, specific names for variables and methods.\n",
        "\n",
        "Well-Commented (Why, not What): Explain decisions or non-obvious logic.\n",
        "\n",
        "# **📐 PEP8 – Python Style Guide**\n",
        "\n",
        "Python's official style guide that ensures consistency across codebases.\n",
        "\n",
        " Key rules:\n",
        "\n",
        "4-space indentation\n",
        "\n",
        "Line limit: 79 characters\n",
        "\n",
        "Snake_case for variables/functions, CamelCase for classes\n",
        "\n",
        "Proper import ordering\n",
        "\n",
        "Minimal and consistent whitespace\n",
        "\n",
        "🧾 Type Hints\n",
        "\n",
        "Python feature that defines variable/function types explicitly.\n",
        "\n",
        "Adds clarity and reduces bugs\n",
        "\n",
        "Supports static type checking (e.g., with mypy)\n",
        "\n",
        "Enhances team collaboration and large codebase management\n",
        "\n"
      ],
      "metadata": {
        "id": "sLzbPDIMSXav"
      }
    },
    {
      "cell_type": "markdown",
      "source": [
        "# **📝 Logging (vs Print)**\n",
        "\n",
        "Instead of printing messages during execution, logging provides structured, level-based messages.\n",
        "\n",
        "INFO, DEBUG, WARNING, ERROR, CRITICAL\n",
        "\n",
        "Used to monitor, debug, and track model behavior in real time\n",
        "\n",
        "Essential for production systems, ML APIs, and pipelines\n",
        "\n",
        "# **🏛 12-Factor App Methodology**\n",
        "\n",
        "A modern standard for building scalable, maintainable, and cloud-ready applications. Especially relevant for deploying ML models via web apps or APIs.\n",
        "\n",
        "Brief overview of the 12 principles:\n",
        "\n",
        "1. Codebase: One codebase per app, tracked in version control.\n",
        "\n",
        "2. Dependencies: Explicitly declare and isolate dependencies.\n",
        "\n",
        "3. Config: Store configs in environment variables, not code.\n",
        "\n",
        "4. Backing Services: Treat services (like databases) as attached resources.\n",
        "\n",
        "5. Build, Release, Run: Separate stages for building, releasing, and running code.\n",
        "\n",
        "6. Processes: Execute the app as stateless processes.\n",
        "\n",
        "7. Port Binding: Self-contained web apps that bind to a port.\n",
        "\n",
        "8. Concurrency: Scale out via process model (e.g., workers, threads).\n",
        "\n",
        "9. Disposability: Fast startup/shutdown for better scaling and resilience.\n",
        "\n",
        "10. Dev/Prod Parity: Keep development, staging, and production as similar as possible.\n",
        "\n",
        "11. Logs: Treat logs as event streams for analysis, not static files.\n",
        "\n",
        "12. Admin Processes: Run admin tasks as one-off processes (e.g., migrations).\n",
        "\n",
        "✅ Important for ML deployment (e.g., using Flask/FastAPI with Docker/Kubernetes).\n",
        "\n",
        "# **🧱 SOLID Principles in OOP**\n",
        "\n",
        "A set of principles for writing well-structured and scalable object-oriented code — especially useful in ML project architecture or tool design.\n",
        "\n",
        "S.O.L.I.D:\n",
        "\n",
        "1. S – Single Responsibility Principle\n",
        "\n",
        " A class should have one job. Keeps code focused and testable.\n",
        "\n",
        "2. O – Open/Closed Principle\n",
        "\n",
        " Code should be open for extension but closed for modification. You can add new functionality without changing existing code.\n",
        "\n",
        "3. L – Liskov Substitution Principle\n",
        "\n",
        " Subclasses should be replaceable with their base classes without breaking functionality.\n",
        "\n",
        "4. I – Interface Segregation Principle\n",
        "\n",
        " Don't force classes to implement things they don’t use. Keep interfaces minimal.\n",
        "\n",
        "5. D – Dependency Inversion Principle\n",
        "\n",
        " Depend on abstractions, not concrete classes. Improves flexibility and testability.\n",
        "\n",
        "✅ These principles apply when building reusable ML tools, modules, or scalable model-serving APIs.\n",
        "\n",
        "🎯 Why This Matters\n",
        "\n",
        " ML in the real world is more than fitting models — it’s about delivering solutions that are scalable, understandable, and reliable. These principles help bridge the gap between ML code and production systems."
      ],
      "metadata": {
        "id": "7GLagEdyS96S"
      }
    }
  ]
}