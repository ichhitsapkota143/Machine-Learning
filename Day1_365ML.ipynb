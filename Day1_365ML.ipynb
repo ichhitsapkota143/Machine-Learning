{
  "nbformat": 4,
  "nbformat_minor": 0,
  "metadata": {
    "colab": {
      "provenance": []
    },
    "kernelspec": {
      "name": "python3",
      "display_name": "Python 3"
    },
    "language_info": {
      "name": "python"
    }
  },
  "cells": [
    {
      "cell_type": "markdown",
      "source": [
        "# ***Basic Introduction to Python***"
      ],
      "metadata": {
        "id": "IbPMciruPC-v"
      }
    },
    {
      "cell_type": "markdown",
      "source": [
        "#Python\n",
        "Python is a powerful, easy-to-learn programming language widely used in web development, automation, data analysis, machine learning, and more. Its simple syntax and large ecosystem of libraries like Pandas, NumPy, Scikit-learn, TensorFlow, and PyTorch make it a favorite in the fields of **data science**, **machine learning**, and **AI**.\n",
        "\n",
        "---\n",
        "\n",
        "\n",
        "#Data Analysis\n",
        "Data Analysis is the process of inspecting, cleaning, and interpreting data to find useful information and support decision-making.  \n",
        "**Goal:** Discover insights and trends from raw data.  \n",
        "**Tools:** Excel, Python (Pandas, Matplotlib), SQL.  \n",
        "**Key Task:** Summarize past data (e.g., sales trends, customer behavior).\n",
        "\n",
        "---\n",
        "\n",
        "#Data Science\n",
        "Data Science is a broader field that includes **data analysis** but also involves using statistical methods, machine learning, and programming to build predictive models and drive strategic decisions.  \n",
        "**Goal:** Gain deeper insights and make predictions using data.  \n",
        "**Tools:** Python, R, SQL, machine learning libraries.  \n",
        "**Key Task:** Predict future trends, build models, and tell data stories.\n",
        "\n",
        "---\n",
        "\n",
        "#Data Engineering\n",
        "Data Engineering focuses on building the systems and infrastructure needed to collect, store, and process large volumes of data efficiently.  \n",
        "**Goal:** Make data accessible and usable for analysts and data scientists.  \n",
        "**Tools:** SQL, Python, Spark, Hadoop, ETL tools, cloud platforms.  \n",
        "**Key Task:** Build data pipelines and manage big data systems.\n",
        "\n",
        "\n",
        "#Machine Learning (ML)\n",
        "Machine Learning is a subfield of AI where computers learn patterns from data and improve performance over time without being explicitly programmed.  \n",
        "**Goal:** Make systems that can learn and make predictions from data.  \n",
        "**Examples:** Spam filters, recommendation systems, fraud detection.  \n",
        "**Tools:** Scikit-learn, TensorFlow, PyTorch.\n",
        "\n",
        "---\n",
        "\n",
        "### **Deep Learning**\n",
        "Deep Learning is a specialized form of machine learning that uses **neural networks** with multiple layers (like the human brain) to learn from data.  \n",
        "**Goal:** Handle very complex tasks like image recognition, speech, and natural language understanding.  \n",
        "**Tools:** TensorFlow, Keras, PyTorch.  \n",
        "**Examples:** Facial recognition, self-driving cars, chatbots.\n",
        "\n",
        "---\n",
        "\n",
        "### **Artificial Intelligence (AI)**\n",
        "AI is the broadest concept, referring to machines that can simulate human intelligence. This includes problem-solving, learning, reasoning, and understanding language.  \n",
        "**Goal:** Build smart systems that can perform human-like tasks.  \n",
        "**Subfields:** Machine learning, deep learning, computer vision, natural language processing.  \n",
        "**Examples:** Siri, Alexa, Google Translate, autonomous drones.\n",
        "\n",
        "---\n",
        "\n",
        "### **How They Differ**\n",
        "\n",
        "| Topic              | Focus                                       | Goal/Function                                   | Tools                            |\n",
        "|--------------------|---------------------------------------------|--------------------------------------------------|----------------------------------|\n",
        "| Python             | Programming language                        | Foundation for working in all related fields     | Python libraries like Pandas, NumPy, etc. |\n",
        "| Data Analysis      | Analyzing and interpreting data             | Understand past data                             | Excel, Python (Pandas), SQL     |\n",
        "| Data Science       | Insights and predictions using data         | Build models and insights from data              | Python, R, ML libraries         |\n",
        "| Data Engineering   | Building data infrastructure                | Prepare and manage data pipelines                | SQL, Python, Spark, Hadoop      |\n",
        "| Machine Learning   | Algorithms that learn from data             | Make predictions or decisions                    | Scikit-learn, TensorFlow        |\n",
        "| Deep Learning      | Neural networks with many layers            | Handle very complex tasks (vision, speech)       | PyTorch, Keras, TensorFlow      |\n",
        "| Artificial Intelligence | Smart machines simulating human behavior | Solve problems using intelligent systems         | Includes ML and DL techniques   |\n",
        "\n",
        "---"
      ],
      "metadata": {
        "id": "4bzZovqfNnop"
      }
    },
    {
      "cell_type": "markdown",
      "source": [
        "Note: To run the code simlply press Shift + Enter key at once"
      ],
      "metadata": {
        "id": "DZOEpz0MQxpy"
      }
    },
    {
      "cell_type": "code",
      "source": [
        "#printing HELLO World\n",
        "print(\"Hello World\")"
      ],
      "metadata": {
        "colab": {
          "base_uri": "https://localhost:8080/"
        },
        "id": "unF41ZDHOuk7",
        "outputId": "3bda1d31-8a0e-4af3-fb7f-b4a4ea1e1337"
      },
      "execution_count": null,
      "outputs": [
        {
          "output_type": "stream",
          "name": "stdout",
          "text": [
            "Hello World\n"
          ]
        }
      ]
    },
    {
      "cell_type": "code",
      "source": [
        "#print integer and float numbers\n",
        "print(7)\n",
        "print(7.7)"
      ],
      "metadata": {
        "colab": {
          "base_uri": "https://localhost:8080/"
        },
        "id": "jtdNQ-AxO3-U",
        "outputId": "c53b46a9-24e2-4214-c629-e743e66495a8"
      },
      "execution_count": null,
      "outputs": [
        {
          "output_type": "stream",
          "name": "stdout",
          "text": [
            "7\n",
            "7.7\n"
          ]
        }
      ]
    },
    {
      "cell_type": "code",
      "source": [
        "print(\"Hello\",9,'abc',True)"
      ],
      "metadata": {
        "colab": {
          "base_uri": "https://localhost:8080/"
        },
        "id": "RA-yL98YQAjW",
        "outputId": "80fa2731-cbf2-4833-e7d9-3ae94f253f40"
      },
      "execution_count": null,
      "outputs": [
        {
          "output_type": "stream",
          "name": "stdout",
          "text": [
            "Hello 9 abc True\n"
          ]
        }
      ]
    },
    {
      "cell_type": "code",
      "source": [
        "#seperating using /\n",
        "print(\"Hello\",9,'abc',True,sep='/')"
      ],
      "metadata": {
        "colab": {
          "base_uri": "https://localhost:8080/"
        },
        "id": "7F5wp7CUQKgz",
        "outputId": "b1f189a8-ee60-432c-be8f-546665618036"
      },
      "execution_count": null,
      "outputs": [
        {
          "output_type": "stream",
          "name": "stdout",
          "text": [
            "Hello/9/abc/True\n"
          ]
        }
      ]
    },
    {
      "cell_type": "code",
      "source": [
        "#seperating two statements using '-' and printing them in same line\n",
        "print(\"hello\",end=\"-\")\n",
        "print(\"world\")"
      ],
      "metadata": {
        "colab": {
          "base_uri": "https://localhost:8080/"
        },
        "id": "ukzFVxEUQWdT",
        "outputId": "f69b5302-6f05-48a1-da79-2f994c5cec3a"
      },
      "execution_count": null,
      "outputs": [
        {
          "output_type": "stream",
          "name": "stdout",
          "text": [
            "hello-world\n"
          ]
        }
      ]
    },
    {
      "cell_type": "code",
      "source": [
        "#PRINT  2*10^3\n",
        "print(2e3)"
      ],
      "metadata": {
        "colab": {
          "base_uri": "https://localhost:8080/"
        },
        "id": "UE5T0tYNQvvV",
        "outputId": "ab8e499b-1288-4003-87ce-095f8891201b"
      },
      "execution_count": null,
      "outputs": [
        {
          "output_type": "stream",
          "name": "stdout",
          "text": [
            "2000.0\n"
          ]
        }
      ]
    },
    {
      "cell_type": "code",
      "source": [
        "#boolean values\n",
        "print(True)\n",
        "print(False)"
      ],
      "metadata": {
        "colab": {
          "base_uri": "https://localhost:8080/"
        },
        "id": "eTR0yASfRKQ-",
        "outputId": "42df2abd-b602-4806-dda5-01d451f47762"
      },
      "execution_count": null,
      "outputs": [
        {
          "output_type": "stream",
          "name": "stdout",
          "text": [
            "True\n",
            "False\n"
          ]
        }
      ]
    },
    {
      "cell_type": "code",
      "source": [
        "#adding two complex numbers\n",
        "a= 5+6j\n",
        "b= 7-2j\n",
        "print(a+b)"
      ],
      "metadata": {
        "colab": {
          "base_uri": "https://localhost:8080/"
        },
        "id": "Ltsk_nedRXAi",
        "outputId": "126569eb-c148-47e9-f3f9-2b0a6a926e17"
      },
      "execution_count": null,
      "outputs": [
        {
          "output_type": "stream",
          "name": "stdout",
          "text": [
            "(12+4j)\n"
          ]
        }
      ]
    },
    {
      "cell_type": "code",
      "source": [
        "#list (use large bracket)\n",
        "#you can add or remove element from a list(mutable)\n",
        "a=[1,2,3,4,5]\n",
        "print(a)"
      ],
      "metadata": {
        "colab": {
          "base_uri": "https://localhost:8080/"
        },
        "id": "e4eb9YoiRbLq",
        "outputId": "3b55c4f3-811f-48df-a4e3-f736f697f225"
      },
      "execution_count": null,
      "outputs": [
        {
          "output_type": "stream",
          "name": "stdout",
          "text": [
            "[1, 2, 3, 4, 5]\n"
          ]
        }
      ]
    },
    {
      "cell_type": "code",
      "source": [
        "#to determine the data type\n",
        "type(a)"
      ],
      "metadata": {
        "colab": {
          "base_uri": "https://localhost:8080/"
        },
        "id": "lH7qVTOiRtZt",
        "outputId": "397cc49f-2780-4964-847c-8055a6380fb1"
      },
      "execution_count": null,
      "outputs": [
        {
          "output_type": "execute_result",
          "data": {
            "text/plain": [
              "list"
            ]
          },
          "metadata": {},
          "execution_count": 17
        }
      ]
    },
    {
      "cell_type": "code",
      "source": [
        "#tuple(use small brakcet)\n",
        "#you cannot add or remove element from a tuple(immutable)\n",
        "x=(1,2,3,4)\n",
        "print(x)"
      ],
      "metadata": {
        "colab": {
          "base_uri": "https://localhost:8080/"
        },
        "id": "sVSzY0bORu4b",
        "outputId": "506124e7-7c20-47cf-eac7-65a270cd1253"
      },
      "execution_count": null,
      "outputs": [
        {
          "output_type": "stream",
          "name": "stdout",
          "text": [
            "(1, 2, 3, 4)\n"
          ]
        }
      ]
    },
    {
      "cell_type": "code",
      "source": [
        "type(x)"
      ],
      "metadata": {
        "colab": {
          "base_uri": "https://localhost:8080/"
        },
        "id": "qZanfncsSJuz",
        "outputId": "6c7a8ea8-cfee-445f-8c37-dbf03cae71b7"
      },
      "execution_count": null,
      "outputs": [
        {
          "output_type": "execute_result",
          "data": {
            "text/plain": [
              "tuple"
            ]
          },
          "metadata": {},
          "execution_count": 19
        }
      ]
    },
    {
      "cell_type": "code",
      "source": [
        "#sets\n",
        "# set is a data structure used to store unordered(no indexing) and are mutable\n",
        "y={1,2,3,4,5}\n",
        "print(y)"
      ],
      "metadata": {
        "colab": {
          "base_uri": "https://localhost:8080/"
        },
        "id": "nE9-8-y0SLAy",
        "outputId": "18a4ec29-c212-4ae0-bae8-1cc2676a437c"
      },
      "execution_count": null,
      "outputs": [
        {
          "output_type": "stream",
          "name": "stdout",
          "text": [
            "{1, 2, 3, 4, 5}\n"
          ]
        }
      ]
    },
    {
      "cell_type": "code",
      "source": [
        "type(y)"
      ],
      "metadata": {
        "colab": {
          "base_uri": "https://localhost:8080/"
        },
        "id": "wO8iFW4MSmjd",
        "outputId": "c91b2b72-ac16-48b8-bc08-3d4c458a9fc1"
      },
      "execution_count": null,
      "outputs": [
        {
          "output_type": "execute_result",
          "data": {
            "text/plain": [
              "set"
            ]
          },
          "metadata": {},
          "execution_count": 23
        }
      ]
    },
    {
      "cell_type": "code",
      "source": [
        "#dictionary\n",
        "#dictionary is a collection of key-value pair, each key has a value associated with it\n",
        "my_dict= {'name':'Ichhit','age':23,'is_Student':True}\n",
        "print(my_dict)"
      ],
      "metadata": {
        "colab": {
          "base_uri": "https://localhost:8080/"
        },
        "id": "O1ocE2GBSpZC",
        "outputId": "525e19df-ace5-4659-d14d-5ff2eae60f28"
      },
      "execution_count": null,
      "outputs": [
        {
          "output_type": "stream",
          "name": "stdout",
          "text": [
            "{'name': 'Ichhit', 'age': 23, 'is_Student': True}\n"
          ]
        }
      ]
    },
    {
      "cell_type": "code",
      "source": [
        "type(my_dict)"
      ],
      "metadata": {
        "colab": {
          "base_uri": "https://localhost:8080/"
        },
        "id": "BOODFHDmTdIb",
        "outputId": "dd09a140-b1b6-47f4-d794-bcefdb5b3737"
      },
      "execution_count": null,
      "outputs": [
        {
          "output_type": "execute_result",
          "data": {
            "text/plain": [
              "dict"
            ]
          },
          "metadata": {},
          "execution_count": 26
        }
      ]
    },
    {
      "cell_type": "code",
      "source": [
        "#adding two integers\n",
        "a=5\n",
        "b=6\n",
        "print(a+b)"
      ],
      "metadata": {
        "colab": {
          "base_uri": "https://localhost:8080/"
        },
        "id": "WSYwx4K-TtPL",
        "outputId": "99fd437d-46e6-46ec-cace-a43cb7ab97d7"
      },
      "execution_count": null,
      "outputs": [
        {
          "output_type": "stream",
          "name": "stdout",
          "text": [
            "11\n"
          ]
        }
      ]
    },
    {
      "cell_type": "code",
      "source": [
        "#adding an integer and a float number\n",
        "a=5\n",
        "b=6.5\n",
        "c=a+b\n",
        "print(c)\n",
        "type(c)"
      ],
      "metadata": {
        "colab": {
          "base_uri": "https://localhost:8080/"
        },
        "id": "4291P08SUEc6",
        "outputId": "03e4e209-afe7-4b38-d5c7-90e85cb84314"
      },
      "execution_count": null,
      "outputs": [
        {
          "output_type": "stream",
          "name": "stdout",
          "text": [
            "11.5\n"
          ]
        },
        {
          "output_type": "execute_result",
          "data": {
            "text/plain": [
              "float"
            ]
          },
          "metadata": {},
          "execution_count": 28
        }
      ]
    },
    {
      "cell_type": "code",
      "source": [
        "#dynamic variables, in C and C++ we must declare the type of data to be stored in a variable, but in python it autonomically assigns the data type to the variable"
      ],
      "metadata": {
        "id": "q5JgliChURjq"
      },
      "execution_count": null,
      "outputs": []
    },
    {
      "cell_type": "code",
      "source": [
        "#using + sign to concatenate two strings\n",
        "first_Name=\"Ichhit\"\n",
        "last_Name=\"Sapkota\"\n",
        "full_Name=first_Name+last_Name\n",
        "print(full_Name)\n",
        "print(first_Name+\"  \"+last_Name) # with space"
      ],
      "metadata": {
        "colab": {
          "base_uri": "https://localhost:8080/"
        },
        "id": "NH0yrM22UkzD",
        "outputId": "6ccee854-02f7-40ae-834e-ed4a963481e9"
      },
      "execution_count": null,
      "outputs": [
        {
          "output_type": "stream",
          "name": "stdout",
          "text": [
            "IchhitSapkota\n",
            "Ichhit  Sapkota\n"
          ]
        }
      ]
    },
    {
      "cell_type": "code",
      "source": [
        "#type conversion\n",
        "# Implicit and Explicit"
      ],
      "metadata": {
        "id": "AMKa94J4UzsT"
      },
      "execution_count": null,
      "outputs": []
    },
    {
      "cell_type": "code",
      "source": [
        "#Implicit type conversion\n",
        "a=5\n",
        "c=5*1.0\n",
        "print(c)\n",
        "type(c)"
      ],
      "metadata": {
        "colab": {
          "base_uri": "https://localhost:8080/"
        },
        "id": "dTUZnNsDVhn7",
        "outputId": "9401b182-dda1-44f3-dd79-8510d5dce636"
      },
      "execution_count": null,
      "outputs": [
        {
          "output_type": "stream",
          "name": "stdout",
          "text": [
            "5.0\n"
          ]
        },
        {
          "output_type": "execute_result",
          "data": {
            "text/plain": [
              "float"
            ]
          },
          "metadata": {},
          "execution_count": 37
        }
      ]
    },
    {
      "cell_type": "code",
      "source": [
        "#explicit type conversion, convert 7.99 float to 7 integer\n",
        "num=7.99\n",
        "print(int(num))"
      ],
      "metadata": {
        "colab": {
          "base_uri": "https://localhost:8080/"
        },
        "id": "GahNFLwUVqQq",
        "outputId": "c6ff890a-fbec-4ea1-b5dc-b6a909b38bcc"
      },
      "execution_count": null,
      "outputs": [
        {
          "output_type": "stream",
          "name": "stdout",
          "text": [
            "7\n"
          ]
        }
      ]
    },
    {
      "cell_type": "code",
      "source": [
        "#input data from user\n",
        "c=input()"
      ],
      "metadata": {
        "colab": {
          "base_uri": "https://localhost:8080/"
        },
        "id": "Z5mDsrcxVsfi",
        "outputId": "a2914682-06ea-4cb1-9983-88f8817ffb2b"
      },
      "execution_count": null,
      "outputs": [
        {
          "name": "stdout",
          "output_type": "stream",
          "text": [
            "abc\n"
          ]
        }
      ]
    },
    {
      "cell_type": "code",
      "source": [
        "user_Data= input(\"Enter your name\")\n",
        "print(user_Data)"
      ],
      "metadata": {
        "colab": {
          "base_uri": "https://localhost:8080/"
        },
        "id": "e0F-izzuWS-T",
        "outputId": "348150d2-075e-4fea-ab31-22fff85561ed"
      },
      "execution_count": null,
      "outputs": [
        {
          "output_type": "stream",
          "name": "stdout",
          "text": [
            "Enter your nameIchhit Sapkota\n",
            "Ichhit Sapkota\n"
          ]
        }
      ]
    },
    {
      "cell_type": "code",
      "source": [
        "print(\"Your name is \\t\"+user_Data)"
      ],
      "metadata": {
        "colab": {
          "base_uri": "https://localhost:8080/"
        },
        "id": "HbcaYUTjWZ1K",
        "outputId": "79f5ed4f-2dd7-4af4-99de-b80ddf3b52c5"
      },
      "execution_count": null,
      "outputs": [
        {
          "output_type": "stream",
          "name": "stdout",
          "text": [
            "Your name is \tIchhit Sapkota\n"
          ]
        }
      ]
    },
    {
      "cell_type": "code",
      "source": [
        "print(\"Your number is\\t\"+input('Enter a number'))"
      ],
      "metadata": {
        "colab": {
          "base_uri": "https://localhost:8080/"
        },
        "id": "POLG1VD2WwXa",
        "outputId": "125f7ac8-f6ef-4cdc-b3de-bf8b6b87ff1f"
      },
      "execution_count": null,
      "outputs": [
        {
          "output_type": "stream",
          "name": "stdout",
          "text": [
            "Enter a number984412345\n",
            "Your number is\t984412345\n"
          ]
        }
      ]
    },
    {
      "cell_type": "code",
      "source": [
        "print(type(input('Enter a number')))"
      ],
      "metadata": {
        "colab": {
          "base_uri": "https://localhost:8080/"
        },
        "id": "CRP80MGnW82y",
        "outputId": "d182624b-3b9d-4ea8-c745-998b73c3c490"
      },
      "execution_count": null,
      "outputs": [
        {
          "output_type": "stream",
          "name": "stdout",
          "text": [
            "Enter a number12345\n",
            "<class 'str'>\n"
          ]
        }
      ]
    },
    {
      "cell_type": "code",
      "source": [
        "print(type(input('Enter a number')))"
      ],
      "metadata": {
        "colab": {
          "base_uri": "https://localhost:8080/"
        },
        "id": "tWmSWRewXTVK",
        "outputId": "e04ad7bf-6872-4557-eb66-37e728018562"
      },
      "execution_count": null,
      "outputs": [
        {
          "output_type": "stream",
          "name": "stdout",
          "text": [
            "Enter a numberabvcd\n",
            "<class 'str'>\n"
          ]
        }
      ]
    },
    {
      "cell_type": "code",
      "source": [
        "#input is always in string data type, if we input two numbers to add we must convert them into int first\n",
        "num1=input('Enter first number')\n",
        "num2=input('Enter second number')\n",
        "print(num1+num2)"
      ],
      "metadata": {
        "colab": {
          "base_uri": "https://localhost:8080/"
        },
        "id": "J5vb8xS-XWUy",
        "outputId": "248a85de-5b87-4382-f21b-1ac72253a016"
      },
      "execution_count": null,
      "outputs": [
        {
          "output_type": "stream",
          "name": "stdout",
          "text": [
            "Enter first number1\n",
            "Enter second number2\n",
            "12\n"
          ]
        }
      ]
    },
    {
      "cell_type": "code",
      "source": [
        "#here the result must be 3 but, since values of num1 and num2 are stored as string using + sign concatenates two numbers \"1\"+\"2\"=\"12\""
      ],
      "metadata": {
        "id": "-xGEUX1CXnLC"
      },
      "execution_count": null,
      "outputs": []
    },
    {
      "cell_type": "code",
      "source": [
        "num1=int(input('Enter first number'))\n",
        "num2=int(input('Enter second number'))\n",
        "print(num1+num2)"
      ],
      "metadata": {
        "colab": {
          "base_uri": "https://localhost:8080/"
        },
        "id": "RcdkKUfeX5OC",
        "outputId": "a0c042d0-376c-487c-b26a-a230fe4f2d58"
      },
      "execution_count": null,
      "outputs": [
        {
          "output_type": "stream",
          "name": "stdout",
          "text": [
            "Enter first number2\n",
            "Enter second number3\n",
            "5\n"
          ]
        }
      ]
    },
    {
      "cell_type": "code",
      "source": [
        "#using explicit type conversion we convert str to int and then perform calculation"
      ],
      "metadata": {
        "id": "pTWWRL4tX86y"
      },
      "execution_count": null,
      "outputs": []
    },
    {
      "cell_type": "code",
      "source": [
        "#adding int and str\n",
        "print(4+'ichhit')"
      ],
      "metadata": {
        "colab": {
          "base_uri": "https://localhost:8080/",
          "height": 159
        },
        "id": "gHH_a3P5YE9R",
        "outputId": "d14a6d4d-7635-4d89-c632-07c97df816a3"
      },
      "execution_count": null,
      "outputs": [
        {
          "output_type": "error",
          "ename": "TypeError",
          "evalue": "unsupported operand type(s) for +: 'int' and 'str'",
          "traceback": [
            "\u001b[0;31m---------------------------------------------------------------------------\u001b[0m",
            "\u001b[0;31mTypeError\u001b[0m                                 Traceback (most recent call last)",
            "\u001b[0;32m<ipython-input-53-a37dc3419560>\u001b[0m in \u001b[0;36m<cell line: 0>\u001b[0;34m()\u001b[0m\n\u001b[1;32m      1\u001b[0m \u001b[0;31m#adding int and str\u001b[0m\u001b[0;34m\u001b[0m\u001b[0;34m\u001b[0m\u001b[0m\n\u001b[0;32m----> 2\u001b[0;31m \u001b[0mprint\u001b[0m\u001b[0;34m(\u001b[0m\u001b[0;36m4\u001b[0m\u001b[0;34m+\u001b[0m\u001b[0;34m'ichhit'\u001b[0m\u001b[0;34m)\u001b[0m\u001b[0;34m\u001b[0m\u001b[0;34m\u001b[0m\u001b[0m\n\u001b[0m",
            "\u001b[0;31mTypeError\u001b[0m: unsupported operand type(s) for +: 'int' and 'str'"
          ]
        }
      ]
    },
    {
      "cell_type": "code",
      "source": [
        "#here it shows error because we cannot perform operation on two different data types\n",
        "print(str(100.2)+\"\\tIchhit\")"
      ],
      "metadata": {
        "colab": {
          "base_uri": "https://localhost:8080/"
        },
        "id": "qN2YZa5bYMDZ",
        "outputId": "d7644429-1194-4a23-e602-6c61bdf5038e"
      },
      "execution_count": null,
      "outputs": [
        {
          "output_type": "stream",
          "name": "stdout",
          "text": [
            "100.2\tIchhit\n"
          ]
        }
      ]
    },
    {
      "cell_type": "code",
      "source": [
        "#in the above code we converted 100.2 which is a float number to string and then we concatenate two strings"
      ],
      "metadata": {
        "id": "HAhdGw2QYYyy"
      },
      "execution_count": null,
      "outputs": []
    },
    {
      "cell_type": "markdown",
      "source": [
        "Literals"
      ],
      "metadata": {
        "id": "CGKfMkp8Yvie"
      }
    },
    {
      "cell_type": "code",
      "source": [
        "# Binary literals\n",
        "a=0b101001"
      ],
      "metadata": {
        "id": "yLMNsfP8Yxv6"
      },
      "execution_count": null,
      "outputs": []
    },
    {
      "cell_type": "code",
      "source": [
        "#Decimal Literals\n",
        "b=1002"
      ],
      "metadata": {
        "id": "IM9JbziUY1zq"
      },
      "execution_count": null,
      "outputs": []
    },
    {
      "cell_type": "code",
      "source": [
        "#Octal literals\n",
        "c=0o07"
      ],
      "metadata": {
        "id": "X5q0vjYdY5ER"
      },
      "execution_count": null,
      "outputs": []
    },
    {
      "cell_type": "code",
      "source": [
        "#hexadecimal literals\n",
        "d=0x1e2"
      ],
      "metadata": {
        "id": "ySIpHaLeY8op"
      },
      "execution_count": null,
      "outputs": []
    },
    {
      "cell_type": "markdown",
      "source": [
        "adding any two literals always gives value in decimal formal\n",
        "here a is binary and b is decimal, so a+b gives the decimal equivalent number"
      ],
      "metadata": {
        "id": "BOtVsDsCZRVx"
      }
    },
    {
      "cell_type": "code",
      "source": [
        "a+b"
      ],
      "metadata": {
        "colab": {
          "base_uri": "https://localhost:8080/"
        },
        "id": "VVXQ_B-JZCyC",
        "outputId": "5ad0b95f-93f3-452c-98b3-63a7beb04649"
      },
      "execution_count": null,
      "outputs": [
        {
          "output_type": "execute_result",
          "data": {
            "text/plain": [
              "1043"
            ]
          },
          "metadata": {},
          "execution_count": 61
        }
      ]
    },
    {
      "cell_type": "code",
      "source": [
        "c+d"
      ],
      "metadata": {
        "colab": {
          "base_uri": "https://localhost:8080/"
        },
        "id": "KQPUrTJiZFBh",
        "outputId": "f232b545-bbde-4bb2-9cc1-728c87128ba5"
      },
      "execution_count": null,
      "outputs": [
        {
          "output_type": "execute_result",
          "data": {
            "text/plain": [
              "489"
            ]
          },
          "metadata": {},
          "execution_count": 62
        }
      ]
    },
    {
      "cell_type": "code",
      "source": [
        "#complex literal\n",
        "x=2+3j\n",
        "print(x)\n",
        "print(x.real)\n",
        "print(x.imag)\n",
        "type(x)\n",
        "type(x.imag)"
      ],
      "metadata": {
        "colab": {
          "base_uri": "https://localhost:8080/"
        },
        "id": "QBqAyCwdZHni",
        "outputId": "f4a8df99-608d-481c-af9b-5ee097901d1e"
      },
      "execution_count": null,
      "outputs": [
        {
          "output_type": "stream",
          "name": "stdout",
          "text": [
            "(2+3j)\n",
            "2.0\n",
            "3.0\n"
          ]
        },
        {
          "output_type": "execute_result",
          "data": {
            "text/plain": [
              "float"
            ]
          },
          "metadata": {},
          "execution_count": 67
        }
      ]
    },
    {
      "cell_type": "code",
      "source": [
        "#using \"\" '' and \"\"\"    \"\"\", we can use all these quotation marks for string\n",
        "print(\"Hello\")\n",
        "print('Hello')\n",
        "print(\"\"\"Hello\"\"\")"
      ],
      "metadata": {
        "colab": {
          "base_uri": "https://localhost:8080/"
        },
        "id": "FjPyB9OYZzvx",
        "outputId": "9cbd9641-f555-4133-a326-e328e3bf533c"
      },
      "execution_count": null,
      "outputs": [
        {
          "output_type": "stream",
          "name": "stdout",
          "text": [
            "Hello\n",
            "Hello\n",
            "Hello\n"
          ]
        }
      ]
    },
    {
      "cell_type": "markdown",
      "source": [
        "# ***Operators***"
      ],
      "metadata": {
        "id": "EDy7fQvRbSZy"
      }
    },
    {
      "cell_type": "code",
      "source": [
        "#Arithmetic Operators\n",
        "print(6-5)\n",
        "print(6+5)\n",
        "print(6*5)\n",
        "print(6/5)\n",
        "print(6//5)  #integer division(only displays the integer part of the quotient)\n",
        "print(6%5)  # modulus operator(gives remainder)\n",
        "print(6**5) #6^5"
      ],
      "metadata": {
        "colab": {
          "base_uri": "https://localhost:8080/"
        },
        "id": "OizAA3h1bQZz",
        "outputId": "fb3af15f-74d3-49d8-fa85-804b12d89123"
      },
      "execution_count": null,
      "outputs": [
        {
          "output_type": "stream",
          "name": "stdout",
          "text": [
            "1\n",
            "11\n",
            "30\n",
            "1.2\n",
            "1\n",
            "1\n",
            "7776\n"
          ]
        }
      ]
    },
    {
      "cell_type": "code",
      "source": [
        "#Relational Operators\n",
        "print(4>5)\n",
        "print(4<5)\n",
        "print(4==5)\n",
        "print(4<=5)\n",
        "print(4>=5)\n",
        "print(4!=5) # not equals to"
      ],
      "metadata": {
        "colab": {
          "base_uri": "https://localhost:8080/"
        },
        "id": "qZT7AfEIblDr",
        "outputId": "47141a78-226c-4755-c0c0-6c71fbcb9b75"
      },
      "execution_count": null,
      "outputs": [
        {
          "output_type": "stream",
          "name": "stdout",
          "text": [
            "False\n",
            "True\n",
            "False\n",
            "True\n",
            "False\n",
            "True\n"
          ]
        }
      ]
    },
    {
      "cell_type": "code",
      "source": [
        "#Logical Operators\n",
        "print(1 or 0)\n",
        "print(1 and 0)\n",
        "print(not 1)\n",
        "print(1 ^ 0) # xor"
      ],
      "metadata": {
        "colab": {
          "base_uri": "https://localhost:8080/"
        },
        "id": "IrVaJLnjcGES",
        "outputId": "a7d733b4-c175-46a2-83ba-cb53850d226f"
      },
      "execution_count": null,
      "outputs": [
        {
          "output_type": "stream",
          "name": "stdout",
          "text": [
            "1\n",
            "0\n",
            "False\n",
            "1\n"
          ]
        }
      ]
    },
    {
      "cell_type": "code",
      "source": [
        "#bitwise operator\n",
        "print(2 & 3) # bit wise and"
      ],
      "metadata": {
        "colab": {
          "base_uri": "https://localhost:8080/"
        },
        "id": "mu4HpQP7ckKU",
        "outputId": "80680175-5591-46d8-b17b-9145c13fb52b"
      },
      "execution_count": null,
      "outputs": [
        {
          "output_type": "stream",
          "name": "stdout",
          "text": [
            "2\n"
          ]
        }
      ]
    },
    {
      "cell_type": "markdown",
      "source": [
        "2 in decimal = 10 in binary \\\\\n",
        "3 in decimal = 11 in binary \\\\\n",
        "so 2 & 3 is anding each bit \\\\\n",
        "1 & 1 = 1 \\\\\n",
        "0 & 1 = 0 \\\\\n",
        "so output is 10 which is equivalent to 2"
      ],
      "metadata": {
        "id": "lTd9FIotc1ge"
      }
    },
    {
      "cell_type": "code",
      "source": [
        "print(2 | 3) #bitwise or"
      ],
      "metadata": {
        "colab": {
          "base_uri": "https://localhost:8080/"
        },
        "id": "yNS5U2oWczvq",
        "outputId": "cab27272-cf72-4c66-fa02-404c5c540234"
      },
      "execution_count": null,
      "outputs": [
        {
          "output_type": "stream",
          "name": "stdout",
          "text": [
            "3\n"
          ]
        }
      ]
    },
    {
      "cell_type": "code",
      "source": [
        "print (2 ^ 3) # bit wise xor operation, not 2 power 3"
      ],
      "metadata": {
        "colab": {
          "base_uri": "https://localhost:8080/"
        },
        "id": "sJfkg7gudnHq",
        "outputId": "d3e9ca20-892c-4580-93be-5ca5f2a5d9fd"
      },
      "execution_count": null,
      "outputs": [
        {
          "output_type": "stream",
          "name": "stdout",
          "text": [
            "1\n"
          ]
        }
      ]
    },
    {
      "cell_type": "markdown",
      "source": [
        "2 = 10 \\\\\n",
        "3 = 11 \\\\\n",
        "1 xor 1 = 0 \\\\\n",
        "0 xor 1 = 1 \\\\\n",
        "so 01 = 1\n"
      ],
      "metadata": {
        "id": "9ANWt8uNd-Gl"
      }
    },
    {
      "cell_type": "code",
      "source": [
        "print(~3) #not of 3\n",
        "#3= 0011  and not of 0011 is 1100 and since the msb represent the sign bit and 1 means negative so its -4"
      ],
      "metadata": {
        "colab": {
          "base_uri": "https://localhost:8080/"
        },
        "id": "kN2Ti1Afd7NS",
        "outputId": "ef7e8b21-d78c-4478-e646-59c9b96d52df"
      },
      "execution_count": null,
      "outputs": [
        {
          "output_type": "stream",
          "name": "stdout",
          "text": [
            "-4\n"
          ]
        }
      ]
    },
    {
      "cell_type": "code",
      "source": [
        "#left shift\n",
        "print(2<<3)\n",
        "# here 2== 01 and shifting 01 to 4(0to3 index) digits left is 010000 which is equal to"
      ],
      "metadata": {
        "colab": {
          "base_uri": "https://localhost:8080/"
        },
        "id": "yKyl4bjUebND",
        "outputId": "9fe4a38f-a55b-46d2-fa14-e48105ae72a4"
      },
      "execution_count": null,
      "outputs": [
        {
          "output_type": "stream",
          "name": "stdout",
          "text": [
            "16\n"
          ]
        }
      ]
    },
    {
      "cell_type": "code",
      "source": [
        "#right shift\n",
        "print(32>>3)\n",
        "# 32 == 100000 and right shift it 4 digits will result in 0000100"
      ],
      "metadata": {
        "colab": {
          "base_uri": "https://localhost:8080/"
        },
        "id": "7QDQ2FAcfQyx",
        "outputId": "63530d9f-8061-4792-bc4b-8f78247192ef"
      },
      "execution_count": null,
      "outputs": [
        {
          "output_type": "stream",
          "name": "stdout",
          "text": [
            "4\n"
          ]
        }
      ]
    },
    {
      "cell_type": "code",
      "source": [
        "#assignment operators\n",
        "a=2\n",
        "a+=2 #a=a+2\n",
        "print(a)\n",
        "a%=3 # a = a%2\n",
        "print(a)"
      ],
      "metadata": {
        "colab": {
          "base_uri": "https://localhost:8080/"
        },
        "id": "KNEqedhNf5dR",
        "outputId": "8e932cc7-f0e4-4d81-840b-74d5f5a9ba96"
      },
      "execution_count": null,
      "outputs": [
        {
          "output_type": "stream",
          "name": "stdout",
          "text": [
            "4\n",
            "1\n"
          ]
        }
      ]
    },
    {
      "cell_type": "code",
      "source": [
        "#Membership operator"
      ],
      "metadata": {
        "id": "R3N5usvThTwK"
      },
      "execution_count": null,
      "outputs": []
    },
    {
      "cell_type": "code",
      "source": [
        "print('K' in 'Kathmandu')"
      ],
      "metadata": {
        "colab": {
          "base_uri": "https://localhost:8080/"
        },
        "id": "9i0xK96WhqX6",
        "outputId": "1c362294-f48b-4443-8a6d-3a73c2dc7b42"
      },
      "execution_count": null,
      "outputs": [
        {
          "output_type": "stream",
          "name": "stdout",
          "text": [
            "True\n"
          ]
        }
      ]
    },
    {
      "cell_type": "code",
      "source": [
        "print('B' in 'Kathmandu')"
      ],
      "metadata": {
        "colab": {
          "base_uri": "https://localhost:8080/"
        },
        "id": "plvpBo130AQS",
        "outputId": "53da3f2d-ab44-4578-b819-bd11e5ab04a8"
      },
      "execution_count": null,
      "outputs": [
        {
          "output_type": "stream",
          "name": "stdout",
          "text": [
            "False\n"
          ]
        }
      ]
    },
    {
      "cell_type": "code",
      "source": [
        "print(1 in [1,2,3,4])"
      ],
      "metadata": {
        "colab": {
          "base_uri": "https://localhost:8080/"
        },
        "id": "MRu576fx0DRC",
        "outputId": "f893a281-f883-4023-a64a-d5d52ebd06e2"
      },
      "execution_count": null,
      "outputs": [
        {
          "output_type": "stream",
          "name": "stdout",
          "text": [
            "True\n"
          ]
        }
      ]
    },
    {
      "cell_type": "code",
      "source": [
        "print(5 in [1,2,3,4])"
      ],
      "metadata": {
        "colab": {
          "base_uri": "https://localhost:8080/"
        },
        "id": "RXQUkmsd0ItM",
        "outputId": "e0519431-0efb-425e-8a0d-7543a4edec11"
      },
      "execution_count": null,
      "outputs": [
        {
          "output_type": "stream",
          "name": "stdout",
          "text": [
            "False\n"
          ]
        }
      ]
    },
    {
      "cell_type": "markdown",
      "source": [
        "If-else program"
      ],
      "metadata": {
        "id": "i_sx7Y8B0UCH"
      }
    },
    {
      "cell_type": "code",
      "source": [
        "num = int(input(\"Enter a number\\t\"))\n",
        "if (num %2 ==0):\n",
        "    print(\"Even\")\n",
        "elif (num % 2 != 0):  #else if\n",
        "    print(\"Odd\")\n",
        "else :\n",
        "    print(\"Invalid\")"
      ],
      "metadata": {
        "colab": {
          "base_uri": "https://localhost:8080/"
        },
        "id": "POC3bDjY0MFt",
        "outputId": "6f8c5901-2af2-414c-ffb3-df5a65496c25"
      },
      "execution_count": null,
      "outputs": [
        {
          "output_type": "stream",
          "name": "stdout",
          "text": [
            "Enter a number\t56\n",
            "Even\n"
          ]
        }
      ]
    },
    {
      "cell_type": "code",
      "source": [
        "email=input(\"Enter your email\")\n",
        "password=input(\"Enter your password\")\n",
        "if email=='ichhit@abc.com' and password == 'abc123':\n",
        "  print(\"Welcome\")\n",
        "else:\n",
        "  print(\"Invalid credentials\")"
      ],
      "metadata": {
        "colab": {
          "base_uri": "https://localhost:8080/"
        },
        "id": "Cr8W_1Kn03Xu",
        "outputId": "240e94e8-9075-4a0f-c443-ff7ff30b9aee"
      },
      "execution_count": null,
      "outputs": [
        {
          "output_type": "stream",
          "name": "stdout",
          "text": [
            "Enter your emailabc@dec.com\n",
            "Enter your passwordyhaha\n",
            "Invalid credentials\n"
          ]
        }
      ]
    },
    {
      "cell_type": "code",
      "source": [
        "num1=float(input('Enter first number'))\n",
        "num2=float(input('Enter second number'))\n",
        "op= input(\"Enter operator\")\n",
        "if op=='+':\n",
        "  print(num1+num2)\n",
        "elif op=='-':\n",
        "  print(num1-num2)\n",
        "elif op=='*':\n",
        "  print(num1*num2)\n",
        "elif op=='/':\n",
        "  print(num1/num2)\n",
        "else:\n",
        "  print(\"Invalid operator\")\n"
      ],
      "metadata": {
        "colab": {
          "base_uri": "https://localhost:8080/"
        },
        "id": "v8mSA2zv1o9O",
        "outputId": "6ede8f5d-6241-4216-d6a5-53ac9bc8ba67"
      },
      "execution_count": null,
      "outputs": [
        {
          "output_type": "stream",
          "name": "stdout",
          "text": [
            "Enter first number12\n",
            "Enter second number23\n",
            "Enter operator-\n",
            "-11.0\n"
          ]
        }
      ]
    },
    {
      "cell_type": "code",
      "source": [],
      "metadata": {
        "id": "_JftT0BO2VEc"
      },
      "execution_count": null,
      "outputs": []
    },
    {
      "cell_type": "markdown",
      "source": [
        "Mathematical Calculations"
      ],
      "metadata": {
        "id": "KUnYO4du2kwR"
      }
    },
    {
      "cell_type": "code",
      "source": [
        "import math"
      ],
      "metadata": {
        "id": "NP4b_dhP2m11"
      },
      "execution_count": null,
      "outputs": []
    },
    {
      "cell_type": "code",
      "source": [
        "math.sqrt(144)"
      ],
      "metadata": {
        "colab": {
          "base_uri": "https://localhost:8080/"
        },
        "id": "zy3O2m_82oEl",
        "outputId": "dd627c1f-3767-4199-8fa5-81f8b3c3b439"
      },
      "execution_count": null,
      "outputs": [
        {
          "output_type": "execute_result",
          "data": {
            "text/plain": [
              "12.0"
            ]
          },
          "metadata": {},
          "execution_count": 117
        }
      ]
    },
    {
      "cell_type": "code",
      "source": [
        "math.sin(90)"
      ],
      "metadata": {
        "colab": {
          "base_uri": "https://localhost:8080/"
        },
        "id": "SAarjJP02tkG",
        "outputId": "c9a0f817-854a-4893-dcaa-c6286c226003"
      },
      "execution_count": null,
      "outputs": [
        {
          "output_type": "execute_result",
          "data": {
            "text/plain": [
              "0.8939966636005579"
            ]
          },
          "metadata": {},
          "execution_count": 122
        }
      ]
    },
    {
      "cell_type": "code",
      "source": [
        "import keyword"
      ],
      "metadata": {
        "id": "unV5mR042wfi"
      },
      "execution_count": null,
      "outputs": []
    },
    {
      "cell_type": "code",
      "source": [
        "keyword.kwlist   # display all keywords of python"
      ],
      "metadata": {
        "colab": {
          "base_uri": "https://localhost:8080/"
        },
        "id": "vPKsBCMk3EbF",
        "outputId": "5490936d-ee65-4856-f030-6bd35af63113"
      },
      "execution_count": null,
      "outputs": [
        {
          "output_type": "execute_result",
          "data": {
            "text/plain": [
              "['False',\n",
              " 'None',\n",
              " 'True',\n",
              " 'and',\n",
              " 'as',\n",
              " 'assert',\n",
              " 'async',\n",
              " 'await',\n",
              " 'break',\n",
              " 'class',\n",
              " 'continue',\n",
              " 'def',\n",
              " 'del',\n",
              " 'elif',\n",
              " 'else',\n",
              " 'except',\n",
              " 'finally',\n",
              " 'for',\n",
              " 'from',\n",
              " 'global',\n",
              " 'if',\n",
              " 'import',\n",
              " 'in',\n",
              " 'is',\n",
              " 'lambda',\n",
              " 'nonlocal',\n",
              " 'not',\n",
              " 'or',\n",
              " 'pass',\n",
              " 'raise',\n",
              " 'return',\n",
              " 'try',\n",
              " 'while',\n",
              " 'with',\n",
              " 'yield']"
            ]
          },
          "metadata": {},
          "execution_count": 125
        }
      ]
    },
    {
      "cell_type": "code",
      "source": [
        "import random"
      ],
      "metadata": {
        "id": "dYs7FWd13GM2"
      },
      "execution_count": null,
      "outputs": []
    },
    {
      "cell_type": "code",
      "source": [
        "print(random.randint(1,100))  #generate a random integer between 1 to 100, changes every time you execute the program"
      ],
      "metadata": {
        "colab": {
          "base_uri": "https://localhost:8080/"
        },
        "id": "7aZCMp8B3L5N",
        "outputId": "dc85ae9a-f9ff-4c67-8de4-0a0b7f207fca"
      },
      "execution_count": null,
      "outputs": [
        {
          "output_type": "stream",
          "name": "stdout",
          "text": [
            "22\n"
          ]
        }
      ]
    },
    {
      "cell_type": "code",
      "source": [
        "import datetime"
      ],
      "metadata": {
        "id": "9p2rRDBP3Qr8"
      },
      "execution_count": null,
      "outputs": []
    },
    {
      "cell_type": "code",
      "source": [
        "print(datetime.datetime.now())"
      ],
      "metadata": {
        "colab": {
          "base_uri": "https://localhost:8080/"
        },
        "id": "WZcIrvS-3Zok",
        "outputId": "e3bb9120-b195-4842-ea18-4211f44adb5e"
      },
      "execution_count": null,
      "outputs": [
        {
          "output_type": "stream",
          "name": "stdout",
          "text": [
            "2025-04-10 13:22:44.769751\n"
          ]
        }
      ]
    },
    {
      "cell_type": "markdown",
      "source": [
        "Loops\n",
        "1. While Loop\n",
        "2. For loop"
      ],
      "metadata": {
        "id": "66cP_l1e3mDL"
      }
    },
    {
      "cell_type": "code",
      "source": [
        "#while loop\n",
        "i=1\n",
        "while i<10:\n",
        "  print(\"I love Nepal\")\n",
        "  i+=1"
      ],
      "metadata": {
        "colab": {
          "base_uri": "https://localhost:8080/"
        },
        "id": "p9Azph2V3f_1",
        "outputId": "e99e567a-232b-4e55-83e1-5cc08976980f"
      },
      "execution_count": null,
      "outputs": [
        {
          "output_type": "stream",
          "name": "stdout",
          "text": [
            "I love Nepal\n",
            "I love Nepal\n",
            "I love Nepal\n",
            "I love Nepal\n",
            "I love Nepal\n",
            "I love Nepal\n",
            "I love Nepal\n",
            "I love Nepal\n",
            "I love Nepal\n"
          ]
        }
      ]
    },
    {
      "cell_type": "code",
      "source": [
        "#while loop with else\n",
        "i=1\n",
        "while i<10:\n",
        "  print(\"I love Nepal\")\n",
        "  i+=1\n",
        "else:\n",
        "  print(\"I dont love Nepal anymore\")"
      ],
      "metadata": {
        "colab": {
          "base_uri": "https://localhost:8080/"
        },
        "id": "ZMtwTiN430k9",
        "outputId": "bd92c3e3-3a54-4474-da0a-57f2f20203b8"
      },
      "execution_count": null,
      "outputs": [
        {
          "output_type": "stream",
          "name": "stdout",
          "text": [
            "I love Nepal\n",
            "I love Nepal\n",
            "I love Nepal\n",
            "I love Nepal\n",
            "I love Nepal\n",
            "I love Nepal\n",
            "I love Nepal\n",
            "I love Nepal\n",
            "I love Nepal\n",
            "I dont love Nepal anymore\n"
          ]
        }
      ]
    },
    {
      "cell_type": "code",
      "source": [
        "#For loop\n",
        "for i in range(1,11):    #for(int i=1;i<11;i++)\n",
        "  print(\"i love nepal  \"+str(i)+\"  times\")"
      ],
      "metadata": {
        "colab": {
          "base_uri": "https://localhost:8080/"
        },
        "id": "z-WdNtQ65His",
        "outputId": "5a26a4e9-963d-4589-9193-5626d6bb2f9a"
      },
      "execution_count": null,
      "outputs": [
        {
          "output_type": "stream",
          "name": "stdout",
          "text": [
            "i love nepal  1  times\n",
            "i love nepal  2  times\n",
            "i love nepal  3  times\n",
            "i love nepal  4  times\n",
            "i love nepal  5  times\n",
            "i love nepal  6  times\n",
            "i love nepal  7  times\n",
            "i love nepal  8  times\n",
            "i love nepal  9  times\n",
            "i love nepal  10  times\n"
          ]
        }
      ]
    },
    {
      "cell_type": "code",
      "source": [
        "for i in range(1,11,2):  #with increament of 2 for(i=1;i<11;i=i+2)\n",
        "  print(\"Hi\")"
      ],
      "metadata": {
        "colab": {
          "base_uri": "https://localhost:8080/"
        },
        "id": "QoFdPoLR56m9",
        "outputId": "142e62b8-871d-4890-c9a1-eba79cb5d6a5"
      },
      "execution_count": null,
      "outputs": [
        {
          "output_type": "stream",
          "name": "stdout",
          "text": [
            "Hi\n",
            "Hi\n",
            "Hi\n",
            "Hi\n",
            "Hi\n"
          ]
        }
      ]
    },
    {
      "cell_type": "code",
      "source": [
        "for i in range (10,-9,-3):\n",
        "  print(i)"
      ],
      "metadata": {
        "colab": {
          "base_uri": "https://localhost:8080/"
        },
        "id": "fHBIJ9sW6R7F",
        "outputId": "c5485344-8c32-4c3b-c927-41db7543d724"
      },
      "execution_count": null,
      "outputs": [
        {
          "output_type": "stream",
          "name": "stdout",
          "text": [
            "10\n",
            "7\n",
            "4\n",
            "1\n",
            "-2\n",
            "-5\n",
            "-8\n"
          ]
        }
      ]
    },
    {
      "cell_type": "code",
      "source": [],
      "metadata": {
        "id": "Et-QpC6N6pl9"
      },
      "execution_count": null,
      "outputs": []
    }
  ]
}