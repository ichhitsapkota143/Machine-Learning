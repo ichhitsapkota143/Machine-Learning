{
  "nbformat": 4,
  "nbformat_minor": 0,
  "metadata": {
    "colab": {
      "provenance": [],
      "authorship_tag": "ABX9TyPcLispHWRyAKTfsUyPLwVW",
      "include_colab_link": true
    },
    "kernelspec": {
      "name": "python3",
      "display_name": "Python 3"
    },
    "language_info": {
      "name": "python"
    }
  },
  "cells": [
    {
      "cell_type": "markdown",
      "metadata": {
        "id": "view-in-github",
        "colab_type": "text"
      },
      "source": [
        "<a href=\"https://colab.research.google.com/github/ichhitsapkota143/Machine-Learning/blob/main/Day40.ipynb\" target=\"_parent\"><img src=\"https://colab.research.google.com/assets/colab-badge.svg\" alt=\"Open In Colab\"/></a>"
      ]
    },
    {
      "cell_type": "code",
      "execution_count": null,
      "metadata": {
        "colab": {
          "base_uri": "https://localhost:8080/"
        },
        "id": "2R3ZCAdkVJmA",
        "outputId": "847935f9-0778-4a9d-9c7a-91ec8deb4b17"
      },
      "outputs": [
        {
          "output_type": "stream",
          "name": "stdout",
          "text": [
            " Deposited $500 into Alice's savings account.\n",
            " Withdrew $300 from Alice's savings account.\n",
            " Withdrawal Error: Withdrawal amount must be positive.\n",
            " Deposit Error: invalid literal for int() with base 10: 'two hundred'\n",
            " Interest of $24.00 added to savings.\n",
            " Deposited $200 into Bob's current account.\n",
            " Withdrew $1000 from Bob's current account.\n",
            " Withdrawal Error: Overdraft limit exceeded.\n",
            "\n",
            " Account Summary for Alice:\n",
            "Balance: $1224.00\n",
            "\n",
            " Account Summary for Bob:\n",
            "Balance: $-300.00\n"
          ]
        }
      ],
      "source": [
        "# Base Class\n",
        "class Account:\n",
        "    def __init__(self, owner, balance=0):\n",
        "        self.owner = owner\n",
        "        self._balance = balance  # Protected attribute\n",
        "\n",
        "    def deposit(self, amount):\n",
        "        raise NotImplementedError(\"Deposit method must be implemented by subclass.\")\n",
        "\n",
        "    def withdraw(self, amount):\n",
        "        raise NotImplementedError(\"Withdraw method must be implemented by subclass.\")\n",
        "\n",
        "    def get_balance(self):\n",
        "        return self._balance\n",
        "\n",
        "\n",
        "# Subclass: Savings Account\n",
        "class SavingsAccount(Account):\n",
        "    def __init__(self, owner, balance=0, interest_rate=0.02):\n",
        "        super().__init__(owner, balance)\n",
        "        self.__interest_rate = interest_rate  # Private\n",
        "\n",
        "    def deposit(self, amount):\n",
        "        try:\n",
        "            if int(amount) <= 0:\n",
        "                raise ValueError(\"Deposit amount must be positive.\")\n",
        "            self._balance += amount\n",
        "            print(f\" Deposited ${amount} into {self.owner}'s savings account.\")\n",
        "        except ValueError as e:\n",
        "            print(f\" Deposit Error: {e}\")\n",
        "\n",
        "    def withdraw(self, amount):\n",
        "        try:\n",
        "            if amount <= 0:\n",
        "                raise ValueError(\"Withdrawal amount must be positive.\")\n",
        "            if amount > self._balance:\n",
        "                raise Exception(\"Insufficient funds in savings account.\")\n",
        "            self._balance -= amount\n",
        "            print(f\" Withdrew ${amount} from {self.owner}'s savings account.\")\n",
        "        except Exception as e:\n",
        "            print(f\" Withdrawal Error: {e}\")\n",
        "\n",
        "    def add_interest(self):\n",
        "        interest = self._balance * self.__interest_rate\n",
        "        self._balance += interest\n",
        "        print(f\" Interest of ${interest:.2f} added to savings.\")\n",
        "\n",
        "\n",
        "# Subclass: Current Account\n",
        "class CurrentAccount(Account):\n",
        "    def __init__(self, owner, balance=0, overdraft_limit=500):\n",
        "        super().__init__(owner, balance)\n",
        "        self.__overdraft_limit = overdraft_limit\n",
        "\n",
        "    def deposit(self, amount):\n",
        "        try:\n",
        "            if amount <= 0:\n",
        "                raise ValueError(\"Deposit amount must be positive.\")\n",
        "            self._balance += amount\n",
        "            print(f\" Deposited ${amount} into {self.owner}'s current account.\")\n",
        "        except ValueError as e:\n",
        "            print(f\" Deposit Error: {e}\")\n",
        "\n",
        "    def withdraw(self, amount):\n",
        "        try:\n",
        "            if amount <= 0:\n",
        "                raise ValueError(\"Withdrawal amount must be positive.\")\n",
        "            if amount > self._balance + self.__overdraft_limit:\n",
        "                raise Exception(\"Overdraft limit exceeded.\")\n",
        "            self._balance -= amount\n",
        "            print(f\" Withdrew ${amount} from {self.owner}'s current account.\")\n",
        "        except Exception as e:\n",
        "            print(f\" Withdrawal Error: {e}\")\n",
        "\n",
        "\n",
        "# Polymorphism Function\n",
        "def print_account_summary(account):\n",
        "    print(f\"\\n Account Summary for {account.owner}:\")\n",
        "    print(f\"Balance: ${account.get_balance():.2f}\")\n",
        "\n",
        "\n",
        "# Main Program\n",
        "if __name__ == \"__main__\":\n",
        "    # Creating accounts\n",
        "    savings = SavingsAccount(\"Alice\", 1000)\n",
        "    current = CurrentAccount(\"Bob\", 500)\n",
        "\n",
        "    # Transactions with exception handling\n",
        "    savings.deposit(500)\n",
        "    savings.withdraw(300)\n",
        "    savings.withdraw(-50)           # Invalid amount\n",
        "    savings.deposit(\"two hundred\")  # TypeError (not caught here; handled by Python)\n",
        "\n",
        "    savings.add_interest()\n",
        "\n",
        "    current.deposit(200)\n",
        "    current.withdraw(1000)\n",
        "    current.withdraw(1000)  # This one will trigger overdraft limit\n",
        "\n",
        "    # Account summaries\n",
        "    for acc in [savings, current]:\n",
        "        print_account_summary(acc)\n"
      ]
    },
    {
      "cell_type": "code",
      "source": [],
      "metadata": {
        "id": "8I4SzQk3VKvK"
      },
      "execution_count": null,
      "outputs": []
    }
  ]
}