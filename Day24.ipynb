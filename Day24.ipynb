{
  "nbformat": 4,
  "nbformat_minor": 0,
  "metadata": {
    "colab": {
      "provenance": [],
      "authorship_tag": "ABX9TyOtIOwoHl0y1mEyUNo0B5Vt",
      "include_colab_link": true
    },
    "kernelspec": {
      "name": "python3",
      "display_name": "Python 3"
    },
    "language_info": {
      "name": "python"
    }
  },
  "cells": [
    {
      "cell_type": "markdown",
      "metadata": {
        "id": "view-in-github",
        "colab_type": "text"
      },
      "source": [
        "<a href=\"https://colab.research.google.com/github/ichhitsapkota143/Machine-Learning/blob/main/Day24.ipynb\" target=\"_parent\"><img src=\"https://colab.research.google.com/assets/colab-badge.svg\" alt=\"Open In Colab\"/></a>"
      ]
    },
    {
      "cell_type": "code",
      "execution_count": 5,
      "metadata": {
        "colab": {
          "base_uri": "https://localhost:8080/"
        },
        "id": "tM8r26VqA7qh",
        "outputId": "dbcadcec-1969-4bb3-9435-e79fd422406c"
      },
      "outputs": [
        {
          "output_type": "stream",
          "name": "stdout",
          "text": [
            "gender                         0\n",
            "race/ethnicity                 0\n",
            "parental level of education    0\n",
            "lunch                          0\n",
            "test preparation course        0\n",
            "math score                     0\n",
            "reading score                  0\n",
            "writing score                  0\n",
            "dtype: int64\n"
          ]
        }
      ],
      "source": [
        "import pandas as pd\n",
        "from sklearn.model_selection import train_test_split\n",
        "from sklearn.preprocessing import OneHotEncoder, StandardScaler\n",
        "from sklearn.compose import ColumnTransformer\n",
        "from sklearn.pipeline import Pipeline\n",
        "\n",
        "# Load data\n",
        "df = pd.read_csv('StudentsPerformance.csv')\n",
        "\n",
        "# Check for missing values\n",
        "print(df.isnull().sum())  # No missing values in this dataset\n",
        "\n",
        "# Define features and target\n",
        "X = df.drop(['math score', 'reading score', 'writing score'], axis=1)\n",
        "y = df[['math score', 'reading score', 'writing score']]  # Can predict separately or together\n",
        "\n",
        "# Preprocessing pipeline\n",
        "categorical_features = ['gender', 'race/ethnicity', 'parental level of education', 'lunch', 'test preparation course']\n",
        "numeric_features = []  # No numeric features in original data\n",
        "\n",
        "preprocessor = ColumnTransformer(\n",
        "    transformers=[\n",
        "        ('cat', OneHotEncoder(handle_unknown='ignore'), categorical_features)\n",
        "    ])\n",
        "\n",
        "# Split data\n",
        "X_train, X_test, y_train, y_test = train_test_split(X, y, test_size=0.2, random_state=42)"
      ]
    },
    {
      "cell_type": "code",
      "source": [
        "from sklearn.linear_model import LinearRegression\n",
        "from sklearn.tree import DecisionTreeRegressor\n",
        "from sklearn.ensemble import RandomForestRegressor\n",
        "from sklearn.metrics import mean_squared_error, r2_score\n",
        "\n",
        "math_model = Pipeline(steps=[\n",
        "    ('preprocessor', preprocessor),\n",
        "    ('regressor', RandomForestRegressor(random_state=42))\n",
        "])\n",
        "\n",
        "math_model.fit(X_train, y_train['math score'])\n",
        "math_preds = math_model.predict(X_test)\n",
        "\n",
        "print(f\"Math Score MSE: {mean_squared_error(y_test['math score'], math_preds):.2f}\")\n",
        "print(f\"Math Score R2: {r2_score(y_test['math score'], math_preds):.2f}\")"
      ],
      "metadata": {
        "colab": {
          "base_uri": "https://localhost:8080/"
        },
        "id": "Ekl2dOaoBiSe",
        "outputId": "2944157c-69b3-4a90-8491-7225cad71e2e"
      },
      "execution_count": 7,
      "outputs": [
        {
          "output_type": "stream",
          "name": "stdout",
          "text": [
            "Math Score MSE: 245.79\n",
            "Math Score R2: -0.01\n"
          ]
        }
      ]
    },
    {
      "cell_type": "code",
      "source": [],
      "metadata": {
        "id": "iMwmlD2-GCsA"
      },
      "execution_count": null,
      "outputs": []
    }
  ]
}