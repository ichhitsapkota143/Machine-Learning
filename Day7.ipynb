{
  "nbformat": 4,
  "nbformat_minor": 0,
  "metadata": {
    "colab": {
      "provenance": [],
      "authorship_tag": "ABX9TyPks3AnNAp3sCUwcYYo9ahN",
      "include_colab_link": true
    },
    "kernelspec": {
      "name": "python3",
      "display_name": "Python 3"
    },
    "language_info": {
      "name": "python"
    }
  },
  "cells": [
    {
      "cell_type": "markdown",
      "metadata": {
        "id": "view-in-github",
        "colab_type": "text"
      },
      "source": [
        "<a href=\"https://colab.research.google.com/github/ichhitsapkota143/Machine-Learning/blob/main/Day7.ipynb\" target=\"_parent\"><img src=\"https://colab.research.google.com/assets/colab-badge.svg\" alt=\"Open In Colab\"/></a>"
      ]
    },
    {
      "cell_type": "markdown",
      "source": [
        "# **Advanced Numpy operations**"
      ],
      "metadata": {
        "id": "GYBRybZFjJ7b"
      }
    },
    {
      "cell_type": "code",
      "execution_count": 1,
      "metadata": {
        "id": "j2rwvsecjGux"
      },
      "outputs": [],
      "source": [
        "import numpy as np"
      ]
    },
    {
      "cell_type": "markdown",
      "source": [
        "Stacking\n",
        "to stack/add two or more array horizontally or vertically"
      ],
      "metadata": {
        "id": "VdCcHq1ZjUze"
      }
    },
    {
      "cell_type": "code",
      "source": [
        "#horizontal stacking\n",
        "arr1=np.random.random(12).reshape(3,4)\n",
        "arr2=np.random.random(12).reshape(3,4)\n",
        "print(arr1)\n",
        "print('\\n')\n",
        "print(arr2)\n",
        "print('\\n')\n",
        "print('\\n')\n",
        "print('Horizontally stacked output is \\n')\n",
        "print(np.hstack((arr1,arr2)))\n",
        "print(np.hstack((arr1,arr2)).shape)\n",
        "#gives 3x8 matrix i.e 3x(4+4)"
      ],
      "metadata": {
        "colab": {
          "base_uri": "https://localhost:8080/"
        },
        "id": "8LlOlgU8jQP1",
        "outputId": "3a95e672-dddb-46b2-f73c-88e7b60ebd39"
      },
      "execution_count": 14,
      "outputs": [
        {
          "output_type": "stream",
          "name": "stdout",
          "text": [
            "[[0.63312487 0.30222223 0.03482937 0.95349138]\n",
            " [0.67163676 0.12987147 0.70216216 0.93348156]\n",
            " [0.27580318 0.61536463 0.75822716 0.63653443]]\n",
            "\n",
            "\n",
            "[[0.73508177 0.09254619 0.89511369 0.94980003]\n",
            " [0.58907245 0.44454714 0.890358   0.0364335 ]\n",
            " [0.8097883  0.9870276  0.96865111 0.21887366]]\n",
            "\n",
            "\n",
            "\n",
            "\n",
            "Horizontally stacked output is \n",
            "\n",
            "[[0.63312487 0.30222223 0.03482937 0.95349138 0.73508177 0.09254619\n",
            "  0.89511369 0.94980003]\n",
            " [0.67163676 0.12987147 0.70216216 0.93348156 0.58907245 0.44454714\n",
            "  0.890358   0.0364335 ]\n",
            " [0.27580318 0.61536463 0.75822716 0.63653443 0.8097883  0.9870276\n",
            "  0.96865111 0.21887366]]\n",
            "(3, 8)\n"
          ]
        }
      ]
    },
    {
      "cell_type": "code",
      "source": [
        "#vertical stack\n",
        "print(np.vstack((arr1,arr2)))\n",
        "print(np.vstack((arr1,arr2)).shape)\n",
        "#gives 6x4 matrix i.e (3+3)x4"
      ],
      "metadata": {
        "colab": {
          "base_uri": "https://localhost:8080/"
        },
        "id": "vIA5xLVAjnJN",
        "outputId": "87c2a6f6-a917-4024-c894-684a1972ca25"
      },
      "execution_count": 15,
      "outputs": [
        {
          "output_type": "stream",
          "name": "stdout",
          "text": [
            "[[0.63312487 0.30222223 0.03482937 0.95349138]\n",
            " [0.67163676 0.12987147 0.70216216 0.93348156]\n",
            " [0.27580318 0.61536463 0.75822716 0.63653443]\n",
            " [0.73508177 0.09254619 0.89511369 0.94980003]\n",
            " [0.58907245 0.44454714 0.890358   0.0364335 ]\n",
            " [0.8097883  0.9870276  0.96865111 0.21887366]]\n",
            "(6, 4)\n"
          ]
        }
      ]
    },
    {
      "cell_type": "code",
      "source": [
        "#we can stack as much array as we need\n",
        "np.vstack((arr1,arr2,arr1,arr2))"
      ],
      "metadata": {
        "colab": {
          "base_uri": "https://localhost:8080/"
        },
        "id": "J5u4ajr1j-pb",
        "outputId": "23b75174-28c4-408f-da3f-7400cbe1b351"
      },
      "execution_count": 16,
      "outputs": [
        {
          "output_type": "execute_result",
          "data": {
            "text/plain": [
              "array([[0.63312487, 0.30222223, 0.03482937, 0.95349138],\n",
              "       [0.67163676, 0.12987147, 0.70216216, 0.93348156],\n",
              "       [0.27580318, 0.61536463, 0.75822716, 0.63653443],\n",
              "       [0.73508177, 0.09254619, 0.89511369, 0.94980003],\n",
              "       [0.58907245, 0.44454714, 0.890358  , 0.0364335 ],\n",
              "       [0.8097883 , 0.9870276 , 0.96865111, 0.21887366],\n",
              "       [0.63312487, 0.30222223, 0.03482937, 0.95349138],\n",
              "       [0.67163676, 0.12987147, 0.70216216, 0.93348156],\n",
              "       [0.27580318, 0.61536463, 0.75822716, 0.63653443],\n",
              "       [0.73508177, 0.09254619, 0.89511369, 0.94980003],\n",
              "       [0.58907245, 0.44454714, 0.890358  , 0.0364335 ],\n",
              "       [0.8097883 , 0.9870276 , 0.96865111, 0.21887366]])"
            ]
          },
          "metadata": {},
          "execution_count": 16
        }
      ]
    },
    {
      "cell_type": "markdown",
      "source": [
        "Splitting\n",
        "opposite of stacking, two split an array into two or more arrays"
      ],
      "metadata": {
        "id": "HWlDSsnslGwH"
      }
    },
    {
      "cell_type": "code",
      "source": [
        "#horizontal splitting\n",
        "arr1"
      ],
      "metadata": {
        "colab": {
          "base_uri": "https://localhost:8080/"
        },
        "id": "OacuKIbylBJ7",
        "outputId": "81640cba-005f-4856-8cb3-c5a22c4363e3"
      },
      "execution_count": 17,
      "outputs": [
        {
          "output_type": "execute_result",
          "data": {
            "text/plain": [
              "array([[0.63312487, 0.30222223, 0.03482937, 0.95349138],\n",
              "       [0.67163676, 0.12987147, 0.70216216, 0.93348156],\n",
              "       [0.27580318, 0.61536463, 0.75822716, 0.63653443]])"
            ]
          },
          "metadata": {},
          "execution_count": 17
        }
      ]
    },
    {
      "cell_type": "code",
      "source": [
        "np.hsplit(arr1,2) #to divide the array horizontally into two arrays of 3x4"
      ],
      "metadata": {
        "colab": {
          "base_uri": "https://localhost:8080/"
        },
        "id": "uoO55lnLmMNr",
        "outputId": "508b8b8b-510f-4541-ec12-b005b950b4c2"
      },
      "execution_count": 19,
      "outputs": [
        {
          "output_type": "execute_result",
          "data": {
            "text/plain": [
              "[array([[0.63312487, 0.30222223],\n",
              "        [0.67163676, 0.12987147],\n",
              "        [0.27580318, 0.61536463]]),\n",
              " array([[0.03482937, 0.95349138],\n",
              "        [0.70216216, 0.93348156],\n",
              "        [0.75822716, 0.63653443]])]"
            ]
          },
          "metadata": {},
          "execution_count": 19
        }
      ]
    },
    {
      "cell_type": "code",
      "source": [
        "np.hsplit(arr1,3)"
      ],
      "metadata": {
        "colab": {
          "base_uri": "https://localhost:8080/",
          "height": 287
        },
        "id": "X4eozOXhmR-L",
        "outputId": "39c4442c-9667-4ff4-d05d-6f64a995d5d4"
      },
      "execution_count": 20,
      "outputs": [
        {
          "output_type": "error",
          "ename": "ValueError",
          "evalue": "array split does not result in an equal division",
          "traceback": [
            "\u001b[0;31m---------------------------------------------------------------------------\u001b[0m",
            "\u001b[0;31mValueError\u001b[0m                                Traceback (most recent call last)",
            "\u001b[0;32m<ipython-input-20-54da977451e4>\u001b[0m in \u001b[0;36m<cell line: 0>\u001b[0;34m()\u001b[0m\n\u001b[0;32m----> 1\u001b[0;31m \u001b[0mnp\u001b[0m\u001b[0;34m.\u001b[0m\u001b[0mhsplit\u001b[0m\u001b[0;34m(\u001b[0m\u001b[0marr1\u001b[0m\u001b[0;34m,\u001b[0m\u001b[0;36m3\u001b[0m\u001b[0;34m)\u001b[0m\u001b[0;34m\u001b[0m\u001b[0;34m\u001b[0m\u001b[0m\n\u001b[0m",
            "\u001b[0;32m/usr/local/lib/python3.11/dist-packages/numpy/lib/_shape_base_impl.py\u001b[0m in \u001b[0;36mhsplit\u001b[0;34m(ary, indices_or_sections)\u001b[0m\n\u001b[1;32m    946\u001b[0m         \u001b[0;32mraise\u001b[0m \u001b[0mValueError\u001b[0m\u001b[0;34m(\u001b[0m\u001b[0;34m'hsplit only works on arrays of 1 or more dimensions'\u001b[0m\u001b[0;34m)\u001b[0m\u001b[0;34m\u001b[0m\u001b[0;34m\u001b[0m\u001b[0m\n\u001b[1;32m    947\u001b[0m     \u001b[0;32mif\u001b[0m \u001b[0mary\u001b[0m\u001b[0;34m.\u001b[0m\u001b[0mndim\u001b[0m \u001b[0;34m>\u001b[0m \u001b[0;36m1\u001b[0m\u001b[0;34m:\u001b[0m\u001b[0;34m\u001b[0m\u001b[0;34m\u001b[0m\u001b[0m\n\u001b[0;32m--> 948\u001b[0;31m         \u001b[0;32mreturn\u001b[0m \u001b[0msplit\u001b[0m\u001b[0;34m(\u001b[0m\u001b[0mary\u001b[0m\u001b[0;34m,\u001b[0m \u001b[0mindices_or_sections\u001b[0m\u001b[0;34m,\u001b[0m \u001b[0;36m1\u001b[0m\u001b[0;34m)\u001b[0m\u001b[0;34m\u001b[0m\u001b[0;34m\u001b[0m\u001b[0m\n\u001b[0m\u001b[1;32m    949\u001b[0m     \u001b[0;32melse\u001b[0m\u001b[0;34m:\u001b[0m\u001b[0;34m\u001b[0m\u001b[0;34m\u001b[0m\u001b[0m\n\u001b[1;32m    950\u001b[0m         \u001b[0;32mreturn\u001b[0m \u001b[0msplit\u001b[0m\u001b[0;34m(\u001b[0m\u001b[0mary\u001b[0m\u001b[0;34m,\u001b[0m \u001b[0mindices_or_sections\u001b[0m\u001b[0;34m,\u001b[0m \u001b[0;36m0\u001b[0m\u001b[0;34m)\u001b[0m\u001b[0;34m\u001b[0m\u001b[0;34m\u001b[0m\u001b[0m\n",
            "\u001b[0;32m/usr/local/lib/python3.11/dist-packages/numpy/lib/_shape_base_impl.py\u001b[0m in \u001b[0;36msplit\u001b[0;34m(ary, indices_or_sections, axis)\u001b[0m\n\u001b[1;32m    872\u001b[0m         \u001b[0mN\u001b[0m \u001b[0;34m=\u001b[0m \u001b[0mary\u001b[0m\u001b[0;34m.\u001b[0m\u001b[0mshape\u001b[0m\u001b[0;34m[\u001b[0m\u001b[0maxis\u001b[0m\u001b[0;34m]\u001b[0m\u001b[0;34m\u001b[0m\u001b[0;34m\u001b[0m\u001b[0m\n\u001b[1;32m    873\u001b[0m         \u001b[0;32mif\u001b[0m \u001b[0mN\u001b[0m \u001b[0;34m%\u001b[0m \u001b[0msections\u001b[0m\u001b[0;34m:\u001b[0m\u001b[0;34m\u001b[0m\u001b[0;34m\u001b[0m\u001b[0m\n\u001b[0;32m--> 874\u001b[0;31m             raise ValueError(\n\u001b[0m\u001b[1;32m    875\u001b[0m                 'array split does not result in an equal division') from None\n\u001b[1;32m    876\u001b[0m     \u001b[0;32mreturn\u001b[0m \u001b[0marray_split\u001b[0m\u001b[0;34m(\u001b[0m\u001b[0mary\u001b[0m\u001b[0;34m,\u001b[0m \u001b[0mindices_or_sections\u001b[0m\u001b[0;34m,\u001b[0m \u001b[0maxis\u001b[0m\u001b[0;34m)\u001b[0m\u001b[0;34m\u001b[0m\u001b[0;34m\u001b[0m\u001b[0m\n",
            "\u001b[0;31mValueError\u001b[0m: array split does not result in an equal division"
          ]
        }
      ]
    },
    {
      "cell_type": "code",
      "source": [
        "#we can only divide them into equal parts here 3x4 matrix can be divided into two 3x2 matrix or four 3x1 matrix"
      ],
      "metadata": {
        "id": "y3DdyQrYmhIz"
      },
      "execution_count": 21,
      "outputs": []
    },
    {
      "cell_type": "code",
      "source": [
        "np.hsplit(arr1,4)"
      ],
      "metadata": {
        "colab": {
          "base_uri": "https://localhost:8080/"
        },
        "id": "AnvzX1ldmwpL",
        "outputId": "1de009c9-cedb-4679-d1ab-df5f617af2cd"
      },
      "execution_count": 22,
      "outputs": [
        {
          "output_type": "execute_result",
          "data": {
            "text/plain": [
              "[array([[0.63312487],\n",
              "        [0.67163676],\n",
              "        [0.27580318]]),\n",
              " array([[0.30222223],\n",
              "        [0.12987147],\n",
              "        [0.61536463]]),\n",
              " array([[0.03482937],\n",
              "        [0.70216216],\n",
              "        [0.75822716]]),\n",
              " array([[0.95349138],\n",
              "        [0.93348156],\n",
              "        [0.63653443]])]"
            ]
          },
          "metadata": {},
          "execution_count": 22
        }
      ]
    },
    {
      "cell_type": "code",
      "source": [
        "#vertical split\n",
        "arr2"
      ],
      "metadata": {
        "colab": {
          "base_uri": "https://localhost:8080/"
        },
        "id": "ngexEgzUmylL",
        "outputId": "cfc00c86-02ae-4c0f-91e6-5e4b81ad0b5b"
      },
      "execution_count": 23,
      "outputs": [
        {
          "output_type": "execute_result",
          "data": {
            "text/plain": [
              "array([[0.73508177, 0.09254619, 0.89511369, 0.94980003],\n",
              "       [0.58907245, 0.44454714, 0.890358  , 0.0364335 ],\n",
              "       [0.8097883 , 0.9870276 , 0.96865111, 0.21887366]])"
            ]
          },
          "metadata": {},
          "execution_count": 23
        }
      ]
    },
    {
      "cell_type": "code",
      "source": [
        "np.vsplit(arr2,2)\n",
        "#here we cannot split the matrix into two parts because its a 3*4 matrix and it cannot be divided by 2 3/2"
      ],
      "metadata": {
        "colab": {
          "base_uri": "https://localhost:8080/",
          "height": 304
        },
        "id": "gEpI_gptm1Nj",
        "outputId": "4f3a3fe5-d5b9-4059-bbd2-b7d2b984891d"
      },
      "execution_count": 25,
      "outputs": [
        {
          "output_type": "error",
          "ename": "ValueError",
          "evalue": "array split does not result in an equal division",
          "traceback": [
            "\u001b[0;31m---------------------------------------------------------------------------\u001b[0m",
            "\u001b[0;31mValueError\u001b[0m                                Traceback (most recent call last)",
            "\u001b[0;32m<ipython-input-25-77ef25f77616>\u001b[0m in \u001b[0;36m<cell line: 0>\u001b[0;34m()\u001b[0m\n\u001b[0;32m----> 1\u001b[0;31m \u001b[0mnp\u001b[0m\u001b[0;34m.\u001b[0m\u001b[0mvsplit\u001b[0m\u001b[0;34m(\u001b[0m\u001b[0marr2\u001b[0m\u001b[0;34m,\u001b[0m\u001b[0;36m2\u001b[0m\u001b[0;34m)\u001b[0m\u001b[0;34m\u001b[0m\u001b[0;34m\u001b[0m\u001b[0m\n\u001b[0m\u001b[1;32m      2\u001b[0m \u001b[0;31m#here we cannot split the matrix into two parts because its a 3*4 matrix and it cannot be divided by 2 3/2\u001b[0m\u001b[0;34m\u001b[0m\u001b[0;34m\u001b[0m\u001b[0m\n",
            "\u001b[0;32m/usr/local/lib/python3.11/dist-packages/numpy/lib/_shape_base_impl.py\u001b[0m in \u001b[0;36mvsplit\u001b[0;34m(ary, indices_or_sections)\u001b[0m\n\u001b[1;32m   1001\u001b[0m     \u001b[0;32mif\u001b[0m \u001b[0m_nx\u001b[0m\u001b[0;34m.\u001b[0m\u001b[0mndim\u001b[0m\u001b[0;34m(\u001b[0m\u001b[0mary\u001b[0m\u001b[0;34m)\u001b[0m \u001b[0;34m<\u001b[0m \u001b[0;36m2\u001b[0m\u001b[0;34m:\u001b[0m\u001b[0;34m\u001b[0m\u001b[0;34m\u001b[0m\u001b[0m\n\u001b[1;32m   1002\u001b[0m         \u001b[0;32mraise\u001b[0m \u001b[0mValueError\u001b[0m\u001b[0;34m(\u001b[0m\u001b[0;34m'vsplit only works on arrays of 2 or more dimensions'\u001b[0m\u001b[0;34m)\u001b[0m\u001b[0;34m\u001b[0m\u001b[0;34m\u001b[0m\u001b[0m\n\u001b[0;32m-> 1003\u001b[0;31m     \u001b[0;32mreturn\u001b[0m \u001b[0msplit\u001b[0m\u001b[0;34m(\u001b[0m\u001b[0mary\u001b[0m\u001b[0;34m,\u001b[0m \u001b[0mindices_or_sections\u001b[0m\u001b[0;34m,\u001b[0m \u001b[0;36m0\u001b[0m\u001b[0;34m)\u001b[0m\u001b[0;34m\u001b[0m\u001b[0;34m\u001b[0m\u001b[0m\n\u001b[0m\u001b[1;32m   1004\u001b[0m \u001b[0;34m\u001b[0m\u001b[0m\n\u001b[1;32m   1005\u001b[0m \u001b[0;34m\u001b[0m\u001b[0m\n",
            "\u001b[0;32m/usr/local/lib/python3.11/dist-packages/numpy/lib/_shape_base_impl.py\u001b[0m in \u001b[0;36msplit\u001b[0;34m(ary, indices_or_sections, axis)\u001b[0m\n\u001b[1;32m    872\u001b[0m         \u001b[0mN\u001b[0m \u001b[0;34m=\u001b[0m \u001b[0mary\u001b[0m\u001b[0;34m.\u001b[0m\u001b[0mshape\u001b[0m\u001b[0;34m[\u001b[0m\u001b[0maxis\u001b[0m\u001b[0;34m]\u001b[0m\u001b[0;34m\u001b[0m\u001b[0;34m\u001b[0m\u001b[0m\n\u001b[1;32m    873\u001b[0m         \u001b[0;32mif\u001b[0m \u001b[0mN\u001b[0m \u001b[0;34m%\u001b[0m \u001b[0msections\u001b[0m\u001b[0;34m:\u001b[0m\u001b[0;34m\u001b[0m\u001b[0;34m\u001b[0m\u001b[0m\n\u001b[0;32m--> 874\u001b[0;31m             raise ValueError(\n\u001b[0m\u001b[1;32m    875\u001b[0m                 'array split does not result in an equal division') from None\n\u001b[1;32m    876\u001b[0m     \u001b[0;32mreturn\u001b[0m \u001b[0marray_split\u001b[0m\u001b[0;34m(\u001b[0m\u001b[0mary\u001b[0m\u001b[0;34m,\u001b[0m \u001b[0mindices_or_sections\u001b[0m\u001b[0;34m,\u001b[0m \u001b[0maxis\u001b[0m\u001b[0;34m)\u001b[0m\u001b[0;34m\u001b[0m\u001b[0;34m\u001b[0m\u001b[0m\n",
            "\u001b[0;31mValueError\u001b[0m: array split does not result in an equal division"
          ]
        }
      ]
    },
    {
      "cell_type": "code",
      "source": [
        "np.vsplit(arr2,3)"
      ],
      "metadata": {
        "colab": {
          "base_uri": "https://localhost:8080/"
        },
        "id": "_9hZxGJwm5Mh",
        "outputId": "daf0c633-11f0-4e35-955f-efe54c8a9d87"
      },
      "execution_count": 26,
      "outputs": [
        {
          "output_type": "execute_result",
          "data": {
            "text/plain": [
              "[array([[0.73508177, 0.09254619, 0.89511369, 0.94980003]]),\n",
              " array([[0.58907245, 0.44454714, 0.890358  , 0.0364335 ]]),\n",
              " array([[0.8097883 , 0.9870276 , 0.96865111, 0.21887366]])]"
            ]
          },
          "metadata": {},
          "execution_count": 26
        }
      ]
    },
    {
      "cell_type": "markdown",
      "source": [
        "# **Numpy array vs Pyhon lists**"
      ],
      "metadata": {
        "id": "ujDGvdR8nXvz"
      }
    },
    {
      "cell_type": "markdown",
      "source": [
        "Speed"
      ],
      "metadata": {
        "id": "skBLTAxAngBz"
      }
    },
    {
      "cell_type": "code",
      "source": [
        "#list\n",
        "import time\n",
        "a= [i for i in range(10000000)]\n",
        "b= [i for i in range(1000000,20000000)]\n",
        "c=[]\n",
        "start=time.time()\n",
        "for i in  range(len(a)):\n",
        "  c.append(a[i]+b[i])\n",
        "end=time.time()\n",
        "print('Time taken = ',end-start)\n",
        "\n"
      ],
      "metadata": {
        "colab": {
          "base_uri": "https://localhost:8080/"
        },
        "id": "NQgBnhaWnHaT",
        "outputId": "a3458f8e-ed22-4692-ccf7-f40331731389"
      },
      "execution_count": 28,
      "outputs": [
        {
          "output_type": "stream",
          "name": "stdout",
          "text": [
            "Time taken =  2.0503478050231934\n"
          ]
        }
      ]
    },
    {
      "cell_type": "code",
      "source": [
        "#numpy array\n",
        "a = np.arange(10000000)\n",
        "b = np.arange(10000000,20000000)\n",
        "start=time.time()\n",
        "c = a+b\n",
        "end=time.time()\n",
        "print('Time taken = ',end-start)"
      ],
      "metadata": {
        "colab": {
          "base_uri": "https://localhost:8080/"
        },
        "id": "XMdQN9P8nxwz",
        "outputId": "1f30b9e2-3306-4f4b-8d41-dbaff4fece0e"
      },
      "execution_count": 31,
      "outputs": [
        {
          "output_type": "stream",
          "name": "stdout",
          "text": [
            "Time taken =  0.030559539794921875\n"
          ]
        }
      ]
    },
    {
      "cell_type": "markdown",
      "source": [
        "We see that time taken by numpy array is very very less compared to python list."
      ],
      "metadata": {
        "id": "Svaa3CY9ozDM"
      }
    },
    {
      "cell_type": "code",
      "source": [
        "2.0503478050231934/0.030559539794921875"
      ],
      "metadata": {
        "colab": {
          "base_uri": "https://localhost:8080/"
        },
        "id": "-4m7s-W-o6Uj",
        "outputId": "845368de-ec34-4d07-d7a5-32bd9d30cf4e"
      },
      "execution_count": 32,
      "outputs": [
        {
          "output_type": "execute_result",
          "data": {
            "text/plain": [
              "67.0935432530271"
            ]
          },
          "metadata": {},
          "execution_count": 32
        }
      ]
    },
    {
      "cell_type": "code",
      "source": [
        "#we can see numpy array is almost 67 times faster than python list"
      ],
      "metadata": {
        "id": "ymZl7oMFpBET"
      },
      "execution_count": 33,
      "outputs": []
    },
    {
      "cell_type": "markdown",
      "source": [
        "Memory"
      ],
      "metadata": {
        "id": "NKy834TrGCes"
      }
    },
    {
      "cell_type": "code",
      "source": [
        "#list\n",
        "import sys\n",
        "a=[i for i in range(10000000)]\n",
        "sys.getsizeof(a)"
      ],
      "metadata": {
        "colab": {
          "base_uri": "https://localhost:8080/"
        },
        "id": "LfpsJ70xpLs0",
        "outputId": "438b647c-4dca-4603-98a7-7776b929f803"
      },
      "execution_count": 10,
      "outputs": [
        {
          "output_type": "execute_result",
          "data": {
            "text/plain": [
              "89095160"
            ]
          },
          "metadata": {},
          "execution_count": 10
        }
      ]
    },
    {
      "cell_type": "code",
      "source": [
        "#array\n",
        "import numpy as np\n",
        "a=np.arange(10000000,dtype=np.int8)\n",
        "sys.getsizeof(a)"
      ],
      "metadata": {
        "colab": {
          "base_uri": "https://localhost:8080/"
        },
        "id": "pzGhli81GIEz",
        "outputId": "00164183-818c-4212-dacd-baf7d0fdbe12"
      },
      "execution_count": 13,
      "outputs": [
        {
          "output_type": "execute_result",
          "data": {
            "text/plain": [
              "10000112"
            ]
          },
          "metadata": {},
          "execution_count": 13
        }
      ]
    },
    {
      "cell_type": "code",
      "source": [
        "#here we can see that numpy array takes lesser space than that of python list"
      ],
      "metadata": {
        "id": "DOLsDYBKGeF2"
      },
      "execution_count": 6,
      "outputs": []
    },
    {
      "cell_type": "code",
      "source": [
        "89095160-10000112"
      ],
      "metadata": {
        "colab": {
          "base_uri": "https://localhost:8080/"
        },
        "id": "EtdYoBmVGnPG",
        "outputId": "734c2783-34cb-4267-ef58-6d23904168d7"
      },
      "execution_count": 14,
      "outputs": [
        {
          "output_type": "execute_result",
          "data": {
            "text/plain": [
              "79095048"
            ]
          },
          "metadata": {},
          "execution_count": 14
        }
      ]
    },
    {
      "cell_type": "markdown",
      "source": [
        "Convinence"
      ],
      "metadata": {
        "id": "WzIdBWtoHF-c"
      }
    },
    {
      "cell_type": "code",
      "source": [
        "#list\n",
        "import time\n",
        "a= [i for i in range(10000000)]\n",
        "b= [i for i in range(1000000,20000000)]\n",
        "c=[]\n",
        "start=time.time()\n",
        "for i in  range(len(a)):\n",
        "  c.append(a[i]+b[i])\n",
        "end=time.time()\n",
        "print('Time taken = ',end-start)\n",
        "\n",
        "#numpy array\n",
        "a = np.arange(10000000)\n",
        "b = np.arange(10000000,20000000)\n",
        "start=time.time()\n",
        "c = a+b\n",
        "end=time.time()\n",
        "print('Time taken = ',end-start)"
      ],
      "metadata": {
        "colab": {
          "base_uri": "https://localhost:8080/"
        },
        "id": "EqJ6ViB7Gqce",
        "outputId": "ebc87735-5dfa-441b-9c4f-ca59c4018083"
      },
      "execution_count": 15,
      "outputs": [
        {
          "output_type": "stream",
          "name": "stdout",
          "text": [
            "Time taken =  1.7915918827056885\n",
            "Time taken =  0.03495430946350098\n"
          ]
        }
      ]
    },
    {
      "cell_type": "code",
      "source": [
        "#here we can see that numpy is more convinent, c=a+b where as we had to use loop and add each element"
      ],
      "metadata": {
        "id": "MqHAVfgOHRO_"
      },
      "execution_count": 17,
      "outputs": []
    },
    {
      "cell_type": "markdown",
      "source": [
        "# ***Advanced Indexing***"
      ],
      "metadata": {
        "id": "8U0UO7fgHd0X"
      }
    },
    {
      "cell_type": "code",
      "source": [
        "#normal indexing and slicing\n",
        "a=np.arange(12).reshape(4,3)\n",
        "a"
      ],
      "metadata": {
        "colab": {
          "base_uri": "https://localhost:8080/"
        },
        "id": "b_kfITVFHbFH",
        "outputId": "de7f2048-f543-4312-9f33-fa7c10f657e3"
      },
      "execution_count": 20,
      "outputs": [
        {
          "output_type": "execute_result",
          "data": {
            "text/plain": [
              "array([[ 0,  1,  2],\n",
              "       [ 3,  4,  5],\n",
              "       [ 6,  7,  8],\n",
              "       [ 9, 10, 11]])"
            ]
          },
          "metadata": {},
          "execution_count": 20
        }
      ]
    },
    {
      "cell_type": "code",
      "source": [
        "a[1,2]"
      ],
      "metadata": {
        "colab": {
          "base_uri": "https://localhost:8080/"
        },
        "id": "4m6_qsjtIFlF",
        "outputId": "59b3ac1f-3da9-4ec8-cf27-3493a9fbd3e1"
      },
      "execution_count": 21,
      "outputs": [
        {
          "output_type": "execute_result",
          "data": {
            "text/plain": [
              "np.int64(5)"
            ]
          },
          "metadata": {},
          "execution_count": 21
        }
      ]
    },
    {
      "cell_type": "code",
      "source": [
        "a[1:3,1:3]"
      ],
      "metadata": {
        "colab": {
          "base_uri": "https://localhost:8080/"
        },
        "id": "Xel7ymOMIGsH",
        "outputId": "332d672e-9a62-44b2-ad29-df9bf4c971dc"
      },
      "execution_count": 22,
      "outputs": [
        {
          "output_type": "execute_result",
          "data": {
            "text/plain": [
              "array([[4, 5],\n",
              "       [7, 8]])"
            ]
          },
          "metadata": {},
          "execution_count": 22
        }
      ]
    },
    {
      "cell_type": "code",
      "source": [
        "#to find first and third\n",
        "a[::2]\n",
        "#increament by 2"
      ],
      "metadata": {
        "colab": {
          "base_uri": "https://localhost:8080/"
        },
        "id": "fOPcYFS6Itpd",
        "outputId": "01abad88-b5cb-4f84-8af2-f4ac6e5976ee"
      },
      "execution_count": 25,
      "outputs": [
        {
          "output_type": "execute_result",
          "data": {
            "text/plain": [
              "array([[0, 1, 2],\n",
              "       [6, 7, 8]])"
            ]
          },
          "metadata": {},
          "execution_count": 25
        }
      ]
    },
    {
      "cell_type": "code",
      "source": [
        "#fancy indexing\n",
        "a"
      ],
      "metadata": {
        "colab": {
          "base_uri": "https://localhost:8080/"
        },
        "id": "cS77y4n-IYqe",
        "outputId": "9d5d6589-825f-47bc-931a-969dc90907ec"
      },
      "execution_count": 23,
      "outputs": [
        {
          "output_type": "execute_result",
          "data": {
            "text/plain": [
              "array([[ 0,  1,  2],\n",
              "       [ 3,  4,  5],\n",
              "       [ 6,  7,  8],\n",
              "       [ 9, 10, 11]])"
            ]
          },
          "metadata": {},
          "execution_count": 23
        }
      ]
    },
    {
      "cell_type": "code",
      "source": [
        "#to find first, third and fourth row\n",
        "a[[0,2,3]]\n",
        "#provide the index of the row that is to be printed, here row 0,2,3 index row are to be printed"
      ],
      "metadata": {
        "colab": {
          "base_uri": "https://localhost:8080/"
        },
        "id": "btGj9PVqIh7i",
        "outputId": "3d58ae3b-32c4-4bf7-c11a-6e7ce921a729"
      },
      "execution_count": 28,
      "outputs": [
        {
          "output_type": "execute_result",
          "data": {
            "text/plain": [
              "array([[ 0,  1,  2],\n",
              "       [ 6,  7,  8],\n",
              "       [ 9, 10, 11]])"
            ]
          },
          "metadata": {},
          "execution_count": 28
        }
      ]
    },
    {
      "cell_type": "code",
      "source": [
        "b=np.arange(24).reshape(6,4)\n",
        "b"
      ],
      "metadata": {
        "colab": {
          "base_uri": "https://localhost:8080/"
        },
        "id": "r7fVcqtsI4m3",
        "outputId": "73886f11-4587-4f5a-fce6-29c86c193dbd"
      },
      "execution_count": 30,
      "outputs": [
        {
          "output_type": "execute_result",
          "data": {
            "text/plain": [
              "array([[ 0,  1,  2,  3],\n",
              "       [ 4,  5,  6,  7],\n",
              "       [ 8,  9, 10, 11],\n",
              "       [12, 13, 14, 15],\n",
              "       [16, 17, 18, 19],\n",
              "       [20, 21, 22, 23]])"
            ]
          },
          "metadata": {},
          "execution_count": 30
        }
      ]
    },
    {
      "cell_type": "code",
      "source": [
        "#to print 1st,3rd,4th,and last row\n",
        "b[[0,2,3,-1]]"
      ],
      "metadata": {
        "colab": {
          "base_uri": "https://localhost:8080/"
        },
        "id": "MKn7Fmm9JQYI",
        "outputId": "0f8599c7-418a-4832-c762-415eb8bc02a5"
      },
      "execution_count": 32,
      "outputs": [
        {
          "output_type": "execute_result",
          "data": {
            "text/plain": [
              "array([[ 0,  1,  2,  3],\n",
              "       [ 8,  9, 10, 11],\n",
              "       [12, 13, 14, 15],\n",
              "       [20, 21, 22, 23]])"
            ]
          },
          "metadata": {},
          "execution_count": 32
        }
      ]
    },
    {
      "cell_type": "code",
      "source": [
        "#to print all rows,but first third and last column\n",
        "b[:,[0,2,3]]"
      ],
      "metadata": {
        "colab": {
          "base_uri": "https://localhost:8080/"
        },
        "id": "884_GwtDJajX",
        "outputId": "0dc487e8-f334-41fa-b698-07f7f658e45e"
      },
      "execution_count": 33,
      "outputs": [
        {
          "output_type": "execute_result",
          "data": {
            "text/plain": [
              "array([[ 0,  2,  3],\n",
              "       [ 4,  6,  7],\n",
              "       [ 8, 10, 11],\n",
              "       [12, 14, 15],\n",
              "       [16, 18, 19],\n",
              "       [20, 22, 23]])"
            ]
          },
          "metadata": {},
          "execution_count": 33
        }
      ]
    },
    {
      "cell_type": "code",
      "source": [
        "#to print 5,6 and 13,14\n",
        "b[[1,3],1:3]"
      ],
      "metadata": {
        "colab": {
          "base_uri": "https://localhost:8080/"
        },
        "id": "jIS7SyjWJtIX",
        "outputId": "417b3eb3-349d-4f86-cb76-34c347b7b2ad"
      },
      "execution_count": 43,
      "outputs": [
        {
          "output_type": "execute_result",
          "data": {
            "text/plain": [
              "array([[ 5,  6],\n",
              "       [13, 14]])"
            ]
          },
          "metadata": {},
          "execution_count": 43
        }
      ]
    },
    {
      "cell_type": "markdown",
      "source": [
        "Boolean indexing"
      ],
      "metadata": {
        "id": "GtZwHWJHLnIl"
      }
    },
    {
      "cell_type": "code",
      "source": [
        "#Boolean indexing\n",
        "a=np.random.randint(1,100,24).reshape(6,4)\n",
        "a\n",
        "#randint(start,end,noOfElements)"
      ],
      "metadata": {
        "colab": {
          "base_uri": "https://localhost:8080/"
        },
        "id": "8EPBJj0OJy3q",
        "outputId": "5fb3fbc5-6685-4899-e9b4-be59de0cf2dc"
      },
      "execution_count": 46,
      "outputs": [
        {
          "output_type": "execute_result",
          "data": {
            "text/plain": [
              "array([[18, 38, 32, 18],\n",
              "       [95,  3, 95, 80],\n",
              "       [94,  1, 51,  2],\n",
              "       [21, 70, 12, 54],\n",
              "       [20, 72, 53, 12],\n",
              "       [29, 16, 77, 92]])"
            ]
          },
          "metadata": {},
          "execution_count": 46
        }
      ]
    },
    {
      "cell_type": "code",
      "source": [
        "#find all numbers greater than 50\n",
        "a>50"
      ],
      "metadata": {
        "colab": {
          "base_uri": "https://localhost:8080/"
        },
        "id": "FJKjPO91LBBO",
        "outputId": "75ccf954-9007-410f-a457-ee8839bd2296"
      },
      "execution_count": 51,
      "outputs": [
        {
          "output_type": "execute_result",
          "data": {
            "text/plain": [
              "array([[False, False, False, False],\n",
              "       [ True, False,  True,  True],\n",
              "       [ True, False,  True, False],\n",
              "       [False,  True, False,  True],\n",
              "       [False,  True,  True, False],\n",
              "       [False, False,  True,  True]])"
            ]
          },
          "metadata": {},
          "execution_count": 51
        }
      ]
    },
    {
      "cell_type": "code",
      "source": [
        "a[a>50]"
      ],
      "metadata": {
        "colab": {
          "base_uri": "https://localhost:8080/"
        },
        "id": "BLflVFDhLgWP",
        "outputId": "7405d734-8ed9-4b38-8fd2-bf0562df3fba"
      },
      "execution_count": 52,
      "outputs": [
        {
          "output_type": "execute_result",
          "data": {
            "text/plain": [
              "array([95, 95, 80, 94, 51, 70, 54, 72, 53, 77, 92])"
            ]
          },
          "metadata": {},
          "execution_count": 52
        }
      ]
    },
    {
      "cell_type": "code",
      "source": [
        "#find even numbers\n",
        "a[a%2==0]"
      ],
      "metadata": {
        "colab": {
          "base_uri": "https://localhost:8080/"
        },
        "id": "FJdcwcsaL9bW",
        "outputId": "be73ee94-e991-4245-9956-515283615919"
      },
      "execution_count": 53,
      "outputs": [
        {
          "output_type": "execute_result",
          "data": {
            "text/plain": [
              "array([18, 38, 32, 18, 80, 94,  2, 70, 12, 54, 20, 72, 12, 16, 92])"
            ]
          },
          "metadata": {},
          "execution_count": 53
        }
      ]
    },
    {
      "cell_type": "code",
      "source": [
        "#to find all numbers greater than 50 and even\n",
        "a[(a>50) & (a%2==0)]"
      ],
      "metadata": {
        "colab": {
          "base_uri": "https://localhost:8080/"
        },
        "id": "01cX8xvKMBdm",
        "outputId": "f64382db-46df-467e-bc64-079006912864"
      },
      "execution_count": 56,
      "outputs": [
        {
          "output_type": "execute_result",
          "data": {
            "text/plain": [
              "array([80, 94, 70, 54, 72, 92])"
            ]
          },
          "metadata": {},
          "execution_count": 56
        }
      ]
    },
    {
      "cell_type": "code",
      "source": [
        "a[(a>50) and (a%2==0)]\n",
        "#and cant be used , we have to use bit wise and"
      ],
      "metadata": {
        "colab": {
          "base_uri": "https://localhost:8080/",
          "height": 159
        },
        "id": "KrI-4yx7MKbm",
        "outputId": "079c182a-283a-4dd9-e29a-c48b5192f810"
      },
      "execution_count": 58,
      "outputs": [
        {
          "output_type": "error",
          "ename": "ValueError",
          "evalue": "The truth value of an array with more than one element is ambiguous. Use a.any() or a.all()",
          "traceback": [
            "\u001b[0;31m---------------------------------------------------------------------------\u001b[0m",
            "\u001b[0;31mValueError\u001b[0m                                Traceback (most recent call last)",
            "\u001b[0;32m<ipython-input-58-612077ec6a9a>\u001b[0m in \u001b[0;36m<cell line: 0>\u001b[0;34m()\u001b[0m\n\u001b[0;32m----> 1\u001b[0;31m \u001b[0ma\u001b[0m\u001b[0;34m[\u001b[0m\u001b[0;34m(\u001b[0m\u001b[0ma\u001b[0m\u001b[0;34m>\u001b[0m\u001b[0;36m50\u001b[0m\u001b[0;34m)\u001b[0m \u001b[0;32mand\u001b[0m \u001b[0;34m(\u001b[0m\u001b[0ma\u001b[0m\u001b[0;34m%\u001b[0m\u001b[0;36m2\u001b[0m\u001b[0;34m==\u001b[0m\u001b[0;36m0\u001b[0m\u001b[0;34m)\u001b[0m\u001b[0;34m]\u001b[0m\u001b[0;34m\u001b[0m\u001b[0;34m\u001b[0m\u001b[0m\n\u001b[0m\u001b[1;32m      2\u001b[0m \u001b[0;31m#and cant be used , we have to use bit wise and\u001b[0m\u001b[0;34m\u001b[0m\u001b[0;34m\u001b[0m\u001b[0m\n",
            "\u001b[0;31mValueError\u001b[0m: The truth value of an array with more than one element is ambiguous. Use a.any() or a.all()"
          ]
        }
      ]
    },
    {
      "cell_type": "code",
      "source": [
        "#find all numbers divisible by 7\n",
        "a[a%7==0]"
      ],
      "metadata": {
        "colab": {
          "base_uri": "https://localhost:8080/"
        },
        "id": "XH8li6DMMbOu",
        "outputId": "a9b8fdd2-b5fe-4cc5-a226-1e42df2e2ed8"
      },
      "execution_count": 59,
      "outputs": [
        {
          "output_type": "execute_result",
          "data": {
            "text/plain": [
              "array([21, 70, 77])"
            ]
          },
          "metadata": {},
          "execution_count": 59
        }
      ]
    },
    {
      "cell_type": "code",
      "source": [
        "#find all numbers not divisible by 7\n",
        "a[a%7!=0]"
      ],
      "metadata": {
        "colab": {
          "base_uri": "https://localhost:8080/"
        },
        "id": "7WIr4aL6MxRX",
        "outputId": "84b53486-4de0-48db-c253-f548dbc92830"
      },
      "execution_count": 60,
      "outputs": [
        {
          "output_type": "execute_result",
          "data": {
            "text/plain": [
              "array([18, 38, 32, 18, 95,  3, 95, 80, 94,  1, 51,  2, 12, 54, 20, 72, 53,\n",
              "       12, 29, 16, 92])"
            ]
          },
          "metadata": {},
          "execution_count": 60
        }
      ]
    },
    {
      "cell_type": "code",
      "source": [
        "a[~(a%7==0)]"
      ],
      "metadata": {
        "colab": {
          "base_uri": "https://localhost:8080/"
        },
        "id": "CsB9HIZaM9WQ",
        "outputId": "aa620de6-4cfd-4cd6-a00a-1fa5e1a983e0"
      },
      "execution_count": 61,
      "outputs": [
        {
          "output_type": "execute_result",
          "data": {
            "text/plain": [
              "array([18, 38, 32, 18, 95,  3, 95, 80, 94,  1, 51,  2, 12, 54, 20, 72, 53,\n",
              "       12, 29, 16, 92])"
            ]
          },
          "metadata": {},
          "execution_count": 61
        }
      ]
    },
    {
      "cell_type": "markdown",
      "source": [
        "# **Broadcasting**\n",
        "it describes how Numpy treates array with different shape during arithmetic operation"
      ],
      "metadata": {
        "id": "IYIKLBDFllEg"
      }
    },
    {
      "cell_type": "code",
      "source": [
        "#same shape\n",
        "a=np.arange(6).reshape(2,3)\n",
        "b=np.arange(6,12).reshape(2,3)\n",
        "print(a)\n",
        "print('\\n')\n",
        "print(b)"
      ],
      "metadata": {
        "colab": {
          "base_uri": "https://localhost:8080/"
        },
        "id": "7wH2pqd7NAcn",
        "outputId": "620d6cc5-181f-4c77-f07f-c5bea9713ed9"
      },
      "execution_count": 66,
      "outputs": [
        {
          "output_type": "stream",
          "name": "stdout",
          "text": [
            "[[0 1 2]\n",
            " [3 4 5]]\n",
            "\n",
            "\n",
            "[[ 6  7  8]\n",
            " [ 9 10 11]]\n"
          ]
        }
      ]
    },
    {
      "cell_type": "code",
      "source": [
        "print(a+b) #item wise addition"
      ],
      "metadata": {
        "colab": {
          "base_uri": "https://localhost:8080/"
        },
        "id": "yy9898mumEP_",
        "outputId": "600f84e9-5662-43ea-c52c-6ff86e248a13"
      },
      "execution_count": 68,
      "outputs": [
        {
          "output_type": "stream",
          "name": "stdout",
          "text": [
            "[[ 6  8 10]\n",
            " [12 14 16]]\n"
          ]
        }
      ]
    },
    {
      "cell_type": "code",
      "source": [
        "#different shape\n",
        "a=np.arange(6).reshape(2,3)\n",
        "b=np.arange(3).reshape(1,3)\n",
        "print(a)\n",
        "print('\\n')\n",
        "print(b)"
      ],
      "metadata": {
        "colab": {
          "base_uri": "https://localhost:8080/"
        },
        "id": "jVltX5CGmIiu",
        "outputId": "748152d9-b22e-46ee-9050-4caf1a847b97"
      },
      "execution_count": 75,
      "outputs": [
        {
          "output_type": "stream",
          "name": "stdout",
          "text": [
            "[[0 1 2]\n",
            " [3 4 5]]\n",
            "\n",
            "\n",
            "[[0 1 2]]\n"
          ]
        }
      ]
    },
    {
      "cell_type": "code",
      "source": [
        "print(a+b)"
      ],
      "metadata": {
        "colab": {
          "base_uri": "https://localhost:8080/"
        },
        "id": "QWnjYCdqmZRl",
        "outputId": "6d116c09-ec85-417a-db3a-fae810c22d34"
      },
      "execution_count": 76,
      "outputs": [
        {
          "output_type": "stream",
          "name": "stdout",
          "text": [
            "[[0 2 4]\n",
            " [3 5 7]]\n"
          ]
        }
      ]
    },
    {
      "cell_type": "code",
      "source": [
        "print"
      ],
      "metadata": {
        "colab": {
          "base_uri": "https://localhost:8080/"
        },
        "id": "TslG-cPWmcg2",
        "outputId": "b3c94a78-f033-45d7-f615-baff09f1f4ab"
      },
      "execution_count": 71,
      "outputs": [
        {
          "output_type": "stream",
          "name": "stdout",
          "text": [
            "[[0 2 4]\n",
            " [3 5 7]]\n"
          ]
        }
      ]
    },
    {
      "cell_type": "code",
      "source": [
        "#here the addition is possible, row one is added to row one"
      ],
      "metadata": {
        "id": "kSNHeHn-mgs7"
      },
      "execution_count": 72,
      "outputs": []
    },
    {
      "cell_type": "code",
      "source": [
        "a=np.arange(6).reshape(2,3)\n",
        "b=np.arange(3).reshape(3,1)\n",
        "print(a)\n",
        "print('\\n')\n",
        "print(b)"
      ],
      "metadata": {
        "colab": {
          "base_uri": "https://localhost:8080/"
        },
        "id": "MKbsFpxrmtfi",
        "outputId": "944ce902-0290-42c0-bc70-118aef9c4e9c"
      },
      "execution_count": 77,
      "outputs": [
        {
          "output_type": "stream",
          "name": "stdout",
          "text": [
            "[[0 1 2]\n",
            " [3 4 5]]\n",
            "\n",
            "\n",
            "[[0]\n",
            " [1]\n",
            " [2]]\n"
          ]
        }
      ]
    },
    {
      "cell_type": "code",
      "source": [
        "print(a+b)"
      ],
      "metadata": {
        "colab": {
          "base_uri": "https://localhost:8080/",
          "height": 141
        },
        "id": "ZEySgksam7QD",
        "outputId": "220e683f-8588-443e-99ea-5ccc5cea81ef"
      },
      "execution_count": 78,
      "outputs": [
        {
          "output_type": "error",
          "ename": "ValueError",
          "evalue": "operands could not be broadcast together with shapes (2,3) (3,1) ",
          "traceback": [
            "\u001b[0;31m---------------------------------------------------------------------------\u001b[0m",
            "\u001b[0;31mValueError\u001b[0m                                Traceback (most recent call last)",
            "\u001b[0;32m<ipython-input-78-85111a3ab660>\u001b[0m in \u001b[0;36m<cell line: 0>\u001b[0;34m()\u001b[0m\n\u001b[0;32m----> 1\u001b[0;31m \u001b[0mprint\u001b[0m\u001b[0;34m(\u001b[0m\u001b[0ma\u001b[0m\u001b[0;34m+\u001b[0m\u001b[0mb\u001b[0m\u001b[0;34m)\u001b[0m\u001b[0;34m\u001b[0m\u001b[0;34m\u001b[0m\u001b[0m\n\u001b[0m",
            "\u001b[0;31mValueError\u001b[0m: operands could not be broadcast together with shapes (2,3) (3,1) "
          ]
        }
      ]
    },
    {
      "cell_type": "code",
      "source": [
        "#no of columns must be equal to perform broadcasting"
      ],
      "metadata": {
        "id": "p3Buwfslm9kY"
      },
      "execution_count": 79,
      "outputs": []
    },
    {
      "cell_type": "code",
      "source": [
        "np.arange(3)+5"
      ],
      "metadata": {
        "colab": {
          "base_uri": "https://localhost:8080/"
        },
        "id": "csf60sgXnHm0",
        "outputId": "5daf2cb3-4e14-45d8-e8bf-3cece250a46a"
      },
      "execution_count": 80,
      "outputs": [
        {
          "output_type": "execute_result",
          "data": {
            "text/plain": [
              "array([5, 6, 7])"
            ]
          },
          "metadata": {},
          "execution_count": 80
        }
      ]
    },
    {
      "cell_type": "code",
      "source": [
        "#here[0+5,1+5,2+5]"
      ],
      "metadata": {
        "id": "VFXcwvTrnS-A"
      },
      "execution_count": 81,
      "outputs": []
    },
    {
      "cell_type": "code",
      "source": [
        "np.ones((3,3))+np.arange(3)"
      ],
      "metadata": {
        "colab": {
          "base_uri": "https://localhost:8080/"
        },
        "id": "oHRrwAkOnZgf",
        "outputId": "3682b2d6-efab-42b4-df7f-94ec450696a5"
      },
      "execution_count": 83,
      "outputs": [
        {
          "output_type": "execute_result",
          "data": {
            "text/plain": [
              "array([[1., 2., 3.],\n",
              "       [1., 2., 3.],\n",
              "       [1., 2., 3.]])"
            ]
          },
          "metadata": {},
          "execution_count": 83
        }
      ]
    },
    {
      "cell_type": "code",
      "source": [
        "#here each row is added with the [0,1,2] respectively elements"
      ],
      "metadata": {
        "id": "JFQ0AMmBnao7"
      },
      "execution_count": 84,
      "outputs": []
    },
    {
      "cell_type": "code",
      "source": [
        "np.arange(3).reshape(3,1)+np.arange(3)"
      ],
      "metadata": {
        "colab": {
          "base_uri": "https://localhost:8080/"
        },
        "id": "yU5_mWktnoMp",
        "outputId": "2d09913a-b46b-4021-dbec-e48fe83f7c9c"
      },
      "execution_count": 85,
      "outputs": [
        {
          "output_type": "execute_result",
          "data": {
            "text/plain": [
              "array([[0, 1, 2],\n",
              "       [1, 2, 3],\n",
              "       [2, 3, 4]])"
            ]
          },
          "metadata": {},
          "execution_count": 85
        }
      ]
    },
    {
      "cell_type": "markdown",
      "source": [
        "# **Broadcasting rules**\n",
        "**Rule-1** - Make the two array have the same number of dimension. If the number of dimension of two arrays are different, add new dimensions with size 1 to the head of the array with the smaller dimension\n",
        "For eg, one d array (3,) and two d array (3,4) then add 1 to head of 1d array i.e (1,3) and for 3-d (1,1,3)\n",
        "\n",
        "**Rule-2** - Make each dimension of the array of same size. If the sizes of each dimension of the two array dont match, dimensions with size 1 are stretched to the size of the other array.\n",
        "If the dimension whose size is not 1 in either of the two arrays, it cannot be broadcasted, and an error is raised.\n",
        "For eg: (3,3) and (5,) to (3,3) and (1,5) now the (1,3) is streached to (3,5)\n"
      ],
      "metadata": {
        "id": "MLBWHrCUn_zq"
      }
    },
    {
      "cell_type": "code",
      "source": [
        "#examples\n",
        "a=np.arange(12).reshape(4,3)\n",
        "b=np.arange(3)\n",
        "print(a)\n",
        "print('\\n')\n",
        "print(b)\n",
        "print('\\n')\n",
        "print(a+b)"
      ],
      "metadata": {
        "colab": {
          "base_uri": "https://localhost:8080/"
        },
        "id": "4DQBHRhmnr5i",
        "outputId": "8a0f7c63-deab-4718-d325-9020a8675a62"
      },
      "execution_count": 87,
      "outputs": [
        {
          "output_type": "stream",
          "name": "stdout",
          "text": [
            "[[ 0  1  2]\n",
            " [ 3  4  5]\n",
            " [ 6  7  8]\n",
            " [ 9 10 11]]\n",
            "\n",
            "\n",
            "[0 1 2]\n",
            "\n",
            "\n",
            "[[ 0  2  4]\n",
            " [ 3  5  7]\n",
            " [ 6  8 10]\n",
            " [ 9 11 13]]\n"
          ]
        }
      ]
    },
    {
      "cell_type": "code",
      "source": [
        "#here (3,) is first converted to (1,3) and then stretched to (4,3)"
      ],
      "metadata": {
        "id": "G7vNdkEFpvdO"
      },
      "execution_count": 88,
      "outputs": []
    },
    {
      "cell_type": "code",
      "source": [
        "#examples\n",
        "a=np.arange(12).reshape(3,4)\n",
        "b=np.arange(3)\n",
        "print(a)\n",
        "print('\\n')\n",
        "print(b)\n",
        "print('\\n')\n",
        "print(a+b)\n",
        "#here (3,4) and (3,) is changed to (1,3) and then stretched to (3,3), which is not of same dimenssion, so error"
      ],
      "metadata": {
        "colab": {
          "base_uri": "https://localhost:8080/",
          "height": 332
        },
        "id": "BHVGJrxfp-CM",
        "outputId": "a03f90fe-8489-41e4-87cd-66af9e35ec20"
      },
      "execution_count": 89,
      "outputs": [
        {
          "output_type": "stream",
          "name": "stdout",
          "text": [
            "[[ 0  1  2  3]\n",
            " [ 4  5  6  7]\n",
            " [ 8  9 10 11]]\n",
            "\n",
            "\n",
            "[0 1 2]\n",
            "\n",
            "\n"
          ]
        },
        {
          "output_type": "error",
          "ename": "ValueError",
          "evalue": "operands could not be broadcast together with shapes (3,4) (3,) ",
          "traceback": [
            "\u001b[0;31m---------------------------------------------------------------------------\u001b[0m",
            "\u001b[0;31mValueError\u001b[0m                                Traceback (most recent call last)",
            "\u001b[0;32m<ipython-input-89-36424343c2a6>\u001b[0m in \u001b[0;36m<cell line: 0>\u001b[0;34m()\u001b[0m\n\u001b[1;32m      6\u001b[0m \u001b[0mprint\u001b[0m\u001b[0;34m(\u001b[0m\u001b[0mb\u001b[0m\u001b[0;34m)\u001b[0m\u001b[0;34m\u001b[0m\u001b[0;34m\u001b[0m\u001b[0m\n\u001b[1;32m      7\u001b[0m \u001b[0mprint\u001b[0m\u001b[0;34m(\u001b[0m\u001b[0;34m'\\n'\u001b[0m\u001b[0;34m)\u001b[0m\u001b[0;34m\u001b[0m\u001b[0;34m\u001b[0m\u001b[0m\n\u001b[0;32m----> 8\u001b[0;31m \u001b[0mprint\u001b[0m\u001b[0;34m(\u001b[0m\u001b[0ma\u001b[0m\u001b[0;34m+\u001b[0m\u001b[0mb\u001b[0m\u001b[0;34m)\u001b[0m\u001b[0;34m\u001b[0m\u001b[0;34m\u001b[0m\u001b[0m\n\u001b[0m\u001b[1;32m      9\u001b[0m \u001b[0;31m#here (3,4) and (3,) is changed to (1,3) and then stretched to (3,3), which is not of same dimenssion, so error\u001b[0m\u001b[0;34m\u001b[0m\u001b[0;34m\u001b[0m\u001b[0m\n",
            "\u001b[0;31mValueError\u001b[0m: operands could not be broadcast together with shapes (3,4) (3,) "
          ]
        }
      ]
    },
    {
      "cell_type": "code",
      "source": [
        "#examples\n",
        "a=np.arange(3).reshape(3,1)\n",
        "b=np.arange(3).reshape(1,3)\n",
        "print(a)\n",
        "print('\\n')\n",
        "print(b)\n",
        "print('\\n')\n",
        "print(a+b)\n",
        "#here (1,3) is stretched to (3,3) and (3,1) is stretched to (3,3) which are of same dimenssion,so broadcasting is possible"
      ],
      "metadata": {
        "colab": {
          "base_uri": "https://localhost:8080/"
        },
        "id": "sNm9ryhQqQ9y",
        "outputId": "6fd02575-8150-4789-872c-92cfc4c9d390"
      },
      "execution_count": 92,
      "outputs": [
        {
          "output_type": "stream",
          "name": "stdout",
          "text": [
            "[[0]\n",
            " [1]\n",
            " [2]]\n",
            "\n",
            "\n",
            "[[0 1 2]]\n",
            "\n",
            "\n",
            "[[0 1 2]\n",
            " [1 2 3]\n",
            " [2 3 4]]\n"
          ]
        }
      ]
    },
    {
      "cell_type": "code",
      "source": [
        "#examples\n",
        "a=np.arange(3).reshape(1,3)\n",
        "b=np.arange(4).reshape(4,1)\n",
        "print(a)\n",
        "print('\\n')\n",
        "print(b)\n",
        "print('\\n')\n",
        "print(a+b)\n",
        "#here (1,3) is stretched to (4,3) and (4,1) is stretched to (4,3), which are of same dimenssion"
      ],
      "metadata": {
        "colab": {
          "base_uri": "https://localhost:8080/"
        },
        "id": "80utAm2Xqddr",
        "outputId": "a190e32b-cbec-4bc4-ace2-8a3d8d83d7e2"
      },
      "execution_count": 95,
      "outputs": [
        {
          "output_type": "stream",
          "name": "stdout",
          "text": [
            "[[0 1 2]]\n",
            "\n",
            "\n",
            "[[0]\n",
            " [1]\n",
            " [2]\n",
            " [3]]\n",
            "\n",
            "\n",
            "[[0 1 2]\n",
            " [1 2 3]\n",
            " [2 3 4]\n",
            " [3 4 5]]\n"
          ]
        }
      ]
    },
    {
      "cell_type": "code",
      "source": [
        "a=np.array([1]) #shape (1,)\n",
        "b=np.arange(4).reshape(2,2)\n",
        "print(a)\n",
        "print('\\n')\n",
        "print(b)\n",
        "print('\\n')\n",
        "print(a+b)\n",
        "#here (1,) is changed into (1,1) and then stretched to (2,2)"
      ],
      "metadata": {
        "colab": {
          "base_uri": "https://localhost:8080/"
        },
        "id": "fUC5SUzaq9U8",
        "outputId": "707baa40-7d59-4fa6-b34b-430db80fadc5"
      },
      "execution_count": 96,
      "outputs": [
        {
          "output_type": "stream",
          "name": "stdout",
          "text": [
            "[1]\n",
            "\n",
            "\n",
            "[[0 1]\n",
            " [2 3]]\n",
            "\n",
            "\n",
            "[[1 2]\n",
            " [3 4]]\n"
          ]
        }
      ]
    },
    {
      "cell_type": "code",
      "source": [
        "a=np.arange(12).reshape(3,4)\n",
        "b=np.arange(12).reshape(4,3)\n",
        "print(a)\n",
        "print('\\n')\n",
        "print(b)\n",
        "print('\\n')\n",
        "print(a+b)\n",
        "#here we cannot stretch because, there is no 1, so broadcasting is not possible"
      ],
      "metadata": {
        "colab": {
          "base_uri": "https://localhost:8080/",
          "height": 384
        },
        "id": "HoCfupMzrvI4",
        "outputId": "59febd11-b378-40d6-bb3e-9f3663124804"
      },
      "execution_count": 97,
      "outputs": [
        {
          "output_type": "stream",
          "name": "stdout",
          "text": [
            "[[ 0  1  2  3]\n",
            " [ 4  5  6  7]\n",
            " [ 8  9 10 11]]\n",
            "\n",
            "\n",
            "[[ 0  1  2]\n",
            " [ 3  4  5]\n",
            " [ 6  7  8]\n",
            " [ 9 10 11]]\n",
            "\n",
            "\n"
          ]
        },
        {
          "output_type": "error",
          "ename": "ValueError",
          "evalue": "operands could not be broadcast together with shapes (3,4) (4,3) ",
          "traceback": [
            "\u001b[0;31m---------------------------------------------------------------------------\u001b[0m",
            "\u001b[0;31mValueError\u001b[0m                                Traceback (most recent call last)",
            "\u001b[0;32m<ipython-input-97-b4d2fa0d98ab>\u001b[0m in \u001b[0;36m<cell line: 0>\u001b[0;34m()\u001b[0m\n\u001b[1;32m      5\u001b[0m \u001b[0mprint\u001b[0m\u001b[0;34m(\u001b[0m\u001b[0mb\u001b[0m\u001b[0;34m)\u001b[0m\u001b[0;34m\u001b[0m\u001b[0;34m\u001b[0m\u001b[0m\n\u001b[1;32m      6\u001b[0m \u001b[0mprint\u001b[0m\u001b[0;34m(\u001b[0m\u001b[0;34m'\\n'\u001b[0m\u001b[0;34m)\u001b[0m\u001b[0;34m\u001b[0m\u001b[0;34m\u001b[0m\u001b[0m\n\u001b[0;32m----> 7\u001b[0;31m \u001b[0mprint\u001b[0m\u001b[0;34m(\u001b[0m\u001b[0ma\u001b[0m\u001b[0;34m+\u001b[0m\u001b[0mb\u001b[0m\u001b[0;34m)\u001b[0m\u001b[0;34m\u001b[0m\u001b[0;34m\u001b[0m\u001b[0m\n\u001b[0m\u001b[1;32m      8\u001b[0m \u001b[0;31m#here we cannot stretch because, there is no 1, so broadcasting is not possible\u001b[0m\u001b[0;34m\u001b[0m\u001b[0;34m\u001b[0m\u001b[0m\n",
            "\u001b[0;31mValueError\u001b[0m: operands could not be broadcast together with shapes (3,4) (4,3) "
          ]
        }
      ]
    },
    {
      "cell_type": "markdown",
      "source": [
        "# **Working with mathematical functions**"
      ],
      "metadata": {
        "id": "E_QhmBc4sVBH"
      }
    },
    {
      "cell_type": "code",
      "source": [
        "#sigmoid\n",
        "a=np.arange(6)\n",
        "np.sum(a)"
      ],
      "metadata": {
        "colab": {
          "base_uri": "https://localhost:8080/"
        },
        "id": "cvvfV3GesLWF",
        "outputId": "fd8882b3-d72a-4621-c948-6d1efa42e403"
      },
      "execution_count": 99,
      "outputs": [
        {
          "output_type": "execute_result",
          "data": {
            "text/plain": [
              "np.int64(15)"
            ]
          },
          "metadata": {},
          "execution_count": 99
        }
      ]
    },
    {
      "cell_type": "code",
      "source": [
        "np.sin(a)"
      ],
      "metadata": {
        "colab": {
          "base_uri": "https://localhost:8080/"
        },
        "id": "moJjEfCMsaE5",
        "outputId": "2f28cb27-410f-4e97-e419-3a88ea5f283d"
      },
      "execution_count": 100,
      "outputs": [
        {
          "output_type": "execute_result",
          "data": {
            "text/plain": [
              "array([ 0.        ,  0.84147098,  0.90929743,  0.14112001, -0.7568025 ,\n",
              "       -0.95892427])"
            ]
          },
          "metadata": {},
          "execution_count": 100
        }
      ]
    },
    {
      "cell_type": "code",
      "source": [
        "#sigmoid\n",
        "a=np.arange(10)\n",
        "def sigmoid(array):\n",
        "  return 1/(1+np.exp(-array))\n",
        "sigmoid(a)"
      ],
      "metadata": {
        "colab": {
          "base_uri": "https://localhost:8080/"
        },
        "id": "SuJIan4AswjR",
        "outputId": "d946ec21-6750-41e9-f931-4c6b09eb14c9"
      },
      "execution_count": 102,
      "outputs": [
        {
          "output_type": "execute_result",
          "data": {
            "text/plain": [
              "array([0.5       , 0.73105858, 0.88079708, 0.95257413, 0.98201379,\n",
              "       0.99330715, 0.99752738, 0.99908895, 0.99966465, 0.99987661])"
            ]
          },
          "metadata": {},
          "execution_count": 102
        }
      ]
    },
    {
      "cell_type": "markdown",
      "source": [
        "**Mean Squared Error**"
      ],
      "metadata": {
        "id": "LmLVy8tdyfq8"
      }
    },
    {
      "cell_type": "code",
      "source": [
        "actual=np.random.randint(1,50,25)\n",
        "predicted=np.random.randint(1,50,25)"
      ],
      "metadata": {
        "id": "4RCVHmfZszgl"
      },
      "execution_count": 112,
      "outputs": []
    },
    {
      "cell_type": "code",
      "source": [
        "actual"
      ],
      "metadata": {
        "colab": {
          "base_uri": "https://localhost:8080/"
        },
        "id": "uPu8KvF2y2W9",
        "outputId": "c4b3eb39-ac64-49b5-edb1-4e72cd000162"
      },
      "execution_count": 113,
      "outputs": [
        {
          "output_type": "execute_result",
          "data": {
            "text/plain": [
              "array([26,  7, 27, 17, 37,  9, 12, 24,  4, 44, 13,  7,  3, 14, 48, 12, 27,\n",
              "        6, 46, 25, 17, 18, 44, 23, 44])"
            ]
          },
          "metadata": {},
          "execution_count": 113
        }
      ]
    },
    {
      "cell_type": "code",
      "source": [
        "predicted"
      ],
      "metadata": {
        "colab": {
          "base_uri": "https://localhost:8080/"
        },
        "id": "QJDR09diy3CM",
        "outputId": "61d8f331-1def-4e6d-f187-e3c251cf52c0"
      },
      "execution_count": 114,
      "outputs": [
        {
          "output_type": "execute_result",
          "data": {
            "text/plain": [
              "array([48, 47, 47, 14,  8, 12,  8,  1, 37, 20, 39, 36, 44, 31,  6, 49, 13,\n",
              "       44,  3, 45,  4, 19, 31,  3,  8])"
            ]
          },
          "metadata": {},
          "execution_count": 114
        }
      ]
    },
    {
      "cell_type": "code",
      "source": [
        "def mse(actual,predicted):\n",
        "  return np.mean((actual-predicted)**2)\n",
        "  #mse=(actual-predicted)^2\n",
        "mse(actual,predicted)"
      ],
      "metadata": {
        "colab": {
          "base_uri": "https://localhost:8080/"
        },
        "id": "ghj2tWMEy4bn",
        "outputId": "b568f5a7-4437-43c0-d67d-14559024702e"
      },
      "execution_count": 115,
      "outputs": [
        {
          "output_type": "execute_result",
          "data": {
            "text/plain": [
              "np.float64(723.88)"
            ]
          },
          "metadata": {},
          "execution_count": 115
        }
      ]
    },
    {
      "cell_type": "code",
      "source": [
        "#here the least sum of square error is 723.88"
      ],
      "metadata": {
        "id": "vaI0-aBRzhXM"
      },
      "execution_count": 109,
      "outputs": []
    },
    {
      "cell_type": "code",
      "source": [
        "#categorical cross entropy\n",
        "def cce(actual,predicted):\n",
        "  return((1/len(actual))*np.sum(-actual*np.log(predicted)),(1-actual)*np.log(1-predicted))"
      ],
      "metadata": {
        "id": "vfQxqBkG0EIu"
      },
      "execution_count": 118,
      "outputs": []
    },
    {
      "cell_type": "code",
      "source": [
        "cce(actual,predicted)"
      ],
      "metadata": {
        "colab": {
          "base_uri": "https://localhost:8080/"
        },
        "id": "JEKeaYua3M5f",
        "outputId": "d9b0c69f-7bef-47b9-bcab-2bd7b70e1e09"
      },
      "execution_count": 119,
      "outputs": [
        {
          "output_type": "stream",
          "name": "stderr",
          "text": [
            "<ipython-input-118-43e39a2cf108>:3: RuntimeWarning: divide by zero encountered in log\n",
            "  return((1/len(actual))*np.sum(-actual*np.log(predicted)),(1-actual)*np.log(1-predicted))\n",
            "<ipython-input-118-43e39a2cf108>:3: RuntimeWarning: invalid value encountered in log\n",
            "  return((1/len(actual))*np.sum(-actual*np.log(predicted)),(1-actual)*np.log(1-predicted))\n"
          ]
        },
        {
          "output_type": "execute_result",
          "data": {
            "text/plain": [
              "(np.float64(-55.754635178755365),\n",
              " array([nan, nan, nan, nan, nan, nan, nan, inf, nan, nan, nan, nan, nan,\n",
              "        nan, nan, nan, nan, nan, nan, nan, nan, nan, nan, nan, nan]))"
            ]
          },
          "metadata": {},
          "execution_count": 119
        }
      ]
    },
    {
      "cell_type": "code",
      "source": [
        "#here the error is encountered due to divide by zero condition, which can be removed as\n",
        "\n",
        "def cce(actual, predicted):\n",
        "    try:\n",
        "        epsilon = 1e-15  # to avoid log(0)\n",
        "        predicted = np.clip(predicted, epsilon, 1 - epsilon)\n",
        "        return -np.mean(actual * np.log(predicted) + (1 - actual) * np.log(1 - predicted))\n",
        "    except Exception as e:\n",
        "        print(f\"Error occurred: {e}\")\n",
        "        return None\n",
        "cce(actual,predicted)"
      ],
      "metadata": {
        "colab": {
          "base_uri": "https://localhost:8080/"
        },
        "id": "O4yIGKTg3Pa1",
        "outputId": "44b88a41-336f-4a1a-c577-b7231b518853"
      },
      "execution_count": 122,
      "outputs": [
        {
          "output_type": "execute_result",
          "data": {
            "text/plain": [
              "np.float64(-730.857427997933)"
            ]
          },
          "metadata": {},
          "execution_count": 122
        }
      ]
    },
    {
      "cell_type": "markdown",
      "source": [
        "# **Working with missing values**"
      ],
      "metadata": {
        "id": "aDumb_1M4eQv"
      }
    },
    {
      "cell_type": "code",
      "source": [
        "a=np.array([1,2,3,4,np.nan,6])\n",
        "a"
      ],
      "metadata": {
        "colab": {
          "base_uri": "https://localhost:8080/"
        },
        "id": "8OolUP654TuZ",
        "outputId": "efbcda5f-96ff-4c0c-fd2c-649ec45a3b4f"
      },
      "execution_count": 125,
      "outputs": [
        {
          "output_type": "execute_result",
          "data": {
            "text/plain": [
              "array([ 1.,  2.,  3.,  4., nan,  6.])"
            ]
          },
          "metadata": {},
          "execution_count": 125
        }
      ]
    },
    {
      "cell_type": "code",
      "source": [
        "#where np.nan indicated missing value"
      ],
      "metadata": {
        "id": "xW5ZFhr24oPT"
      },
      "execution_count": 126,
      "outputs": []
    },
    {
      "cell_type": "code",
      "source": [
        "#boolean indexing is used\n",
        "np.isnan(a) #to check weather there is missing value"
      ],
      "metadata": {
        "colab": {
          "base_uri": "https://localhost:8080/"
        },
        "id": "JlpXIYpV4om4",
        "outputId": "53d66942-897d-4661-80cd-d897eafd3e9d"
      },
      "execution_count": 128,
      "outputs": [
        {
          "output_type": "execute_result",
          "data": {
            "text/plain": [
              "array([False, False, False, False,  True, False])"
            ]
          },
          "metadata": {},
          "execution_count": 128
        }
      ]
    },
    {
      "cell_type": "code",
      "source": [
        "a[np.isnan(a)] #getting only the missing value"
      ],
      "metadata": {
        "colab": {
          "base_uri": "https://localhost:8080/"
        },
        "id": "7zbl8ZMm5g6_",
        "outputId": "e2199cd2-d7f5-4888-9ab0-428bce416234"
      },
      "execution_count": 131,
      "outputs": [
        {
          "output_type": "execute_result",
          "data": {
            "text/plain": [
              "array([nan])"
            ]
          },
          "metadata": {},
          "execution_count": 131
        }
      ]
    },
    {
      "cell_type": "code",
      "source": [
        "a[~np.isnan(a)] #getting only the non missing value"
      ],
      "metadata": {
        "colab": {
          "base_uri": "https://localhost:8080/"
        },
        "id": "t1xV7dpU5NPm",
        "outputId": "c8f55bcd-12a2-47ea-db00-bca0b8dd22e5"
      },
      "execution_count": 130,
      "outputs": [
        {
          "output_type": "execute_result",
          "data": {
            "text/plain": [
              "array([1., 2., 3., 4., 6.])"
            ]
          },
          "metadata": {},
          "execution_count": 130
        }
      ]
    },
    {
      "cell_type": "markdown",
      "source": [
        "Plotting graph"
      ],
      "metadata": {
        "id": "LrcwuiWM5psT"
      }
    },
    {
      "cell_type": "code",
      "source": [
        "#plotting a 2d plot\n",
        "#x=y\n",
        "import matplotlib.pyplot as plt\n",
        "x=np.linspace(-10,10,100)\n",
        "y=x\n",
        "plt.plot(x,y)"
      ],
      "metadata": {
        "colab": {
          "base_uri": "https://localhost:8080/",
          "height": 447
        },
        "id": "uqFjkC1I5X0Z",
        "outputId": "254b02df-e9d2-4348-b350-a1e8f2ddce2b"
      },
      "execution_count": 136,
      "outputs": [
        {
          "output_type": "execute_result",
          "data": {
            "text/plain": [
              "[<matplotlib.lines.Line2D at 0x7ba5e372eb10>]"
            ]
          },
          "metadata": {},
          "execution_count": 136
        },
        {
          "output_type": "display_data",
          "data": {
            "text/plain": [
              "<Figure size 640x480 with 1 Axes>"
            ],
            "image/png": "[encoded data removed]"
          },
          "metadata": {}
        }
      ]
    },
    {
      "cell_type": "code",
      "source": [
        "#y=x^2\n",
        "x=np.linspace(-10,10,100)\n",
        "y=x**2\n",
        "plt.plot(x,y)"
      ],
      "metadata": {
        "colab": {
          "base_uri": "https://localhost:8080/",
          "height": 447
        },
        "id": "KXc7CHVy54ps",
        "outputId": "cac9ad17-2e35-4c79-b7b1-cb3f7419967e"
      },
      "execution_count": 137,
      "outputs": [
        {
          "output_type": "execute_result",
          "data": {
            "text/plain": [
              "[<matplotlib.lines.Line2D at 0x7ba5e34c6310>]"
            ]
          },
          "metadata": {},
          "execution_count": 137
        },
        {
          "output_type": "display_data",
          "data": {
            "text/plain": [
              "<Figure size 640x480 with 1 Axes>"
            ],
            "image/png": "[encoded data removed]"
          },
          "metadata": {}
        }
      ]
    },
    {
      "cell_type": "code",
      "source": [
        "#y=sin(x)\n",
        "x=np.linspace(-10,10,100)\n",
        "y=np.log(x)\n",
        "plt.plot(x,y)"
      ],
      "metadata": {
        "colab": {
          "base_uri": "https://localhost:8080/",
          "height": 482
        },
        "id": "5wcN7IJ56PF3",
        "outputId": "ad3f181f-4b94-4e3d-e93d-5c409cb8bee5"
      },
      "execution_count": 138,
      "outputs": [
        {
          "output_type": "stream",
          "name": "stderr",
          "text": [
            "<ipython-input-138-69f3d287a07a>:3: RuntimeWarning: invalid value encountered in log\n",
            "  y=np.log(x)\n"
          ]
        },
        {
          "output_type": "execute_result",
          "data": {
            "text/plain": [
              "[<matplotlib.lines.Line2D at 0x7ba5e3196890>]"
            ]
          },
          "metadata": {},
          "execution_count": 138
        },
        {
          "output_type": "display_data",
          "data": {
            "text/plain": [
              "<Figure size 640x480 with 1 Axes>"
            ],
            "image/png": "[encoded data removed]"
          },
          "metadata": {}
        }
      ]
    },
    {
      "cell_type": "code",
      "source": [
        "#y=xlog(x)\n",
        "x=np.linspace(-10,10,100)\n",
        "y=x*np.log(x)\n",
        "plt.plot(x,y)"
      ],
      "metadata": {
        "colab": {
          "base_uri": "https://localhost:8080/",
          "height": 482
        },
        "id": "v7kYspdr6Xob",
        "outputId": "21396652-92c0-4358-bb0a-78ae854720a1"
      },
      "execution_count": 139,
      "outputs": [
        {
          "output_type": "stream",
          "name": "stderr",
          "text": [
            "<ipython-input-139-49d258450498>:3: RuntimeWarning: invalid value encountered in log\n",
            "  y=x*np.log(x)\n"
          ]
        },
        {
          "output_type": "execute_result",
          "data": {
            "text/plain": [
              "[<matplotlib.lines.Line2D at 0x7ba5e08c2510>]"
            ]
          },
          "metadata": {},
          "execution_count": 139
        },
        {
          "output_type": "display_data",
          "data": {
            "text/plain": [
              "<Figure size 640x480 with 1 Axes>"
            ],
            "image/png": "[encoded data removed]"
          },
          "metadata": {}
        }
      ]
    },
    {
      "cell_type": "code",
      "source": [
        "#sigmoid\n",
        "x=np.linspace(-10,10,100)\n",
        "y=1/(1+np.exp(-x))\n",
        "plt.plot(x,y)"
      ],
      "metadata": {
        "colab": {
          "base_uri": "https://localhost:8080/",
          "height": 447
        },
        "id": "1mX8bTFv6h0X",
        "outputId": "6bb1b8c6-a286-43ed-d14c-cac262b1c00c"
      },
      "execution_count": 140,
      "outputs": [
        {
          "output_type": "execute_result",
          "data": {
            "text/plain": [
              "[<matplotlib.lines.Line2D at 0x7ba5e2d8eb50>]"
            ]
          },
          "metadata": {},
          "execution_count": 140
        },
        {
          "output_type": "display_data",
          "data": {
            "text/plain": [
              "<Figure size 640x480 with 1 Axes>"
            ],
            "image/png": "[encoded data removed]"
          },
          "metadata": {}
        }
      ]
    },
    {
      "cell_type": "code",
      "source": [],
      "metadata": {
        "id": "na_Ruem560aH"
      },
      "execution_count": null,
      "outputs": []
    }
  ]
}